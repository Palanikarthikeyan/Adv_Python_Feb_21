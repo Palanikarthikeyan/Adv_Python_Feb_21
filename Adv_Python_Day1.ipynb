{
 "cells": [
  {
   "cell_type": "code",
   "execution_count": 2,
   "metadata": {},
   "outputs": [
    {
     "name": "stdout",
     "output_type": "stream",
     "text": [
      "5\n",
      "5\n"
     ]
    }
   ],
   "source": [
    "# procedure style -- (1)\n",
    "# functional style -- (2)\n",
    "# object  oriented design style -- (3)\n",
    "\n",
    "# in python - class <--->object\n",
    "# ---------\n",
    "# types - int float str bool bytes list tuple dict set //class\n",
    "#  |zz\n",
    "# values   10  10.5  'a' True //object\n",
    "\n",
    "a=5 # a | 5 | 0x01224\n",
    "    # |  |__Value - 5 is belongs to int (type)\n",
    "    # |_variable\n",
    "    \n",
    "b=int(5) # oops style - int class -> int() //constructor \n",
    "print(a)\n",
    "print(b)"
   ]
  },
  {
   "cell_type": "code",
   "execution_count": 3,
   "metadata": {},
   "outputs": [
    {
     "name": "stdout",
     "output_type": "stream",
     "text": [
      "Hello\n"
     ]
    }
   ],
   "source": [
    "a=5\n",
    "a=\"Hello\"\n",
    "print(a)"
   ]
  },
  {
   "cell_type": "code",
   "execution_count": null,
   "metadata": {},
   "outputs": [],
   "source": [
    "# New to python\n",
    "# -----------------\n",
    "#  step 1:  understand the topic definition( what is _______?)\n",
    "#  step 2:  understand the syntax (Rules)\n",
    "#  step 3:  Examples \n",
    "#  step 4:  Exercise (activity)"
   ]
  },
  {
   "cell_type": "code",
   "execution_count": 4,
   "metadata": {},
   "outputs": [
    {
     "name": "stdout",
     "output_type": "stream",
     "text": [
      "root\n",
      "DBA\n",
      "10.20.30.40\n",
      "56\n",
      "1.45\n",
      "True\n"
     ]
    }
   ],
   "source": [
    "# Variable\n",
    "# -----------\n",
    "# what is variable ?  - namesapce - it's holding the value \n",
    "# Sytnax:-\n",
    "# ---------\n",
    "# variablename = value \n",
    "# ------------\n",
    "#  |__ startswith A-Za-z_ (not starts with digits) ; not allowed space and special\n",
    "#  \n",
    "name=\"root\"    # name  | root | 0x2344\n",
    "Dept = 'DBA'\n",
    "IP = '10.20.30.40'\n",
    "count=56       # count | 56 |0x5455\n",
    "F=1.45\n",
    "status=True\n",
    "\n",
    "print(name)\n",
    "print(Dept)\n",
    "print(IP)\n",
    "print(count)\n",
    "print(F)\n",
    "print(status)"
   ]
  },
  {
   "cell_type": "code",
   "execution_count": 9,
   "metadata": {},
   "outputs": [
    {
     "name": "stdout",
     "output_type": "stream",
     "text": [
      "<class 'int'>\n",
      "<class 'int'>\n",
      "<class 'bool'>\n",
      "<class 'str'>\n"
     ]
    }
   ],
   "source": [
    "# type() - determine python type\n",
    "# type(variable/Value)\n",
    "\n",
    "print(type(10))\n",
    "a=56\n",
    "print(type(a))\n",
    "print(type(True))\n",
    "print(type(''))"
   ]
  },
  {
   "cell_type": "code",
   "execution_count": 11,
   "metadata": {},
   "outputs": [
    {
     "name": "stdout",
     "output_type": "stream",
     "text": [
      "5 <class 'str'>\n"
     ]
    }
   ],
   "source": [
    "print(len('a5^ H'),type('a5^ H'))"
   ]
  },
  {
   "cell_type": "code",
   "execution_count": 12,
   "metadata": {},
   "outputs": [
    {
     "name": "stdout",
     "output_type": "stream",
     "text": [
      "data1\n",
      "data2\n",
      "data3\n",
      "data4\n",
      "DATA1\n",
      "DATA2\n",
      "DATA3\n",
      "DATA4\n",
      "\n"
     ]
    }
   ],
   "source": [
    "print(\"data1\\ndata2\\ndata3\\ndata4\")\n",
    "print(\"\"\"DATA1\n",
    "DATA2\n",
    "DATA3\n",
    "DATA4\n",
    "\"\"\")"
   ]
  },
  {
   "cell_type": "code",
   "execution_count": 16,
   "metadata": {},
   "outputs": [
    {
     "name": "stdout",
     "output_type": "stream",
     "text": [
      "v1 value is: 134 \n",
      "V2 value: 45.56 \n",
      "V3 value: data\n",
      "\n",
      "v1 value is:134\n",
      "v2 value:45.560\n",
      "v3 value:data\n",
      "\n",
      "v1 value is:134\n",
      "v2 value:45.56\n",
      " v3 value:data\n"
     ]
    }
   ],
   "source": [
    "v1=134\n",
    "v2=45.56\n",
    "v3='data'\n",
    "\n",
    "print(\"v1 value is:\",v1,\"\\nV2 value:\",v2,\"\\nV3 value:\",v3) ##(1)\n",
    "print(\"\") # empty line\n",
    "print(\"v1 value is:%d\\nv2 value:%0.3f\\nv3 value:%s\"%(v1,v2,v3)) ##(2)\n",
    "print(\"\") # empty line\n",
    "print(\"v1 value is:{}\\nv2 value:{}\\n v3 value:{}\".format(v1,v2,v3)) ##(3)"
   ]
  },
  {
   "cell_type": "code",
   "execution_count": null,
   "metadata": {},
   "outputs": [],
   "source": [
    "# Task1 \n",
    "# --------\n",
    "# declare and intialize value about filesystem details \n",
    "# partition (ex: /dev/sda1)\n",
    "# filesystem type (ex: xfs)\n",
    "# mount point  (ex: /D1)\n",
    "# psize (ex:456GB)\n",
    "\n",
    "# use print() - display file system details line by line"
   ]
  },
  {
   "cell_type": "code",
   "execution_count": 22,
   "metadata": {},
   "outputs": [
    {
     "name": "stdout",
     "output_type": "stream",
     "text": [
      "Partition name:/dev/sda1\n",
      "----------------------------\n",
      "File System Type:xfs\n",
      "-----------------------------\n",
      "File Mount Point:/D1\n",
      "------------------------------\n",
      "File Size:120GB\n",
      "------------------------------\n",
      "\n"
     ]
    }
   ],
   "source": [
    "partition='/dev/sda1'\n",
    "fstype='xfs'\n",
    "fmount='/D1'\n",
    "fsize=120\n",
    "print(\"\"\"Partition name:{}\n",
    "----------------------------\n",
    "File System Type:{}\n",
    "-----------------------------\n",
    "File Mount Point:{}\n",
    "------------------------------\n",
    "File Size:{}GB\n",
    "------------------------------\n",
    "\"\"\".format(partition,fstype,fmount,fsize))"
   ]
  },
  {
   "cell_type": "code",
   "execution_count": 21,
   "metadata": {},
   "outputs": [
    {
     "name": "stdout",
     "output_type": "stream",
     "text": [
      "<class 'str'> <class 'str'>\n"
     ]
    }
   ],
   "source": [
    "print(type(''),type(\"\"))"
   ]
  },
  {
   "cell_type": "code",
   "execution_count": 30,
   "metadata": {},
   "outputs": [
    {
     "name": "stdout",
     "output_type": "stream",
     "text": [
      "60.0\n"
     ]
    },
    {
     "data": {
      "text/plain": [
       "True"
      ]
     },
     "execution_count": 30,
     "metadata": {},
     "output_type": "execute_result"
    }
   ],
   "source": [
    "# typecasting \n",
    "# ------------\n",
    "# int float str bytes bool NoneType <== Scalar (Single data)\n",
    "#                       |    |__ None \n",
    "#                       |__True/False\n",
    "\n",
    "n=60 # int \n",
    "print(float(n))\n",
    "str(n)\n",
    "bool(n)"
   ]
  },
  {
   "cell_type": "code",
   "execution_count": 39,
   "metadata": {},
   "outputs": [
    {
     "name": "stdout",
     "output_type": "stream",
     "text": [
      "<class 'str'> <class 'bytes'>\n"
     ]
    },
    {
     "data": {
      "text/plain": [
       "bytes"
      ]
     },
     "execution_count": 39,
     "metadata": {},
     "output_type": "execute_result"
    }
   ],
   "source": [
    "s='abc' # string\n",
    "v=b'abc' # bytes # python 3.x version \n",
    "\n",
    "print(type(s),type(v))\n",
    "type(b'')"
   ]
  },
  {
   "cell_type": "code",
   "execution_count": 33,
   "metadata": {},
   "outputs": [
    {
     "name": "stdout",
     "output_type": "stream",
     "text": [
      "False <class 'int'>\n",
      "False <class 'float'>\n",
      "False <class 'str'>\n",
      "False <class 'bytes'>\n",
      "False <class 'list'>\n",
      "False <class 'tuple'>\n",
      "False <class 'dict'>\n",
      "False <class 'NoneType'>\n"
     ]
    }
   ],
   "source": [
    "print(bool(0),type(0))\n",
    "print(bool(0.0),type(0.0))\n",
    "print(bool(''),type(''))\n",
    "print(bool(b''),type(b''))\n",
    "print(bool([]),type([]))\n",
    "print(bool(()),type(()))\n",
    "print(bool({}),type({}))\n",
    "print(bool(None),type(None))\n"
   ]
  },
  {
   "cell_type": "code",
   "execution_count": 36,
   "metadata": {},
   "outputs": [
    {
     "data": {
      "text/plain": [
       "<re.Match object; span=(11, 15), match='bash'>"
      ]
     },
     "execution_count": 36,
     "metadata": {},
     "output_type": "execute_result"
    }
   ],
   "source": [
    "import re\n",
    "re.search(\"bash\",\"root:x:bin:bash:0\")"
   ]
  },
  {
   "cell_type": "code",
   "execution_count": 37,
   "metadata": {},
   "outputs": [
    {
     "data": {
      "text/plain": [
       "True"
      ]
     },
     "execution_count": 37,
     "metadata": {},
     "output_type": "execute_result"
    }
   ],
   "source": [
    "bool(re.search(\"bash\",\"root:x:bin:bash:0\"))"
   ]
  },
  {
   "cell_type": "code",
   "execution_count": 44,
   "metadata": {},
   "outputs": [
    {
     "name": "stdout",
     "output_type": "stream",
     "text": [
      "True section\n",
      "bash is matched\n"
     ]
    }
   ],
   "source": [
    "if(re.search(\"bash\",\"root:x:bin:bash:0\")):\n",
    "    print(\"True section\")\n",
    "    print(\"bash is matched\")\n",
    "else:\n",
    "    print(\"Not-MAtched\")"
   ]
  },
  {
   "cell_type": "code",
   "execution_count": 43,
   "metadata": {},
   "outputs": [
    {
     "data": {
      "text/plain": [
       "False"
      ]
     },
     "execution_count": 43,
     "metadata": {},
     "output_type": "execute_result"
    }
   ],
   "source": [
    "bool(re.search(\"bash\",\"root:x:bin:ksh:0\"))"
   ]
  },
  {
   "cell_type": "code",
   "execution_count": 45,
   "metadata": {},
   "outputs": [
    {
     "data": {
      "text/plain": [
       "True"
      ]
     },
     "execution_count": 45,
     "metadata": {},
     "output_type": "execute_result"
    }
   ],
   "source": [
    "# in not in - membership operators (str,bytes,list,tuple,dict,set)\n",
    "\n",
    "\"bash\" in \"root:x:bin:bash\" Vs  re.search(\"bash\",\"root:x:bin:bash\")\n",
    "                                |__ Regx ^ $ ^bash$ + {} "
   ]
  },
  {
   "cell_type": "code",
   "execution_count": 53,
   "metadata": {},
   "outputs": [
    {
     "name": "stdout",
     "output_type": "stream",
     "text": [
      "56.0\n",
      "<class 'int'> 56\n",
      "<class 'float'> 56.0\n",
      "56.0 <class 'str'>\n"
     ]
    }
   ],
   "source": [
    "n=56\n",
    "print(float(n))\n",
    "print(type(n),n)\n",
    "n=float(n)\n",
    "print(type(n),n)\n",
    "s=str(n)\n",
    "print(s,type(s))"
   ]
  },
  {
   "cell_type": "code",
   "execution_count": 56,
   "metadata": {},
   "outputs": [
    {
     "name": "stdout",
     "output_type": "stream",
     "text": [
      "File Size is: 150 GB\n",
      "File Size is:150GB\n"
     ]
    }
   ],
   "source": [
    "fsize=150\n",
    "print(\"File Size is:\",fsize,\"GB\")\n",
    "print(\"File Size is:\"+str(fsize)+\"GB\")"
   ]
  },
  {
   "cell_type": "code",
   "execution_count": 62,
   "metadata": {},
   "outputs": [
    {
     "data": {
      "text/plain": [
       "2489.3202000000006"
      ]
     },
     "execution_count": 62,
     "metadata": {},
     "output_type": "execute_result"
    }
   ],
   "source": [
    "cost=\"4567.56\"\n",
    "float(cost)*0.545"
   ]
  },
  {
   "cell_type": "code",
   "execution_count": 59,
   "metadata": {},
   "outputs": [
    {
     "name": "stdout",
     "output_type": "stream",
     "text": [
      "456 456.0\n"
     ]
    }
   ],
   "source": [
    "s1=\"456\"\n",
    "i=int(s1)\n",
    "f=float(s1)\n",
    "print(i,f)"
   ]
  },
  {
   "cell_type": "code",
   "execution_count": 67,
   "metadata": {},
   "outputs": [
    {
     "name": "stdout",
     "output_type": "stream",
     "text": [
      "Non-digits\n"
     ]
    }
   ],
   "source": [
    "s2=\"abc\"\n",
    "#int(s2) # Error \n",
    "s2.isdigit()\n",
    "\"12345\".isdigit()\n",
    "\n",
    "s1=\"456F\"\n",
    "if s1.isdigit():\n",
    "    r=int(s1)+1345\n",
    "    print(r)\n",
    "else:\n",
    "    print(\"Non-digits\")"
   ]
  },
  {
   "cell_type": "code",
   "execution_count": 72,
   "metadata": {},
   "outputs": [
    {
     "data": {
      "text/plain": [
       "'1340Rs'"
      ]
     },
     "execution_count": 72,
     "metadata": {},
     "output_type": "execute_result"
    }
   ],
   "source": [
    "s1=\"560\"\n",
    "s2=\"545\"\n",
    "s3=\"235\"\n",
    "str(int(s1)+int(s2)+int(s3))+\"Rs\"\n",
    "   #------- ======== -----\n",
    "   # 1340\n",
    "   #  |\n",
    "   # '1340'+\"Rs\" ->'str'"
   ]
  },
  {
   "cell_type": "code",
   "execution_count": 73,
   "metadata": {},
   "outputs": [
    {
     "data": {
      "text/plain": [
       "130"
      ]
     },
     "execution_count": 73,
     "metadata": {},
     "output_type": "execute_result"
    }
   ],
   "source": [
    "10+20*5+20"
   ]
  },
  {
   "cell_type": "code",
   "execution_count": 74,
   "metadata": {},
   "outputs": [
    {
     "data": {
      "text/plain": [
       "510"
      ]
     },
     "execution_count": 74,
     "metadata": {},
     "output_type": "execute_result"
    }
   ],
   "source": [
    "10+20*(5+20)"
   ]
  },
  {
   "cell_type": "code",
   "execution_count": null,
   "metadata": {},
   "outputs": [],
   "source": [
    "input() ------------ PythonScript-------------------print()\n",
    "Keyboard                                           Monitor (STDOUT/STDERR)\n",
    "<STDIN>\n",
    "\n",
    "Syntax:-\n",
    "==========\n",
    "variable=input(\"PromptMessage\") # in bash script  read -p \"promptMessage\" var\n",
    "|              |---STDOUT----|\n",
    "<STDIN>"
   ]
  },
  {
   "cell_type": "code",
   "execution_count": 75,
   "metadata": {},
   "outputs": [
    {
     "name": "stdout",
     "output_type": "stream",
     "text": [
      "Enter a filesystem name:xfs\n",
      "input file system name is:xfs\n"
     ]
    }
   ],
   "source": [
    "fstype=input(\"Enter a filesystem name:\")\n",
    "print(\"input file system name is:{}\".format(fstype))"
   ]
  },
  {
   "cell_type": "code",
   "execution_count": 76,
   "metadata": {},
   "outputs": [
    {
     "name": "stdout",
     "output_type": "stream",
     "text": [
      "Enter a filesystem name:ext4\n",
      "input file system name is:ext4\n"
     ]
    }
   ],
   "source": [
    "fstype=input(\"Enter a filesystem name:\")\n",
    "print(\"input file system name is:{}\".format(fstype))"
   ]
  },
  {
   "cell_type": "code",
   "execution_count": 78,
   "metadata": {},
   "outputs": [
    {
     "name": "stdout",
     "output_type": "stream",
     "text": [
      "Enter N value:56\n",
      "<class 'str'> 56\n"
     ]
    },
    {
     "data": {
      "text/plain": [
       "'56'"
      ]
     },
     "execution_count": 78,
     "metadata": {},
     "output_type": "execute_result"
    }
   ],
   "source": [
    "n=input(\"Enter N value:\")\n",
    "print(type(n),n)\n",
    "n"
   ]
  },
  {
   "cell_type": "code",
   "execution_count": 79,
   "metadata": {},
   "outputs": [
    {
     "name": "stdout",
     "output_type": "stream",
     "text": [
      "Enter N value:56\n",
      "156\n"
     ]
    }
   ],
   "source": [
    "n=input(\"Enter N value:\")\n",
    "n=int(n)\n",
    "print(n+100)"
   ]
  },
  {
   "cell_type": "code",
   "execution_count": 80,
   "metadata": {},
   "outputs": [
    {
     "name": "stdout",
     "output_type": "stream",
     "text": [
      "Enter N value:56\n",
      "156\n"
     ]
    }
   ],
   "source": [
    "n=int(input(\"Enter N value:\"))\n",
    "print(n+100)"
   ]
  },
  {
   "cell_type": "code",
   "execution_count": null,
   "metadata": {},
   "outputs": [],
   "source": [
    "# operators \n",
    "# ---------------\n",
    "# + - * / // % ** (int,float)  -> int/float \n",
    "# + *             (int,str) --> str\n",
    "# == != < <= > >= (int,float,str) -> bool(True/False)\n",
    "# and or not      (int,float,str) -> bool(True/False)\n",
    "# in not in -->(str,list,tuple,dict,set) -> bool(True/False)\n"
   ]
  },
  {
   "cell_type": "code",
   "execution_count": 95,
   "metadata": {},
   "outputs": [
    {
     "data": {
      "text/plain": [
       "True"
      ]
     },
     "execution_count": 95,
     "metadata": {},
     "output_type": "execute_result"
    }
   ],
   "source": [
    "10>50.45\n",
    "\"root\" == \"root\"\n",
    "0.45 >0.23"
   ]
  },
  {
   "cell_type": "code",
   "execution_count": 97,
   "metadata": {},
   "outputs": [
    {
     "data": {
      "text/plain": [
       "True"
      ]
     },
     "execution_count": 97,
     "metadata": {},
     "output_type": "execute_result"
    }
   ],
   "source": [
    "user=\"root\"\n",
    "sh=\"bash\"\n",
    "user == \"root\" and sh == \"bash\" or sh == \"ksh\""
   ]
  },
  {
   "cell_type": "code",
   "execution_count": 88,
   "metadata": {},
   "outputs": [
    {
     "data": {
      "text/plain": [
       "'python---programmingpython---programmingpython---programmingpython---programmingpython---programming'"
      ]
     },
     "execution_count": 88,
     "metadata": {},
     "output_type": "execute_result"
    }
   ],
   "source": [
    "'python---programming'*5"
   ]
  },
  {
   "cell_type": "code",
   "execution_count": 98,
   "metadata": {},
   "outputs": [
    {
     "data": {
      "text/plain": [
       "True"
      ]
     },
     "execution_count": 98,
     "metadata": {},
     "output_type": "execute_result"
    }
   ],
   "source": [
    "# <SearchPattern> in <inputCollection> ->True/False\n",
    "\n",
    "\":\" in \"root:x\""
   ]
  },
  {
   "cell_type": "code",
   "execution_count": 99,
   "metadata": {},
   "outputs": [
    {
     "data": {
      "text/plain": [
       "True"
      ]
     },
     "execution_count": 99,
     "metadata": {},
     "output_type": "execute_result"
    }
   ],
   "source": [
    "\"p1.log\" in ['p1.log','p2.log']"
   ]
  },
  {
   "cell_type": "code",
   "execution_count": 100,
   "metadata": {},
   "outputs": [
    {
     "data": {
      "text/plain": [
       "False"
      ]
     },
     "execution_count": 100,
     "metadata": {},
     "output_type": "execute_result"
    }
   ],
   "source": [
    "\":\" not in \"root:x\""
   ]
  },
  {
   "cell_type": "code",
   "execution_count": 101,
   "metadata": {},
   "outputs": [
    {
     "data": {
      "text/plain": [
       "True"
      ]
     },
     "execution_count": 101,
     "metadata": {},
     "output_type": "execute_result"
    }
   ],
   "source": [
    "\",\" not in \"root:x\""
   ]
  },
  {
   "cell_type": "code",
   "execution_count": 102,
   "metadata": {},
   "outputs": [
    {
     "name": "stdout",
     "output_type": "stream",
     "text": [
      "ONE\n",
      "TWO\n",
      "THREE\n",
      "SIX\n"
     ]
    }
   ],
   "source": [
    "# in python any expression (or) method ->retruns bool ->Conditional statements \n",
    "# if/else - code block will execute only one time.\n",
    "if(True):\n",
    "    print(\"ONE\")\n",
    "    print(\"TWO\")\n",
    "    if(True):\n",
    "        print(\"THREE\")\n",
    "        if(False):\n",
    "            print(\"FIVE\")\n",
    "        else:\n",
    "            print(\"SIX\")\n",
    "\n",
    "            \n"
   ]
  },
  {
   "cell_type": "code",
   "execution_count": 105,
   "metadata": {},
   "outputs": [
    {
     "name": "stdout",
     "output_type": "stream",
     "text": [
      "No\n"
     ]
    }
   ],
   "source": [
    "if '':\n",
    "    print(\"Yes\")\n",
    "else:\n",
    "    print(\"No\")"
   ]
  },
  {
   "cell_type": "code",
   "execution_count": 107,
   "metadata": {},
   "outputs": [
    {
     "name": "stdout",
     "output_type": "stream",
     "text": [
      "Enter your name:\n",
      "Sorry you not entered input\n"
     ]
    }
   ],
   "source": [
    "name=input(\"Enter your name:\")\n",
    "if(name): # if(len(name)!=0)\n",
    "    print(\"Hello..{}\".format(name))\n",
    "else:\n",
    "    print(\"Sorry you not entered input\")"
   ]
  },
  {
   "cell_type": "code",
   "execution_count": null,
   "metadata": {},
   "outputs": [],
   "source": [
    "# Multiconditional statements - more than one test\n",
    "# if..elif \n",
    "\n",
    "if(condition1):\n",
    "    Successblock1\n",
    "elif(condition2):\n",
    "    Successblock2\n",
    "elif(condition3):\n",
    "    Successblock3\n",
    "..\n",
    "elif(conditionN):\n",
    "    conditionN\n",
    "else:\n",
    "    False block\n",
    "    "
   ]
  },
  {
   "cell_type": "code",
   "execution_count": null,
   "metadata": {},
   "outputs": [],
   "source": [
    "Q1. Write a python program \n",
    "'''\n",
    "read a disk partition name from <STDIN>\n",
    "read a disk partition Size from <STDIN>\n",
    "|_ another disk name and disk Size \n",
    "Calculate Sum of disk Size \n",
    "Display - each partition name and partition Size\n",
    "display Total Partition Size\n",
    "Enter a partition name: /dev/sda1\n",
    "Enter a /dev/sda1 partition Size:120\n",
    "Enter a partition name: /dev/sda2\n",
    "Enter a /dev/sda2 partition Size:200\n",
    "    \n",
    "Partition Name: /dev/sda1     Size:120\n",
    "Partition Name: /dev/sda2     Size:200\n",
    "---------------------------------------------------\n",
    "         Total                    :320 GB\n",
    "---------------------------------------------------\n",
    "\n",
    "Q2. Write a python program: \n",
    "    read a user name from <STDIN>\n",
    "    test input user name is \"root\" or not\n",
    "                               |       |--->exit from code block \n",
    "                          read a shell name from <STDIN>\n",
    "            test shell name is bash - initialize profile file name is bashrc\n",
    "            test shell name is ksh  - initialize profile file name is kshrc\n",
    "            test shell name is psh  - initialize profile file name is PSprofile\n",
    "            |\n",
    "            default shell name is /bin/nologin    profile file name /etc/profile\n",
    "        \n",
    "Display user name,shell name, profile filename\n",
    "'''\n",
    "            \n",
    "                \n",
    "\n"
   ]
  },
  {
   "cell_type": "code",
   "execution_count": 109,
   "metadata": {},
   "outputs": [
    {
     "name": "stdout",
     "output_type": "stream",
     "text": [
      "Enter a partition name:/dev/sda1\n",
      "Enter /dev/sda1 Size:100\n",
      "Enter a partition name:/dev/sda2\n",
      "Enter /dev/sda2 Size:120\n",
      "\n",
      "Partition name:/dev/sda1\t  Size:100 GB\n",
      "-------------------------------------\n",
      "Partition name:/dev/sda2\t  Size:120 GB\n",
      "-------------------------------------\n",
      "      Total: 220 GB\n",
      "---------------------------------------\n"
     ]
    }
   ],
   "source": [
    "p1=input(\"Enter a partition name:\")\n",
    "s1=int(input(\"Enter {} Size:\".format(p1)))\n",
    "p2=input(\"Enter a partition name:\")\n",
    "s2=input(\"Enter {} Size:\".format(p2))\n",
    "\n",
    "total=s1+int(s2)\n",
    "print('''\n",
    "Partition name:{}\\t  Size:{} GB\n",
    "-------------------------------------\n",
    "Partition name:{}\\t  Size:{} GB\n",
    "-------------------------------------\n",
    "      Total: {} GB\n",
    "---------------------------------------'''.format(p1,s1,p2,s2,total))"
   ]
  },
  {
   "cell_type": "code",
   "execution_count": 115,
   "metadata": {},
   "outputs": [
    {
     "name": "stdout",
     "output_type": "stream",
     "text": [
      "Enter a name:root\n",
      "Enter a shell name:tcsh\n",
      "Sorry your input shell is not matched\n",
      "default shell details:-\n",
      "Login name:root\t Shell name:/bin/nologin\t Profile:/etc/profile\n"
     ]
    }
   ],
   "source": [
    "name=input(\"Enter a name:\")\n",
    "if name == \"root\":\n",
    "    var=input(\"Enter a shell name:\")\n",
    "    if var == \"bash\":\n",
    "        fname=\"bashrc\"\n",
    "    elif var == \"ksh\":\n",
    "        fname=\"kshrc\"\n",
    "    elif var == \"psh\":\n",
    "        fname=\"PSprofile\"\n",
    "    else:\n",
    "        print(\"Sorry your input shell is not matched\")\n",
    "        print(\"default shell details:-\")\n",
    "        var=\"/bin/nologin\"\n",
    "        fname=\"/etc/profile\"\n",
    "    print(\"Login name:{}\\t Shell name:{}\\t Profile:{}\".format(name,var,fname))\n",
    "else:\n",
    "    print(\"Sorry your not root user\")"
   ]
  },
  {
   "cell_type": "code",
   "execution_count": null,
   "metadata": {},
   "outputs": [],
   "source": [
    "if var == \"bash\" or var == \"sh\" or var == \"ksh\" :\n",
    "    fname=\"/etc/profile\"\n",
    "elif var == \"ps1\" or var == \"ps2\":\n",
    "    fname=\"C:\\\\winprofile\"\n",
    "else:\n",
    "    var=\"defaultshell\"\n",
    "    fname=\"defaultfile\""
   ]
  },
  {
   "cell_type": "code",
   "execution_count": null,
   "metadata": {},
   "outputs": [],
   "source": [
    "# Conditional statements(if statement) - code block will execute only onetime\n",
    "# ------------------------------------\n",
    "# Looping statements - Code block will execute more than one time\n",
    "# ----------------------------------\n",
    "#     |___ Conditional style - based on True/False  - while\n",
    "#     |___ Collection style  - based on data(str,bytes,list,tuple,dict,set,iterator(address))\n",
    "#                for \n",
    "\n",
    "conditional style loop\n",
    "\n",
    "step 1: initialization\n",
    "step 2: condition\n",
    "step 3: increment/decrement \n",
    "\n",
    "Syntax:-\n",
    "------------\n",
    "initialization # step 1\n",
    "while(condition): # step 2\n",
    "    codeblock\n",
    "    arithemtic # step 3\n",
    "else:\n",
    "    optional block\n",
    "    \n",
    "\n"
   ]
  },
  {
   "cell_type": "code",
   "execution_count": 116,
   "metadata": {},
   "outputs": [
    {
     "name": "stdout",
     "output_type": "stream",
     "text": [
      "Test code:0\n",
      "Test code:1\n",
      "Test code:2\n",
      "Test code:3\n",
      "Test code:4\n"
     ]
    }
   ],
   "source": [
    "i=0\n",
    "while(i<5):\n",
    "    print(\"Test code:{}\".format(i))\n",
    "    i=i+1"
   ]
  },
  {
   "cell_type": "code",
   "execution_count": 118,
   "metadata": {},
   "outputs": [],
   "source": [
    "while(False):\n",
    "    print(\"Hello\")"
   ]
  },
  {
   "cell_type": "code",
   "execution_count": 119,
   "metadata": {},
   "outputs": [
    {
     "name": "stdout",
     "output_type": "stream",
     "text": [
      "thank you!!!\n"
     ]
    }
   ],
   "source": [
    "while(False):\n",
    "    print(\"Hello\")\n",
    "else:\n",
    "    print(\"thank you!!!\")"
   ]
  },
  {
   "cell_type": "code",
   "execution_count": 120,
   "metadata": {},
   "outputs": [
    {
     "name": "stdout",
     "output_type": "stream",
     "text": [
      "Test code:0\n",
      "Test code:1\n",
      "Test code:2\n",
      "Test code:3\n",
      "Test code:4\n",
      "---------------\n",
      "Thank you\n",
      "---------------\n"
     ]
    }
   ],
   "source": [
    "i=0\n",
    "while(i<5):\n",
    "    print(\"Test code:{}\".format(i))\n",
    "    i=i+1\n",
    "else:\n",
    "    print(\"-\"*15)\n",
    "    print(\"Thank you\")\n",
    "    print(\"-\"*15)"
   ]
  },
  {
   "cell_type": "code",
   "execution_count": 122,
   "metadata": {},
   "outputs": [
    {
     "name": "stdout",
     "output_type": "stream",
     "text": [
      "w\n",
      "e\n",
      "l\n",
      "c\n",
      "o\n",
      "m\n",
      "e\n",
      "Thank you\n"
     ]
    }
   ],
   "source": [
    "# for variable in collection:\n",
    "#        codeblock \n",
    "\n",
    "for var in \"welcome\":\n",
    "    print(var)\n",
    "else:\n",
    "    print(\"Thank you\")"
   ]
  },
  {
   "cell_type": "code",
   "execution_count": null,
   "metadata": {},
   "outputs": [],
   "source": [
    "# break - exit from loop \n",
    "# continue - next ;ignore \n"
   ]
  },
  {
   "cell_type": "code",
   "execution_count": 123,
   "metadata": {},
   "outputs": [
    {
     "name": "stdout",
     "output_type": "stream",
     "text": [
      "a\n",
      "b\n"
     ]
    }
   ],
   "source": [
    "for var in 'abcde':\n",
    "    if(var == 'c'):\n",
    "        break # exit from loop\n",
    "    else:\n",
    "        print(var)"
   ]
  },
  {
   "cell_type": "code",
   "execution_count": 124,
   "metadata": {},
   "outputs": [
    {
     "name": "stdout",
     "output_type": "stream",
     "text": [
      "a\n",
      "b\n",
      "d\n",
      "e\n"
     ]
    }
   ],
   "source": [
    "for var in 'abcde':\n",
    "    if(var == 'c'):\n",
    "        continue # ignore \n",
    "    else:\n",
    "        print(var)"
   ]
  },
  {
   "cell_type": "code",
   "execution_count": 125,
   "metadata": {},
   "outputs": [
    {
     "name": "stdout",
     "output_type": "stream",
     "text": [
      "<class 'list'> 6\n"
     ]
    }
   ],
   "source": [
    "# int float str bytes bool None # Single data\n",
    "\n",
    "# List - Collection of ordered elements - indexbased - mutable - [] \n",
    "\n",
    "# Syntax:-\n",
    "# -----------\n",
    "# Listname=[collection of items] \n",
    "L=[10,2.45,'data',b'ab',True,None]\n",
    "print(type(L),len(L))"
   ]
  },
  {
   "cell_type": "code",
   "execution_count": 136,
   "metadata": {},
   "outputs": [
    {
     "data": {
      "text/plain": [
       "[10, 43.56, 'data', b'ab', True, None]"
      ]
     },
     "execution_count": 136,
     "metadata": {},
     "output_type": "execute_result"
    }
   ],
   "source": [
    "L=[10,2.45,'data',b'ab',True,None]\n",
    "#   0   1     2     3     4    5  <== index \n",
    "#  -6  -5    -4    -3    -2    -1 <== index\n",
    "L[1]\n",
    "L[3]\n",
    "L[3:]\n",
    "L[:3]\n",
    "L[1]=43.56\n",
    "L"
   ]
  },
  {
   "cell_type": "code",
   "execution_count": 137,
   "metadata": {},
   "outputs": [
    {
     "name": "stdout",
     "output_type": "stream",
     "text": [
      "<class 'list'> <class 'int'>\n",
      "<class 'list'> <class 'NoneType'>\n",
      "<class 'list'> <class 'bytes'>\n"
     ]
    }
   ],
   "source": [
    "print(type(L),type(L[0]))\n",
    "print(type(L),type(L[-1]))\n",
    "print(type(L),type(L[3]))\n"
   ]
  },
  {
   "cell_type": "code",
   "execution_count": null,
   "metadata": {},
   "outputs": [],
   "source": [
    "Listname.append(Value) (or)Listname.insert(index,Value)\n",
    "                        \n",
    "Listname.pop(Index) ->removed item\n",
    "                |__outofrange/notexisting - IndexError \n",
    "Listname[Existing_Index]=Updated_Value\n",
    "           |\n",
    "        outofrange/notexisting ->IndexError "
   ]
  },
  {
   "cell_type": "code",
   "execution_count": 138,
   "metadata": {},
   "outputs": [
    {
     "name": "stdout",
     "output_type": "stream",
     "text": [
      "p\n",
      "y\n",
      "t\n",
      "h\n",
      "o\n",
      "n\n"
     ]
    }
   ],
   "source": [
    "for var in 'python':\n",
    "    print(var)"
   ]
  },
  {
   "cell_type": "code",
   "execution_count": 139,
   "metadata": {},
   "outputs": [
    {
     "name": "stdout",
     "output_type": "stream",
     "text": [
      "python\n",
      "java\n",
      "test\n",
      "124\n",
      "45.344\n"
     ]
    }
   ],
   "source": [
    "for var in ['python','java','test',124,45.344]:\n",
    "    print(var)"
   ]
  },
  {
   "cell_type": "code",
   "execution_count": 149,
   "metadata": {},
   "outputs": [
    {
     "data": {
      "text/plain": [
       "True"
      ]
     },
     "execution_count": 149,
     "metadata": {},
     "output_type": "execute_result"
    }
   ],
   "source": [
    "# List - Collection of ordered elements - indexbased - mutable - [] \n",
    "# tuple - Collection of ordered elements - indexbased - immutable - () \n",
    "#                                                       ^^^^^^^^^\n",
    "L=['sql','mysql','sqlite3','oralce']\n",
    "T=('sql','mysql','sqlite3','oralce')\n",
    "\n",
    "L[1] == T[1]\n"
   ]
  },
  {
   "cell_type": "code",
   "execution_count": 142,
   "metadata": {},
   "outputs": [
    {
     "data": {
      "text/plain": [
       "['sql', 'pl/sql', 'sqlite3', 'oralce']"
      ]
     },
     "execution_count": 142,
     "metadata": {},
     "output_type": "execute_result"
    }
   ],
   "source": [
    "L[1]='pl/sql'\n",
    "L"
   ]
  },
  {
   "cell_type": "code",
   "execution_count": 150,
   "metadata": {},
   "outputs": [
    {
     "data": {
      "text/plain": [
       "'b'"
      ]
     },
     "execution_count": 150,
     "metadata": {},
     "output_type": "execute_result"
    }
   ],
   "source": [
    "#T[1]='pl/Sql' ->Error\n",
    "s='abc'\n",
    "s[1]\n",
    "#s[1]='X' -->Error "
   ]
  },
  {
   "cell_type": "code",
   "execution_count": 151,
   "metadata": {},
   "outputs": [
    {
     "name": "stdout",
     "output_type": "stream",
     "text": [
      "<class 'dict'> 4\n"
     ]
    }
   ],
   "source": [
    "# dictionary (dict) {}\n",
    "# Collection of unordered elements - data - key:value - Like HashTable - mutable\n",
    "# -----------------------------------------------------------------------\n",
    "#\n",
    "# Syntax:-\n",
    "# ------------\n",
    "# dictname={\"Key1\":Value,\"Key2\":Value2,\"Key3\":Value3...Kn:Vn}\n",
    "\n",
    "emp={'ename':'Mr.Kumar','eid':1234,'edept':'DBA','eplace':'pune'}\n",
    "print(type(emp),len(emp))\n",
    "\n",
    "'''\n",
    "Key      |     Value\n",
    "---------------------\n",
    "ename    |     Mr.Kumar\n",
    "------------------------\n",
    "eid      |     1234\n",
    "------------------------\n",
    "edept    |     DBA\n",
    "------------------------\n",
    "eplace   |     pune\n",
    "-------------------------\n",
    "'''\n"
   ]
  },
  {
   "cell_type": "code",
   "execution_count": 152,
   "metadata": {},
   "outputs": [
    {
     "data": {
      "text/plain": [
       "'DBA'"
      ]
     },
     "execution_count": 152,
     "metadata": {},
     "output_type": "execute_result"
    }
   ],
   "source": [
    "emp['edept']"
   ]
  },
  {
   "cell_type": "code",
   "execution_count": 153,
   "metadata": {},
   "outputs": [
    {
     "data": {
      "text/plain": [
       "{'ename': 'Mr.Kumar', 'eid': 1234, 'edept': 'sales', 'eplace': 'pune'}"
      ]
     },
     "execution_count": 153,
     "metadata": {},
     "output_type": "execute_result"
    }
   ],
   "source": [
    "emp['edept']='sales'\n",
    "emp"
   ]
  },
  {
   "cell_type": "code",
   "execution_count": 154,
   "metadata": {},
   "outputs": [
    {
     "data": {
      "text/plain": [
       "'pune'"
      ]
     },
     "execution_count": 154,
     "metadata": {},
     "output_type": "execute_result"
    }
   ],
   "source": [
    "emp.pop('eplace')"
   ]
  },
  {
   "cell_type": "code",
   "execution_count": 155,
   "metadata": {},
   "outputs": [
    {
     "data": {
      "text/plain": [
       "{'ename': 'Mr.Kumar', 'eid': 1234, 'edept': 'sales'}"
      ]
     },
     "execution_count": 155,
     "metadata": {},
     "output_type": "execute_result"
    }
   ],
   "source": [
    "emp"
   ]
  },
  {
   "cell_type": "code",
   "execution_count": null,
   "metadata": {},
   "outputs": [],
   "source": [
    "dict - key - unique ; value can duplicate \n",
    "              |\n",
    "            int,float,str,bytes,bool,None,tuple - immutable //dict_key \n",
    "    "
   ]
  },
  {
   "cell_type": "code",
   "execution_count": 157,
   "metadata": {},
   "outputs": [
    {
     "data": {
      "text/plain": [
       "{1: 'V1', 2: [], 3: {}, 4.55: 'V1', (): 'V2'}"
      ]
     },
     "execution_count": 157,
     "metadata": {},
     "output_type": "execute_result"
    }
   ],
   "source": [
    "d={1:\"V1\",2:[],3:{},4.55:\"V1\",():\"V2\"}\n",
    "d"
   ]
  },
  {
   "cell_type": "code",
   "execution_count": 158,
   "metadata": {},
   "outputs": [
    {
     "ename": "TypeError",
     "evalue": "unhashable type: 'list'",
     "output_type": "error",
     "traceback": [
      "\u001b[1;31m---------------------------------------------------------------------------\u001b[0m",
      "\u001b[1;31mTypeError\u001b[0m                                 Traceback (most recent call last)",
      "\u001b[1;32m<ipython-input-158-69265d6e1e21>\u001b[0m in \u001b[0;36m<module>\u001b[1;34m\u001b[0m\n\u001b[1;32m----> 1\u001b[1;33m \u001b[0md\u001b[0m\u001b[1;33m=\u001b[0m\u001b[1;33m{\u001b[0m\u001b[1;33m[\u001b[0m\u001b[1;33m]\u001b[0m\u001b[1;33m:\u001b[0m\u001b[1;34m\"V\"\u001b[0m\u001b[1;33m}\u001b[0m\u001b[1;33m\u001b[0m\u001b[1;33m\u001b[0m\u001b[0m\n\u001b[0m",
      "\u001b[1;31mTypeError\u001b[0m: unhashable type: 'list'"
     ]
    }
   ],
   "source": [
    "d={[]:\"V\"} #  Error "
   ]
  },
  {
   "cell_type": "code",
   "execution_count": 159,
   "metadata": {},
   "outputs": [
    {
     "data": {
      "text/plain": [
       "True"
      ]
     },
     "execution_count": 159,
     "metadata": {},
     "output_type": "execute_result"
    }
   ],
   "source": [
    "# membership - key is existing or not?\n",
    "#\n",
    "# \"input_key\" in dictionary ->True/False \n",
    "# \n",
    "d={\"K1\":\"V1\",\"K2\":\"V2\"}\n",
    "\"K1\" in d"
   ]
  },
  {
   "cell_type": "code",
   "execution_count": 160,
   "metadata": {},
   "outputs": [
    {
     "data": {
      "text/plain": [
       "False"
      ]
     },
     "execution_count": 160,
     "metadata": {},
     "output_type": "execute_result"
    }
   ],
   "source": [
    "\"K3\" in d"
   ]
  },
  {
   "cell_type": "code",
   "execution_count": 161,
   "metadata": {},
   "outputs": [
    {
     "data": {
      "text/plain": [
       "False"
      ]
     },
     "execution_count": 161,
     "metadata": {},
     "output_type": "execute_result"
    }
   ],
   "source": [
    "\"V1\" in d"
   ]
  },
  {
   "cell_type": "code",
   "execution_count": 163,
   "metadata": {},
   "outputs": [
    {
     "name": "stdout",
     "output_type": "stream",
     "text": [
      "K1 V1\n",
      "K2 V2\n"
     ]
    }
   ],
   "source": [
    "for var in d:\n",
    "    print(var,d[var])"
   ]
  },
  {
   "cell_type": "code",
   "execution_count": null,
   "metadata": {},
   "outputs": [],
   "source": [
    "Login:<input type='text' name='n1' value=''> //htmlform\n",
    "|    ___________\n",
    "Login:| root  |     =====>    {\"n1\":\"root\"} \n",
    "      ----------              ----------------//dict style\n",
    "        \n",
    "bs4 - parsing\n",
    "<a href='python.org' ...>\n",
    " | ----------------\n",
    "       |__{'href':'python.org'}\n",
    "          ------------------------//dict \n",
    "            \n",
    "framework ->GET/POST  --> formobject['key'] ->Value\n",
    "..."
   ]
  },
  {
   "cell_type": "code",
   "execution_count": null,
   "metadata": {},
   "outputs": [],
   "source": [
    "10\n",
    "20\n",
    "L=[10,20,[10,20],[[10,20]]]\n",
    "     |  |   ^   | |  ^  |\n",
    "     |  |   ^   | |  ^  | \n",
    "        \n",
    "List of List,tuple,dict\n",
    "tuple of List,tuple,dict\n",
    "dict of List,tuple,dict\n",
    "|      =================\n",
    "|           |__unnamed struct\n",
    "named\n",
    "struct"
   ]
  },
  {
   "cell_type": "code",
   "execution_count": 164,
   "metadata": {},
   "outputs": [
    {
     "data": {
      "text/plain": [
       "list"
      ]
     },
     "execution_count": 164,
     "metadata": {},
     "output_type": "execute_result"
    }
   ],
   "source": [
    "L=[10,11,[12,13,14,'d1','d2'],('d3','d4','d5')]\n",
    " # 0   1 --------2nd--------- --------3rd-----  <== index\n",
    " # -4  -3          -2                   -1 <== index\n",
    "type(L) # <class 'list'>"
   ]
  },
  {
   "cell_type": "code",
   "execution_count": 165,
   "metadata": {},
   "outputs": [
    {
     "name": "stdout",
     "output_type": "stream",
     "text": [
      "<class 'list'> <class 'int'>\n",
      "<class 'list'> <class 'int'>\n",
      "<class 'list'> <class 'list'>\n",
      "<class 'list'> <class 'tuple'>\n"
     ]
    }
   ],
   "source": [
    "print(type(L),type(L[0]))\n",
    "print(type(L),type(L[1]))\n",
    "print(type(L),type(L[2]))\n",
    "print(type(L),type(L[3]))\n"
   ]
  },
  {
   "cell_type": "code",
   "execution_count": 167,
   "metadata": {},
   "outputs": [
    {
     "name": "stdout",
     "output_type": "stream",
     "text": [
      "12\n",
      "13\n",
      "d2\n"
     ]
    }
   ],
   "source": [
    "print(L[2][0])\n",
    "print(L[2][1])\n",
    "print(L[2][-1])\n"
   ]
  },
  {
   "cell_type": "code",
   "execution_count": 171,
   "metadata": {},
   "outputs": [
    {
     "name": "stdout",
     "output_type": "stream",
     "text": [
      "<class 'tuple'> 2 <class 'list'>\n"
     ]
    }
   ],
   "source": [
    "# tuple of List/Tuple/dict\n",
    "\n",
    "t=([10,20,30,40],('d1','d2','d3'))\n",
    "print(type(t),len(t),type(t[0]))"
   ]
  },
  {
   "cell_type": "code",
   "execution_count": 173,
   "metadata": {},
   "outputs": [
    {
     "name": "stdout",
     "output_type": "stream",
     "text": [
      "([10, 20, 30, 40, 50, 'Dx', 'Dy', 'Dz', 50, 'Dx', 'Dy', 'Dz'], ('d1', 'd2', 'd3')) 2\n"
     ]
    }
   ],
   "source": [
    "t[0].append(50)\n",
    "t[0].append(\"Dx\")\n",
    "t[0].append(\"Dy\")\n",
    "t[0].append(\"Dz\")\n",
    "print(t,len(t))"
   ]
  },
  {
   "cell_type": "code",
   "execution_count": 175,
   "metadata": {},
   "outputs": [
    {
     "data": {
      "text/plain": [
       "([10,\n",
       "  'https://www.abc.com',\n",
       "  30,\n",
       "  40,\n",
       "  50,\n",
       "  'Dx',\n",
       "  'Dy',\n",
       "  'Dz',\n",
       "  50,\n",
       "  'Dx',\n",
       "  'Dy',\n",
       "  'Dz'],\n",
       " ('d1', 'd2', 'd3'))"
      ]
     },
     "execution_count": 175,
     "metadata": {},
     "output_type": "execute_result"
    }
   ],
   "source": [
    "t[0][1]=\"https://www.abc.com\"\n",
    "t"
   ]
  },
  {
   "cell_type": "code",
   "execution_count": null,
   "metadata": {},
   "outputs": [],
   "source": [
    "L=[{\"K1\":\"V1\",\"K2\":\"V2\"}] # List of dict\n",
    "|  ---------- ---------\n",
    "|    \n",
    "T=({\"Key1\":\"Value\",\"Key2:\"Value2\"},{\"K1\":\"V1\"}) # tuple of dict\n",
    "|    -----------------------------    ---------\n",
    "|__ Size of tuple(T) - fixed size   "
   ]
  },
  {
   "cell_type": "code",
   "execution_count": 178,
   "metadata": {},
   "outputs": [
    {
     "name": "stdout",
     "output_type": "stream",
     "text": [
      "1\n",
      "<class 'dict'> 3\n"
     ]
    }
   ],
   "source": [
    "L=[{\"url\":'https://www.ab.com',\"port\":80,\"fname\":\"/etc/passwd\"}]\n",
    "print(len(L))\n",
    "print(type(L[0]),len(L[0]))"
   ]
  },
  {
   "cell_type": "code",
   "execution_count": 181,
   "metadata": {},
   "outputs": [
    {
     "name": "stdout",
     "output_type": "stream",
     "text": [
      "url --> https://www.ab.com\n",
      "port --> 80\n",
      "fname --> /etc/passwd\n"
     ]
    }
   ],
   "source": [
    "for var in L[0]:\n",
    "    print(var,\"-->\",L[0][var])"
   ]
  },
  {
   "cell_type": "code",
   "execution_count": 182,
   "metadata": {},
   "outputs": [
    {
     "data": {
      "text/plain": [
       "['ONE',\n",
       " ['server1', 'server2', 'server3', 'server4', 'server5'],\n",
       " (110, 200, 300),\n",
       " {'DB1': 'DBNAME1', 'DB2': 'DBNAME2'}]"
      ]
     },
     "execution_count": 182,
     "metadata": {},
     "output_type": "execute_result"
    }
   ],
   "source": [
    "L=[] # empty list \n",
    "L.append(\"ONE\") # Single \n",
    "L.append([\"server1\",\"server2\",\"server3\",\"server4\",\"server5\"])\n",
    "L.append((110,200,300))\n",
    "L.append({\"DB1\":\"DBNAME1\",\"DB2\":\"DBNAME2\"})\n",
    "L"
   ]
  },
  {
   "cell_type": "code",
   "execution_count": 183,
   "metadata": {},
   "outputs": [
    {
     "name": "stdout",
     "output_type": "stream",
     "text": [
      "ONE\n",
      "server2\n",
      "200\n",
      "DBNAME1\n"
     ]
    }
   ],
   "source": [
    "print(L[0])\n",
    "print(L[1][1])\n",
    "print(L[2][1])\n",
    "print(L[3]['DB1'])"
   ]
  },
  {
   "cell_type": "code",
   "execution_count": 184,
   "metadata": {},
   "outputs": [
    {
     "name": "stdout",
     "output_type": "stream",
     "text": [
      "['ONE',\n",
      " ['server1', 'server2', 'server3', 'server4', 'server5'],\n",
      " (110, 200, 300),\n",
      " {'DB1': 'DBNAME1', 'DB2': 'DBNAME2'}]\n"
     ]
    }
   ],
   "source": [
    "import pprint\n",
    "pprint.pprint(L)"
   ]
  },
  {
   "cell_type": "code",
   "execution_count": 191,
   "metadata": {},
   "outputs": [
    {
     "data": {
      "text/plain": [
       "list"
      ]
     },
     "execution_count": 191,
     "metadata": {},
     "output_type": "execute_result"
    }
   ],
   "source": [
    "emp={'ename':\"Mr.Kumar\",'eid':1234,'ecost':3343433.55} # 1 to 1 \n",
    "\n",
    "# 1 to many value\n",
    "#      ----------- [ ]  ( ) { }\n",
    "#                             \n",
    "\n",
    "L=[{\"K\":\"V\"}] #  L[0]['K'] ->\"V\"\n",
    "\n",
    "Emp={\"enames\":[],\"edept\":('sales','admin','QA','DBA')} # dict of List / dict of tuple\n",
    "\n",
    "type(Emp['enames'])"
   ]
  },
  {
   "cell_type": "code",
   "execution_count": 187,
   "metadata": {},
   "outputs": [
    {
     "data": {
      "text/plain": [
       "{'enames': ['Mr.X', 'Mr.Y', 'Mr.Z'], 'edept': ('sales', 'admin', 'QA', 'DBA')}"
      ]
     },
     "execution_count": 187,
     "metadata": {},
     "output_type": "execute_result"
    }
   ],
   "source": [
    "Emp['enames'].append('Mr.X')\n",
    "Emp['enames'].append('Mr.Y')\n",
    "Emp['enames'].append('Mr.Z')\n",
    "Emp\n"
   ]
  },
  {
   "cell_type": "code",
   "execution_count": 188,
   "metadata": {},
   "outputs": [
    {
     "data": {
      "text/plain": [
       "'Mr.Y'"
      ]
     },
     "execution_count": 188,
     "metadata": {},
     "output_type": "execute_result"
    }
   ],
   "source": [
    "Emp['enames'][1]"
   ]
  },
  {
   "cell_type": "code",
   "execution_count": 199,
   "metadata": {},
   "outputs": [
    {
     "data": {
      "text/plain": [
       "{'enames': ['kumar', 'arun', 'Anu'], 'edepts': ('sales', 'admin', 'QA')}"
      ]
     },
     "execution_count": 199,
     "metadata": {},
     "output_type": "execute_result"
    }
   ],
   "source": [
    "Emp={\"enames\":[],\"edepts\":(\"sales\",\"admin\",\"QA\")}\n",
    "\n",
    "Emp['enames'].append('kumar')\n",
    "Emp['enames'].append('arun')\n",
    "Emp['enames'].append('Anu')\n",
    "Emp"
   ]
  },
  {
   "cell_type": "code",
   "execution_count": 204,
   "metadata": {},
   "outputs": [
    {
     "name": "stdout",
     "output_type": "stream",
     "text": [
      "Emp name is:arun working dept is:admin\n"
     ]
    }
   ],
   "source": [
    "Emp['enames'][1]\n",
    "print(\"Emp name is:{} working dept is:{}\".format(Emp['enames'][1],Emp['edepts'][1]))"
   ]
  },
  {
   "cell_type": "code",
   "execution_count": 209,
   "metadata": {},
   "outputs": [],
   "source": [
    "d={\"K1\":{\"K1\":\"V1\",\"K2\":\"V2\",\"K3\":\"V3\"},\"K2\":{\"K1\":101,\"K2\":202,\"K3\":345}}\n",
    "\n",
    "# d['K1']['K1'] \n",
    "# d['K1']['K2']\n",
    "#    |      |\n",
    "#  outer   innerkey\n",
    "#            |_nested key"
   ]
  },
  {
   "cell_type": "code",
   "execution_count": 212,
   "metadata": {},
   "outputs": [
    {
     "data": {
      "text/plain": [
       "{'K1': {'K1': '/var/log/repo.log', 'K2': 'V2', 'K3': 'V3'},\n",
       " 'K2': {'K1': 101, 'K2': 202, 'K3': 345}}"
      ]
     },
     "execution_count": 212,
     "metadata": {},
     "output_type": "execute_result"
    }
   ],
   "source": [
    "d['K1']['K1']='/var/log/repo.log'\n",
    "d"
   ]
  },
  {
   "cell_type": "code",
   "execution_count": 213,
   "metadata": {},
   "outputs": [
    {
     "data": {
      "text/plain": [
       "{'K1': {'K1': '/var/log/repo.log', 'K2': 'V2', 'K3': 'V3', 'K4': 'V4'},\n",
       " 'K2': {'K1': 101, 'K2': 202, 'K3': 345, 'K4': 134455}}"
      ]
     },
     "execution_count": 213,
     "metadata": {},
     "output_type": "execute_result"
    }
   ],
   "source": [
    "d['K1']['K4']='V4'\n",
    "d['K2']['K4']=134455\n",
    "d"
   ]
  },
  {
   "cell_type": "code",
   "execution_count": null,
   "metadata": {},
   "outputs": [],
   "source": [
    "d={\"Key\":[{},{},{},{}]}\n",
    "     |   |           |\n",
    "     |   | 0  1  2  3 <== index\n",
    "     |   |-4  -3 -2 -1 <== index\n",
    "     |      index based\n",
    "     |      \n",
    "     key:Value based \n",
    "import pprint\n",
    "pprint.pprint(d)\n"
   ]
  },
  {
   "cell_type": "code",
   "execution_count": 215,
   "metadata": {},
   "outputs": [
    {
     "name": "stdout",
     "output_type": "stream",
     "text": [
      "{'instance1': [{'name': '10.20.30.40'},\n",
      "               {'name': '12.34.5.66'},\n",
      "               {'name': '190.160.15.69'}]}\n"
     ]
    }
   ],
   "source": [
    "d={'instance1':[{'name':'10.20.30.40'}]}\n",
    "\n",
    "d['instance1'].append({'name':'12.34.5.66'})\n",
    "\n",
    "d['instance1'].append({'name':'190.160.15.69'})\n",
    "d\n",
    "import pprint\n",
    "pprint.pprint(d)\n"
   ]
  },
  {
   "cell_type": "code",
   "execution_count": 217,
   "metadata": {},
   "outputs": [
    {
     "data": {
      "text/plain": [
       "'10.20.30.40'"
      ]
     },
     "execution_count": 217,
     "metadata": {},
     "output_type": "execute_result"
    }
   ],
   "source": [
    "d['instance1'][0]['name']"
   ]
  },
  {
   "cell_type": "code",
   "execution_count": null,
   "metadata": {},
   "outputs": [],
   "source": [
    "'''\n",
    "Q1. write a program:\n",
    "step 1: declare a pin number (ex: pin=1234)\n",
    "step 2: using while loop - 3 times\n",
    "             read a pin number from <STDIN>\n",
    "             compare input pin with existing pin\n",
    "             display pin is matched - at <Count> \n",
    "step 3: all 3 inputs are failed - display pin is blocked \n",
    "\n",
    "Note: store all the input details to list \n",
    "      ....................................\n",
    "\n",
    "Q2. step 1: create an empty list\n",
    "    step 2: use while loop - 5times\n",
    "            read a hostname from <STDIN>\n",
    "            append input hostname to existing list\n",
    "    step 3: display list of hostdetails - use forloop\n",
    "    \n",
    "Ex:\n",
    "1. host01\n",
    "2. host02\n",
    "3. host03\n",
    "..\n",
    "5. host05\n",
    "Total no.of host is:5\n",
    "'''"
   ]
  },
  {
   "cell_type": "code",
   "execution_count": 229,
   "metadata": {},
   "outputs": [
    {
     "name": "stdout",
     "output_type": "stream",
     "text": [
      "Enter a pin number:1234\n",
      "pin is matched at 1 attempt.\n",
      "Wish to View list of input pins:yes\n",
      "VALID_ENTRY:1234 Entered on Mon Apr 26 14:29:50 2021\n"
     ]
    }
   ],
   "source": [
    "import time\n",
    "pin=1234\n",
    "pin_history=[]\n",
    "count=0\n",
    "while(count<3):\n",
    "    p=int(input(\"Enter a pin number:\"))\n",
    "    count=count+1\n",
    "    if p == pin:\n",
    "        print(\"pin is matched at {} attempt.\".format(count))\n",
    "        d=time.ctime()\n",
    "        pin_history.append(\"VALID_ENTRY:\"+str(p)+\" Entered on \"+d)\n",
    "        break # exit from loop\n",
    "    else:\n",
    "        pin_history.append(\"InvalidEntry\"+str(p)+\" Entered on \"+d)\n",
    "if(pin != p):\n",
    "    print(\"Sorry your pin is blocked\")\n",
    "    \n",
    "choice=input(\"Wish to View list of input pins:\")\n",
    "if(choice == \"Yes\" or choice == \"YES\" or choice == \"yes\"):\n",
    "    for var in pin_history:\n",
    "        print(var)"
   ]
  },
  {
   "cell_type": "code",
   "execution_count": 230,
   "metadata": {},
   "outputs": [
    {
     "name": "stdout",
     "output_type": "stream",
     "text": [
      "Enter a hostname:host01\n",
      "Enter a hostname:host02\n",
      "Enter a hostname:host03\n",
      "Enter a hostname:host04\n",
      "Enter a hostname:host05\n",
      "1. host01\n",
      "2. host02\n",
      "3. host03\n",
      "4. host04\n",
      "5. host05\n"
     ]
    }
   ],
   "source": [
    "hosts=[]\n",
    "c=0\n",
    "while(c<5):\n",
    "    var=input(\"Enter a hostname:\")\n",
    "    hosts.append(var)\n",
    "    c=c+1\n",
    "count=0\n",
    "for var in hosts:\n",
    "    count=count+1\n",
    "    print(\"{}. {}\".format(count,var))\n"
   ]
  },
  {
   "cell_type": "code",
   "execution_count": 233,
   "metadata": {},
   "outputs": [
    {
     "name": "stdout",
     "output_type": "stream",
     "text": [
      "itemcode1 total sales count is:150\n",
      "itemcode2 total sales count is:600\n"
     ]
    }
   ],
   "source": [
    "item_details={\"itemcode1\":[10,20,30,40,50],\"itemcode2\":[100,200,300]}\n",
    "\n",
    "# itemcode1 total sales count is:150\n",
    "# itemcode2 total sales count is:600\n",
    "# -------------------------------------\n",
    "\n",
    "for var in item_details:\n",
    "    t=0\n",
    "    for v in item_details[var]:\n",
    "        t=t+v\n",
    "    else:\n",
    "        print(\"{} total sales count is:{}\".format(var,t))"
   ]
  },
  {
   "cell_type": "code",
   "execution_count": 234,
   "metadata": {},
   "outputs": [],
   "source": [
    "item_details={\"itemcode1\":[10,20,30,40,50],\"itemcode2\":[100,200,300]}\n",
    "\n",
    "item_details['itemcode3']=[15,25,35,45,65]\n"
   ]
  },
  {
   "cell_type": "code",
   "execution_count": 235,
   "metadata": {},
   "outputs": [
    {
     "name": "stdout",
     "output_type": "stream",
     "text": [
      "itemcode1 total sales count is:150\n",
      "itemcode2 total sales count is:600\n",
      "itemcode3 total sales count is:185\n"
     ]
    }
   ],
   "source": [
    "for var in item_details:\n",
    "    t=0\n",
    "    for v in item_details[var]:\n",
    "        t=t+v\n",
    "    else:\n",
    "        print(\"{} total sales count is:{}\".format(var,t))"
   ]
  },
  {
   "cell_type": "code",
   "execution_count": 237,
   "metadata": {},
   "outputs": [
    {
     "name": "stdout",
     "output_type": "stream",
     "text": [
      "<class 'set'> 6\n",
      "{'V1', 10, 'K2', 20, 'K1', 30}\n"
     ]
    }
   ],
   "source": [
    "# dict - Collection of unordered elements - data - key:value {} \n",
    "#  |\n",
    "# set  - Collection of unordered elements - data - keyonly \n",
    "# |__ collection of keys\n",
    "#                    |__unique element\n",
    "#\n",
    "s={\"K1\",\"V1\",\"K2\",10,20,\"K1\",\"K2\",10,20,30,10,20} # Vs d={\"K1\":\"V1\",\"Kx\":\"Vx\"}\n",
    "print(type(s),len(s))\n",
    "print(s)"
   ]
  },
  {
   "cell_type": "code",
   "execution_count": 239,
   "metadata": {},
   "outputs": [
    {
     "data": {
      "text/plain": [
       "{10, 20, 30, 'data'}"
      ]
     },
     "execution_count": 239,
     "metadata": {},
     "output_type": "execute_result"
    }
   ],
   "source": [
    "# set is not key:value, not index - so there is no modification\n",
    "#\n",
    "# we can add newelement/remove existing element\n",
    "s={10,20}\n",
    "s.add(30)\n",
    "s.add(\"data\")\n",
    "s"
   ]
  },
  {
   "cell_type": "code",
   "execution_count": 240,
   "metadata": {},
   "outputs": [
    {
     "data": {
      "text/plain": [
       "{10, 20, 'data'}"
      ]
     },
     "execution_count": 240,
     "metadata": {},
     "output_type": "execute_result"
    }
   ],
   "source": [
    " s.remove(30)\n",
    "s"
   ]
  },
  {
   "cell_type": "code",
   "execution_count": 242,
   "metadata": {},
   "outputs": [
    {
     "data": {
      "text/plain": [
       "{10, 20, 'data'}"
      ]
     },
     "execution_count": 242,
     "metadata": {},
     "output_type": "execute_result"
    }
   ],
   "source": [
    "s"
   ]
  },
  {
   "cell_type": "code",
   "execution_count": null,
   "metadata": {},
   "outputs": [],
   "source": [
    "# s.remove(30) # KeyError "
   ]
  },
  {
   "cell_type": "code",
   "execution_count": 245,
   "metadata": {},
   "outputs": [
    {
     "data": {
      "text/plain": [
       "{10, 'data'}"
      ]
     },
     "execution_count": 245,
     "metadata": {},
     "output_type": "execute_result"
    }
   ],
   "source": [
    "s.discard(30)\n",
    "s.discard(20) \n",
    "s"
   ]
  },
  {
   "cell_type": "code",
   "execution_count": null,
   "metadata": {},
   "outputs": [],
   "source": [
    "union intersection  difference symmetric_difference\n",
    "\n",
    "1. operator ways -> | & - ^\n",
    "     (or)\n",
    "2. method ways -> union() intersection()  difference() symmetric_difference()"
   ]
  },
  {
   "cell_type": "code",
   "execution_count": 246,
   "metadata": {},
   "outputs": [
    {
     "data": {
      "text/plain": [
       "{1, 3, 4, 5, 'D1'}"
      ]
     },
     "execution_count": 246,
     "metadata": {},
     "output_type": "execute_result"
    }
   ],
   "source": [
    "s={1,2,3,4}\n",
    "s.add(5)\n",
    "s.add('D1')\n",
    "s.remove(2)\n",
    "s"
   ]
  },
  {
   "cell_type": "code",
   "execution_count": 252,
   "metadata": {},
   "outputs": [
    {
     "ename": "AttributeError",
     "evalue": "'frozenset' object has no attribute 'remove'",
     "output_type": "error",
     "traceback": [
      "\u001b[1;31m---------------------------------------------------------------------------\u001b[0m",
      "\u001b[1;31mAttributeError\u001b[0m                            Traceback (most recent call last)",
      "\u001b[1;32m<ipython-input-252-a5f367eed367>\u001b[0m in \u001b[0;36m<module>\u001b[1;34m\u001b[0m\n\u001b[0;32m      1\u001b[0m \u001b[0ms\u001b[0m\u001b[1;33m=\u001b[0m\u001b[0mfrozenset\u001b[0m\u001b[1;33m(\u001b[0m\u001b[0ms\u001b[0m\u001b[1;33m)\u001b[0m\u001b[1;33m\u001b[0m\u001b[1;33m\u001b[0m\u001b[0m\n\u001b[1;32m----> 2\u001b[1;33m \u001b[0ms\u001b[0m\u001b[1;33m.\u001b[0m\u001b[0mremove\u001b[0m\u001b[1;33m(\u001b[0m\u001b[1;36m4\u001b[0m\u001b[1;33m)\u001b[0m\u001b[1;33m\u001b[0m\u001b[1;33m\u001b[0m\u001b[0m\n\u001b[0m",
      "\u001b[1;31mAttributeError\u001b[0m: 'frozenset' object has no attribute 'remove'"
     ]
    }
   ],
   "source": [
    "s=frozenset(s)\n",
    "s.remove(4)"
   ]
  },
  {
   "cell_type": "code",
   "execution_count": 256,
   "metadata": {},
   "outputs": [
    {
     "data": {
      "text/plain": [
       "{'D6', 'd3', 'd4', 'd5', 'd7'}"
      ]
     },
     "execution_count": 256,
     "metadata": {},
     "output_type": "execute_result"
    }
   ],
   "source": [
    "L1=[\"D1\",\"d2\",\"d3\",\"d4\",\"d5\",\"D6\",\"d7\"]\n",
    "L2=[\"D1\",\"d2\",\"dx\",\"dy\",\"dz\"]\n",
    "\n",
    "set(L1)-set(L2)"
   ]
  },
  {
   "cell_type": "code",
   "execution_count": 257,
   "metadata": {},
   "outputs": [
    {
     "name": "stdout",
     "output_type": "stream",
     "text": [
      "{40, 10, 20, 30}\n",
      "[40, 10, 20, 30]\n"
     ]
    }
   ],
   "source": [
    "L=[10,20,30,40,10,20,20,10,10,20,10,20]\n",
    "s=set(L)\n",
    "print(s)\n",
    "L=list(s)\n",
    "print(L)\n"
   ]
  },
  {
   "cell_type": "code",
   "execution_count": 263,
   "metadata": {},
   "outputs": [
    {
     "ename": "TypeError",
     "evalue": "'set' object is not subscriptable",
     "output_type": "error",
     "traceback": [
      "\u001b[1;31m---------------------------------------------------------------------------\u001b[0m",
      "\u001b[1;31mTypeError\u001b[0m                                 Traceback (most recent call last)",
      "\u001b[1;32m<ipython-input-263-9a37f9b68524>\u001b[0m in \u001b[0;36m<module>\u001b[1;34m\u001b[0m\n\u001b[1;32m----> 1\u001b[1;33m \u001b[0ms\u001b[0m\u001b[1;33m[\u001b[0m\u001b[1;36m0\u001b[0m\u001b[1;33m]\u001b[0m \u001b[1;31m# set is not indexbased\u001b[0m\u001b[1;33m\u001b[0m\u001b[1;33m\u001b[0m\u001b[0m\n\u001b[0m",
      "\u001b[1;31mTypeError\u001b[0m: 'set' object is not subscriptable"
     ]
    }
   ],
   "source": [
    "s[0] # set is not indexbased "
   ]
  },
  {
   "cell_type": "code",
   "execution_count": 261,
   "metadata": {},
   "outputs": [
    {
     "name": "stdout",
     "output_type": "stream",
     "text": [
      "40\n",
      "10\n",
      "20\n",
      "30\n"
     ]
    }
   ],
   "source": [
    "for var in s:\n",
    "    print(var)"
   ]
  },
  {
   "cell_type": "code",
   "execution_count": 266,
   "metadata": {},
   "outputs": [
    {
     "data": {
      "text/plain": [
       "2"
      ]
     },
     "execution_count": 266,
     "metadata": {},
     "output_type": "execute_result"
    }
   ],
   "source": [
    "L=['p1.log','p2.log','p3.log','p6.py','p3.log','p3.log']\n",
    "L.index('p3.log')"
   ]
  },
  {
   "cell_type": "code",
   "execution_count": 269,
   "metadata": {},
   "outputs": [
    {
     "name": "stdout",
     "output_type": "stream",
     "text": [
      "Index number is:3\n",
      "p6.py\n"
     ]
    }
   ],
   "source": [
    "if \"p6.py\" in L:\n",
    "    print(\"Index number is:{}\".format(L.index(\"p6.py\")))\n",
    "    print(L[L.index(\"p6.py\")])\n",
    "else:\n",
    "    print(\"Not exists\")\n"
   ]
  },
  {
   "cell_type": "code",
   "execution_count": 276,
   "metadata": {},
   "outputs": [],
   "source": [
    "# File Handling\n",
    "# ---------------\n",
    "# str,list\n",
    "#\n",
    "# Keyboard(STDIN) -----------------Python--------------------Monitor\n",
    "#                                    |\n",
    "#                                    |read()/readlines()/write()\n",
    "#                                  Storage(FILE)\n",
    "#\n",
    "# 1. reading data from <FILE> -->-- python ---->--display to monitor \n",
    "# 2. python ->-- create/Write data to FILE \n",
    "# 3. read data from <oneFILE>-->--Python --->--- Create/Write data to another FILE\n",
    "#  \n",
    "#   open() --> open(\"filename\",\"mode\")  # read(r) write(w) append(a)\n",
    "#  \n",
    "\n",
    "FH=open(\"C:\\\\users\\\\karthikeyan\\\\emp.csv\")\n",
    "s=FH.read()\n",
    "FH.close()"
   ]
  },
  {
   "cell_type": "code",
   "execution_count": 277,
   "metadata": {},
   "outputs": [
    {
     "name": "stdout",
     "output_type": "stream",
     "text": [
      "101,ram,sales,pune,10000\n",
      "203,arun,prod,bglore,2000\n",
      "304,vijay,QA,chennai,30000\n",
      "545,xerox,sales,mumbai,34234\n",
      "456,anu,sales,noida,56780\n"
     ]
    }
   ],
   "source": [
    "print(s)"
   ]
  },
  {
   "cell_type": "code",
   "execution_count": 279,
   "metadata": {},
   "outputs": [],
   "source": [
    "FH=open(\"C:\\\\users\\\\karthikeyan\\\\emp.csv\")\n",
    "L=FH.readlines()\n",
    "FH.close()"
   ]
  },
  {
   "cell_type": "code",
   "execution_count": 285,
   "metadata": {},
   "outputs": [
    {
     "data": {
      "text/plain": [
       "' data'"
      ]
     },
     "execution_count": 285,
     "metadata": {},
     "output_type": "execute_result"
    }
   ],
   "source": [
    "s1=\"data\\n\"\n",
    "s2=\" data\\t\"\n",
    "s3=\" data:\"\n",
    "s3.strip(\":\")"
   ]
  },
  {
   "cell_type": "code",
   "execution_count": 289,
   "metadata": {},
   "outputs": [
    {
     "name": "stdout",
     "output_type": "stream",
     "text": [
      "304,vijay,QA,chennai,30000\n",
      "545,xerox,sales,mumbai,34234\n",
      "456,anu,sales,noida,56780\n"
     ]
    }
   ],
   "source": [
    "for var in L[-3:]:\n",
    "    print(var.strip())"
   ]
  },
  {
   "cell_type": "code",
   "execution_count": 290,
   "metadata": {},
   "outputs": [],
   "source": [
    "# read data from <FILE1> to script -->create/Write data to FILE2\n",
    "# ------------------------------------------------------------------\n",
    "FH=open(\"D:\\\\TEMP\\\\r1.log\")\n",
    "WH=open(\"D:\\\\TEMP\\\\r2.log\",\"w\")\n",
    "s=FH.read()\n",
    "WH.write(s)\n",
    "FH.close()\n",
    "WH.close()"
   ]
  },
  {
   "cell_type": "code",
   "execution_count": 291,
   "metadata": {},
   "outputs": [
    {
     "data": {
      "text/plain": [
       "'Interface=eth0\\nIP=10.20.30.40\\nPORT=456\\neth0,10.20.30.40,456\\n'"
      ]
     },
     "execution_count": 291,
     "metadata": {},
     "output_type": "execute_result"
    }
   ],
   "source": [
    "F=open(\"D:\\\\TEMP\\\\r2.log\")\n",
    "F.read()"
   ]
  },
  {
   "cell_type": "code",
   "execution_count": null,
   "metadata": {},
   "outputs": [],
   "source": [
    "# Block style \n",
    "# -----------------\n",
    "# with as - keywords \n",
    "# --------\n",
    "#  no need to write object.close() \n",
    "\n",
    "FH=open(\"inputfile\",\"mode\")  --> with open(\"inputfile\",\"mode\") as FH:\n",
    "s=FH.read()                              s=FH.read()\n",
    "FH.close()\n",
    "\n",
    "WH=open(\"resultfile\",\"w\") --> with open(\"resultfile\",\"w\") as WH:\n",
    "WH.write(\"SingleString\\n\") ---->         WH.write(\"data\\n\")\n",
    "WH.close()\n",
    "\n"
   ]
  },
  {
   "cell_type": "code",
   "execution_count": 292,
   "metadata": {},
   "outputs": [],
   "source": [
    "with open(\"result.log\",\"w\") as WH:\n",
    "    with open(\"D:\\\\TEMP\\\\r1.log\") as FH:\n",
    "        s=FH.read()\n",
    "        WH.write(s)\n"
   ]
  },
  {
   "cell_type": "code",
   "execution_count": 293,
   "metadata": {},
   "outputs": [
    {
     "name": "stdout",
     "output_type": "stream",
     "text": [
      "Interface=eth0\n",
      "IP=10.20.30.40\n",
      "PORT=456\n",
      "eth0,10.20.30.40,456\n",
      "\n"
     ]
    }
   ],
   "source": [
    "with open(\"result.log\") as FH:\n",
    "    print(FH.read())"
   ]
  },
  {
   "cell_type": "code",
   "execution_count": 296,
   "metadata": {},
   "outputs": [
    {
     "data": {
      "text/plain": [
       "'Mon Apr 26 15:54:14 2021'"
      ]
     },
     "execution_count": 296,
     "metadata": {},
     "output_type": "execute_result"
    }
   ],
   "source": [
    "d"
   ]
  },
  {
   "cell_type": "code",
   "execution_count": 299,
   "metadata": {},
   "outputs": [
    {
     "name": "stdout",
     "output_type": "stream",
     "text": [
      "Enter a pin number:13454\n",
      "Enter a pin number:4343\n",
      "Enter a pin number:1234\n",
      "pin is matched at 3 attempt.\n",
      "Wish to View list of input pins:yes\n",
      "InvalidEntry13454 Entered on Mon Apr 26 15:56:08 2021\n",
      "\n",
      "InvalidEntry4343 Entered on Mon Apr 26 15:56:13 2021\n",
      "\n",
      "VALID_ENTRY:1234 Entered on Mon Apr 26 15:56:15 2021\n",
      "\n"
     ]
    }
   ],
   "source": [
    "import time\n",
    "pin=1234\n",
    "WH=open(\"pin_history.log\",\"a\")\n",
    "count=0\n",
    "while(count<3):\n",
    "    p=int(input(\"Enter a pin number:\"))\n",
    "    count=count+1\n",
    "    if p == pin:\n",
    "        print(\"pin is matched at {} attempt.\".format(count))\n",
    "        WH.write(\"VALID_ENTRY:\"+str(p)+\" Entered on \"+time.ctime()+\"\\n\")\n",
    "        break # exit from loop\n",
    "    else:\n",
    "        WH.write(\"InvalidEntry\"+str(p)+\" Entered on \"+time.ctime()+\"\\n\")\n",
    "\n",
    "WH.close()\n",
    "if(pin != p):\n",
    "    print(\"Sorry your pin is blocked\")\n",
    "    \n",
    "choice=input(\"Wish to View list of input pins:\")\n",
    "if(choice == \"Yes\" or choice == \"YES\" or choice == \"yes\"):\n",
    "    for var in open(\"pin_history.log\").readlines():\n",
    "        print(var)"
   ]
  },
  {
   "cell_type": "code",
   "execution_count": null,
   "metadata": {},
   "outputs": [],
   "source": [
    "# Function\n",
    "# ------------\n",
    "#  user defined function\n",
    "#  -----------------------\n",
    "#  function - codeblock - operation\n",
    "#  1. function definition - operation block\n",
    "#  2. function call - to invoke a definition\n",
    "\n",
    "# Syntax:-\n",
    "# ----------\n",
    "# def functionname():\n",
    "#       .........\n",
    "#       .........\n",
    "# functionname()\n",
    "\n"
   ]
  },
  {
   "cell_type": "code",
   "execution_count": 301,
   "metadata": {},
   "outputs": [
    {
     "name": "stdout",
     "output_type": "stream",
     "text": [
      "This is display block\n"
     ]
    }
   ],
   "source": [
    "def display():\n",
    "    print(\"This is display block\")\n",
    "    \n",
    "display()"
   ]
  },
  {
   "cell_type": "code",
   "execution_count": 302,
   "metadata": {},
   "outputs": [
    {
     "name": "stdout",
     "output_type": "stream",
     "text": [
      "Exit from block\n",
      "Exit from f1 block\n"
     ]
    }
   ],
   "source": [
    "def f2():\n",
    "    print(\"Exit from block\")\n",
    "def f1():\n",
    "    f2() # nested function call\n",
    "    print(\"Exit from f1 block\")\n",
    "f1()"
   ]
  },
  {
   "cell_type": "code",
   "execution_count": 306,
   "metadata": {},
   "outputs": [
    {
     "data": {
      "text/plain": [
       "[10, 1.345, 'data', 343, ['D1', 'D2']]"
      ]
     },
     "execution_count": 306,
     "metadata": {},
     "output_type": "execute_result"
    }
   ],
   "source": [
    "L=[]\n",
    "# L.append(\"D1\",\"D2\") Error\n",
    "# L.append() Error\n",
    "L.append(10)\n",
    "L.append(1.345)\n",
    "L.append(\"data\")\n",
    "L.append(343)\n",
    "L.append([\"D1\",\"D2\"])\n",
    "L"
   ]
  },
  {
   "cell_type": "code",
   "execution_count": 307,
   "metadata": {},
   "outputs": [
    {
     "data": {
      "text/plain": [
       "1.345"
      ]
     },
     "execution_count": 307,
     "metadata": {},
     "output_type": "execute_result"
    }
   ],
   "source": [
    "L.pop(1)"
   ]
  },
  {
   "cell_type": "code",
   "execution_count": 308,
   "metadata": {},
   "outputs": [
    {
     "data": {
      "text/plain": [
       "[10, 'data', 343, ['D1', 'D2']]"
      ]
     },
     "execution_count": 308,
     "metadata": {},
     "output_type": "execute_result"
    }
   ],
   "source": [
    "L"
   ]
  },
  {
   "cell_type": "code",
   "execution_count": 309,
   "metadata": {},
   "outputs": [
    {
     "data": {
      "text/plain": [
       "['D1', 'D2']"
      ]
     },
     "execution_count": 309,
     "metadata": {},
     "output_type": "execute_result"
    }
   ],
   "source": [
    "L.pop() ##<<<<"
   ]
  },
  {
   "cell_type": "code",
   "execution_count": null,
   "metadata": {},
   "outputs": [],
   "source": [
    "# def pop(arg=-1):\n",
    "#  "
   ]
  },
  {
   "cell_type": "code",
   "execution_count": 314,
   "metadata": {},
   "outputs": [
    {
     "name": "stdout",
     "output_type": "stream",
     "text": [
      "Hello\n"
     ]
    }
   ],
   "source": [
    "def f1(a1,a2,a3): #<<< Required arguments \n",
    "    print(\"Hello\")\n",
    "#f1()\n",
    "#f1(10)\n",
    "#f1(10,20)\n",
    "#f1(10,20,30,40)\n",
    "\n",
    "f1(10,0.44,[])"
   ]
  },
  {
   "cell_type": "code",
   "execution_count": 316,
   "metadata": {},
   "outputs": [
    {
     "name": "stdout",
     "output_type": "stream",
     "text": [
      "root\n",
      "DBA\n",
      "1234\n",
      "admin\n",
      "DBA\n",
      "1234\n"
     ]
    }
   ],
   "source": [
    "def f2(user=\"root\",dept=\"DBA\",port=1234): # default args\n",
    "    print(user)\n",
    "    print(dept)\n",
    "    print(port)\n",
    "    \n",
    "f2()\n",
    "f2(\"admin\")"
   ]
  },
  {
   "cell_type": "code",
   "execution_count": 321,
   "metadata": {},
   "outputs": [
    {
     "name": "stdout",
     "output_type": "stream",
     "text": [
      "Hello\n"
     ]
    }
   ],
   "source": [
    "def fx(a1,a2,a3=0,a4=0): # required,default args \n",
    "    print(\"Hello\")\n",
    "fx(10,20,30,40)"
   ]
  },
  {
   "cell_type": "code",
   "execution_count": 322,
   "metadata": {},
   "outputs": [
    {
     "data": {
      "text/plain": [
       "{'K1': 'V1', 'K2': 'V2'}"
      ]
     },
     "execution_count": 322,
     "metadata": {},
     "output_type": "execute_result"
    }
   ],
   "source": [
    "d={}\n",
    "d['K1']=\"V1\" # adding data to dict\n",
    "\n",
    "d.setdefault(\"K2\",\"V2\") # adding ndata to dict\n",
    "d"
   ]
  },
  {
   "cell_type": "code",
   "execution_count": 323,
   "metadata": {},
   "outputs": [
    {
     "data": {
      "text/plain": [
       "{'K1': 'V1', 'K2': 'V2', 'K3': None}"
      ]
     },
     "execution_count": 323,
     "metadata": {},
     "output_type": "execute_result"
    }
   ],
   "source": [
    "d.setdefault(\"K3\") \n",
    "d"
   ]
  },
  {
   "cell_type": "code",
   "execution_count": null,
   "metadata": {},
   "outputs": [],
   "source": [
    "def setdefault(Key,Value=None):\n",
    "    pass\n"
   ]
  },
  {
   "cell_type": "code",
   "execution_count": 328,
   "metadata": {},
   "outputs": [],
   "source": [
    "del(v3)"
   ]
  },
  {
   "cell_type": "code",
   "execution_count": 332,
   "metadata": {},
   "outputs": [
    {
     "name": "stdout",
     "output_type": "stream",
     "text": [
      "100 /var/log/repo.log\n",
      "100 /var/log/repo.log\n"
     ]
    }
   ],
   "source": [
    "def fx():\n",
    "    global v1,v2\n",
    "    v1=100\n",
    "    v2=\"/var/log/repo.log\"\n",
    "    v3=0.56\n",
    "fx()\n",
    "print(v1,v2)\n",
    "\n",
    "def fy():\n",
    "    print(v1,v2)\n",
    "fy()\n",
    "\n"
   ]
  },
  {
   "cell_type": "code",
   "execution_count": 331,
   "metadata": {},
   "outputs": [
    {
     "name": "stdout",
     "output_type": "stream",
     "text": [
      "100 /var/log/repo.log\n"
     ]
    }
   ],
   "source": [
    "print(v1,v2)"
   ]
  },
  {
   "cell_type": "code",
   "execution_count": 334,
   "metadata": {},
   "outputs": [
    {
     "name": "stdout",
     "output_type": "stream",
     "text": [
      "1234\n"
     ]
    }
   ],
   "source": [
    "def fx():\n",
    "    v=1234\n",
    "    return v\n",
    "rv=fx()\n",
    "\n",
    "print(rv)\n"
   ]
  },
  {
   "cell_type": "code",
   "execution_count": 336,
   "metadata": {},
   "outputs": [
    {
     "name": "stdout",
     "output_type": "stream",
     "text": [
      "Yes\n"
     ]
    }
   ],
   "source": [
    "def fx():\n",
    "    return True\n",
    "\n",
    "if fx():\n",
    "    print(\"Yes\")\n",
    "else:\n",
    "    print(\"Not\")"
   ]
  },
  {
   "cell_type": "code",
   "execution_count": 343,
   "metadata": {},
   "outputs": [
    {
     "data": {
      "text/plain": [
       "('STDOUT', 'STDERR', [], (), {})"
      ]
     },
     "execution_count": 343,
     "metadata": {},
     "output_type": "execute_result"
    }
   ],
   "source": [
    "def fx():\n",
    "    return \"STDOUT\",\"STDERR\",[],(),{}\n",
    "fx()"
   ]
  },
  {
   "cell_type": "code",
   "execution_count": 339,
   "metadata": {},
   "outputs": [
    {
     "data": {
      "text/plain": [
       "True"
      ]
     },
     "execution_count": 339,
     "metadata": {},
     "output_type": "execute_result"
    }
   ],
   "source": [
    "def fx():\n",
    "    x=123+123\n",
    "fx()\n",
    "fx() == None"
   ]
  },
  {
   "cell_type": "code",
   "execution_count": null,
   "metadata": {},
   "outputs": [],
   "source": [
    "# module ->existing python file"
   ]
  },
  {
   "cell_type": "code",
   "execution_count": 345,
   "metadata": {},
   "outputs": [],
   "source": [
    "import os"
   ]
  },
  {
   "cell_type": "code",
   "execution_count": null,
   "metadata": {},
   "outputs": [],
   "source": [
    "D:\\\\TEMP> ab.py      p1.py\n",
    "                       import ab\n",
    "                       ab.name\n",
    "            \n",
    "D:\\\\TEMP> ab.py     E:\\\\>test1.py\n",
    "                         import ab - ImportError(2.x)/ModuleNotFoundError(3.x)\n",
    "            \n",
    "python -->refer sys.path ->[ ] "
   ]
  },
  {
   "cell_type": "code",
   "execution_count": null,
   "metadata": {},
   "outputs": [],
   "source": []
  }
 ],
 "metadata": {
  "kernelspec": {
   "display_name": "Python 3",
   "language": "python",
   "name": "python3"
  },
  "language_info": {
   "codemirror_mode": {
    "name": "ipython",
    "version": 3
   },
   "file_extension": ".py",
   "mimetype": "text/x-python",
   "name": "python",
   "nbconvert_exporter": "python",
   "pygments_lexer": "ipython3",
   "version": "3.8.5"
  }
 },
 "nbformat": 4,
 "nbformat_minor": 4
}
