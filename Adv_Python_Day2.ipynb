{
 "cells": [
  {
   "cell_type": "code",
   "execution_count": null,
   "metadata": {},
   "outputs": [],
   "source": [
    "# package \n",
    "# functional style program\n",
    "# oops \n",
    "file:ab.py   ------------------>   file: p1.py\n",
    "-----------                        ===============\n",
    "var=10                               import ab\n",
    "def fx():                            print(ab.var)\n",
    "    print(\"Hello\")                   ab.fx()\n",
    "---------------------              ================\n",
    "\n",
    "import sys\n",
    "sys.path.append(\"external filepath\")\n",
    "import ab\n",
    "ab.fx()\n",
    "\n",
    "env -> PYTHONPATH=\"external filepath\"\n",
    "----------------------------------------------------------------------"
   ]
  },
  {
   "cell_type": "code",
   "execution_count": null,
   "metadata": {},
   "outputs": [],
   "source": [
    "package\n",
    "=========\n",
    "project/m1.py m2.py m3.py ... m50.py\n",
    "                                    \n",
    "import m1,m2,m3,...m50\n",
    "(or)\n",
    "import m1\n",
    "import m2\n",
    "import m3\n",
    "..\n",
    "import m50\n"
   ]
  },
  {
   "cell_type": "code",
   "execution_count": null,
   "metadata": {},
   "outputs": [],
   "source": [
    "# Commandline steps \n",
    "# --------------------\n",
    "# STEP 1: create a newdirectory (mkdir <Dir>)\n",
    "# STEP 2: collect list of .py files into directory (cp..)\n",
    "# STEP 3: create a special file __init__.py (vi __init__.py  / notepad )\n",
    "# STEP 4: copy external symbols to __init__.py \n",
    "#\n",
    "#         from module import members (or) from module import *\n",
    "#\n",
    "# STEP 5: test your directory -> import directoryname "
   ]
  },
  {
   "cell_type": "code",
   "execution_count": null,
   "metadata": {},
   "outputs": [],
   "source": [
    "file: ab.py                           ------>   file: p1.py\n",
    "------------                                   -----------------\n",
    "var=10                                           import ab\n",
    "def fx():                                        port=8080\n",
    "    print(\"Hello\")                               print(ab.var) Vs print(var)\n",
    "----------------------                           print(port)      ----------\n",
    "symbol/dict table                                ab.fx()              |__Error\n",
    "-------------------                              -------------------\n",
    "__main__.var|  10                            __main__.port | 8080\n",
    " -----------------------                   --------------------------\n",
    "__main__.fx | 0x13345                               ab.var  | 10\n",
    "                                            ------------------------- \n",
    "                                                    ab.fx   | 0x12345\n",
    "         "
   ]
  },
  {
   "cell_type": "code",
   "execution_count": null,
   "metadata": {},
   "outputs": [],
   "source": [
    "root@host~]# pwd\n",
    "/root\n",
    "root@host~]# ls\n",
    "a.txt b.txt\n",
    "root@host~]# cat a.txt\n",
    "Success                                                port=8080\n",
    "root@host~]# cat b.txt                                 print(port)\n",
    "Success                                                import ab\n",
    "root@host~]# cat /etc/passwd ------------------------  print(ab.var)\n",
    "Success\n",
    "root@host~]# cat passwd -------------------------------print(var) ->Error \n",
    "Error No Such File \n",
    "\n",
    "root@host~]# cp /etc/passwd .   ================> from module import <datamember>\n",
    "root@host~]# cat passwd                           from ab import var\n",
    "Success                                           print(var) -->10"
   ]
  },
  {
   "cell_type": "code",
   "execution_count": null,
   "metadata": {},
   "outputs": [],
   "source": [
    "project/m1.py m2.py \n",
    "       /L1/m3.py\n",
    "       /L1/L2/m4.py\n",
    "                 |___ def f1 \n",
    "                 |___ def f2\n",
    "from .project import m1,m2\n",
    "from .project.L1 import m3\n",
    "from .project.L1.L2.m4 import f2 <===\n",
    "from .project.L1.L2.L3.L4 import Workbookoperation as opt\n",
    "\n",
    "from .project.L1 import * \n",
    "\n",
    "import project\n",
    "project.f2()\n",
    " -----------------------------------------------------------------------\n",
    "import subprocess\n",
    "subprocess.Popen\n",
    "\n",
    "import subprocess as sp\n",
    "sp.Popen()        --"
   ]
  },
  {
   "cell_type": "code",
   "execution_count": null,
   "metadata": {},
   "outputs": [],
   "source": [
    "import filename\n",
    "        |__ sys.path -> [  ] --> where filename is located?\n",
    "        |__ filename.py ==> filename.pyc\n",
    "        |__ Folder/__init.__py ==> __init.__pyc  sales.pyc prod.pyc"
   ]
  },
  {
   "cell_type": "code",
   "execution_count": 1,
   "metadata": {},
   "outputs": [
    {
     "data": {
      "text/plain": [
       "[100, 101, 102, 103, 104]"
      ]
     },
     "execution_count": 1,
     "metadata": {},
     "output_type": "execute_result"
    }
   ],
   "source": [
    "# Functional style programming\n",
    "# -------------------------------\n",
    "L=[]\n",
    "for var in range(5): # [0,1,2,3,4]\n",
    "    r=var+100\n",
    "    L.append(r)\n",
    "\n",
    "L"
   ]
  },
  {
   "cell_type": "code",
   "execution_count": 2,
   "metadata": {},
   "outputs": [
    {
     "data": {
      "text/plain": [
       "[100, 101, 102, 103, 104]"
      ]
     },
     "execution_count": 2,
     "metadata": {},
     "output_type": "execute_result"
    }
   ],
   "source": [
    "'''\n",
    "[final_value for iterable]\n",
    "                --->--\n",
    "  --<----         (1)\n",
    "    (2)\n",
    "'''\n",
    "\n",
    "[var+100 for var in range(5)]"
   ]
  },
  {
   "cell_type": "code",
   "execution_count": 3,
   "metadata": {},
   "outputs": [
    {
     "data": {
      "text/plain": [
       "[500, 501, 502, 503, 504, 505, 106, 107, 108, 109]"
      ]
     },
     "execution_count": 3,
     "metadata": {},
     "output_type": "execute_result"
    }
   ],
   "source": [
    "L=[]\n",
    "for var in range(10):\n",
    "    if(var >5):\n",
    "        r=var+100\n",
    "        L.append(r)\n",
    "    else:\n",
    "        r=var+500\n",
    "        L.append(r)\n",
    "L"
   ]
  },
  {
   "cell_type": "code",
   "execution_count": 4,
   "metadata": {},
   "outputs": [
    {
     "data": {
      "text/plain": [
       "[500, 501, 502, 503, 504, 505, 106, 107, 108, 109]"
      ]
     },
     "execution_count": 4,
     "metadata": {},
     "output_type": "execute_result"
    }
   ],
   "source": [
    "[var+100 if var >5 else var+500 for var in range(10)]"
   ]
  },
  {
   "cell_type": "code",
   "execution_count": 6,
   "metadata": {},
   "outputs": [
    {
     "data": {
      "text/plain": [
       "['101,ram,sales,pune,10000\\n',\n",
       " '203,arun,prod,bglore,2000\\n',\n",
       " '304,vijay,QA,chennai,30000\\n',\n",
       " '545,xerox,sales,mumbai,34234\\n',\n",
       " '456,anu,sales,noida,56780']"
      ]
     },
     "execution_count": 6,
     "metadata": {},
     "output_type": "execute_result"
    }
   ],
   "source": [
    "[var for var in open(\"C:\\\\users\\\\karthikeyan\\\\emp.csv\").readlines()]"
   ]
  },
  {
   "cell_type": "code",
   "execution_count": 7,
   "metadata": {},
   "outputs": [
    {
     "data": {
      "text/plain": [
       "{'CSV': ['101,ram,sales,pune,10000\\n',\n",
       "  '203,arun,prod,bglore,2000\\n',\n",
       "  '304,vijay,QA,chennai,30000\\n',\n",
       "  '545,xerox,sales,mumbai,34234\\n',\n",
       "  '456,anu,sales,noida,56780']}"
      ]
     },
     "execution_count": 7,
     "metadata": {},
     "output_type": "execute_result"
    }
   ],
   "source": [
    "d={}\n",
    "d['CSV']=[var for var in open(\"C:\\\\users\\\\karthikeyan\\\\emp.csv\").readlines()]\n",
    "d"
   ]
  },
  {
   "cell_type": "code",
   "execution_count": null,
   "metadata": {},
   "outputs": [],
   "source": [
    "lambda \n",
    "------\n",
    " |-->unnamed function\n",
    " |-->inline action/expression/simplecall\n",
    " |-->function call with arguments ->return value //style - lambda \n",
    " |\n",
    " |-> lambda list of args:expression/call"
   ]
  },
  {
   "cell_type": "code",
   "execution_count": 8,
   "metadata": {},
   "outputs": [
    {
     "data": {
      "text/plain": [
       "30"
      ]
     },
     "execution_count": 8,
     "metadata": {},
     "output_type": "execute_result"
    }
   ],
   "source": [
    "def f1(a1,a2):\n",
    "    return a1+a2\n",
    "\n",
    "f1(10,20) #<<<< named function"
   ]
  },
  {
   "cell_type": "code",
   "execution_count": 10,
   "metadata": {},
   "outputs": [
    {
     "data": {
      "text/plain": [
       "30"
      ]
     },
     "execution_count": 10,
     "metadata": {},
     "output_type": "execute_result"
    }
   ],
   "source": [
    "f2=lambda a1,a2:a1+a2\n",
    "f2(10,20)  # <<<< unnamed function"
   ]
  },
  {
   "cell_type": "code",
   "execution_count": 14,
   "metadata": {},
   "outputs": [
    {
     "data": {
      "text/plain": [
       "110"
      ]
     },
     "execution_count": 14,
     "metadata": {},
     "output_type": "execute_result"
    }
   ],
   "source": [
    "f3=lambda a1:a1+100\n",
    "f3(10)"
   ]
  },
  {
   "cell_type": "code",
   "execution_count": 16,
   "metadata": {},
   "outputs": [
    {
     "data": {
      "text/plain": [
       "True"
      ]
     },
     "execution_count": 16,
     "metadata": {},
     "output_type": "execute_result"
    }
   ],
   "source": [
    "f4=lambda a1,a2:a1>a2\n",
    "f4(1000,200)"
   ]
  },
  {
   "cell_type": "code",
   "execution_count": 18,
   "metadata": {},
   "outputs": [],
   "source": [
    "def fx(a):\n",
    "    return a+100"
   ]
  },
  {
   "cell_type": "code",
   "execution_count": 19,
   "metadata": {},
   "outputs": [
    {
     "data": {
      "text/plain": [
       "110"
      ]
     },
     "execution_count": 19,
     "metadata": {},
     "output_type": "execute_result"
    }
   ],
   "source": [
    "f5=lambda a1:fx(a1)\n",
    "f5(10)"
   ]
  },
  {
   "cell_type": "code",
   "execution_count": 20,
   "metadata": {},
   "outputs": [
    {
     "data": {
      "text/plain": [
       "'ABC'"
      ]
     },
     "execution_count": 20,
     "metadata": {},
     "output_type": "execute_result"
    }
   ],
   "source": [
    "f6=lambda a:a.upper()\n",
    "f6(\"abc\")"
   ]
  },
  {
   "cell_type": "code",
   "execution_count": null,
   "metadata": {},
   "outputs": [],
   "source": [
    "map\n",
    "filter\n",
    "reduce (3.x) ->functools ->import functools -> functools.reduce()\n"
   ]
  },
  {
   "cell_type": "code",
   "execution_count": null,
   "metadata": {},
   "outputs": [],
   "source": [
    "map(function,collection) ->[ ]\n",
    "\n",
    "filter(function,collection) -> [ ]\n",
    "\n",
    "reduce(function,collection) ->Single "
   ]
  },
  {
   "cell_type": "code",
   "execution_count": 21,
   "metadata": {},
   "outputs": [
    {
     "data": {
      "text/plain": [
       "[100, 101, 102, 103, 104]"
      ]
     },
     "execution_count": 21,
     "metadata": {},
     "output_type": "execute_result"
    }
   ],
   "source": [
    "L=[] \n",
    "def f1(a):\n",
    "    return a+100\n",
    "\n",
    "for var in range(5):\n",
    "    rv=f1(var)\n",
    "    L.append(rv)\n",
    "    \n",
    "L"
   ]
  },
  {
   "cell_type": "code",
   "execution_count": 26,
   "metadata": {},
   "outputs": [
    {
     "data": {
      "text/plain": [
       "[100, 101, 102, 103, 104]"
      ]
     },
     "execution_count": 26,
     "metadata": {},
     "output_type": "execute_result"
    }
   ],
   "source": [
    "L=list(map(f1,[var for var in range(5)]))\n",
    "L         # |__ named function"
   ]
  },
  {
   "cell_type": "code",
   "execution_count": 24,
   "metadata": {},
   "outputs": [
    {
     "data": {
      "text/plain": [
       "[100, 101, 102, 103, 104]"
      ]
     },
     "execution_count": 24,
     "metadata": {},
     "output_type": "execute_result"
    }
   ],
   "source": [
    "L=list(map(lambda a:a+100,[var for var in range(5)]))\n",
    "L"
   ]
  },
  {
   "cell_type": "code",
   "execution_count": 27,
   "metadata": {},
   "outputs": [
    {
     "name": "stdout",
     "output_type": "stream",
     "text": [
      "[False, False, False, False, False, False, True, True, True, True]\n"
     ]
    }
   ],
   "source": [
    "L=[]\n",
    "def fx(a):\n",
    "    if(a>5):\n",
    "        return True\n",
    "    else:\n",
    "        return False\n",
    "\n",
    "for var in range(10):\n",
    "    r=fx(var)\n",
    "    L.append(r)\n",
    "    \n",
    "print(L)"
   ]
  },
  {
   "cell_type": "code",
   "execution_count": 28,
   "metadata": {},
   "outputs": [
    {
     "data": {
      "text/plain": [
       "[False, False, False, False, False, False, True, True, True, True]"
      ]
     },
     "execution_count": 28,
     "metadata": {},
     "output_type": "execute_result"
    }
   ],
   "source": [
    "list(map(lambda a:a>5,range(10)))"
   ]
  },
  {
   "cell_type": "code",
   "execution_count": 29,
   "metadata": {},
   "outputs": [
    {
     "data": {
      "text/plain": [
       "[6, 7, 8, 9]"
      ]
     },
     "execution_count": 29,
     "metadata": {},
     "output_type": "execute_result"
    }
   ],
   "source": [
    "list(filter(lambda a:a>5,range(10)))"
   ]
  },
  {
   "cell_type": "code",
   "execution_count": 31,
   "metadata": {},
   "outputs": [
    {
     "data": {
      "text/plain": [
       "150"
      ]
     },
     "execution_count": 31,
     "metadata": {},
     "output_type": "execute_result"
    }
   ],
   "source": [
    "L=[10,20,30,40,50]\n",
    "s=0\n",
    "for var in L:\n",
    "    s=s+var\n",
    "s"
   ]
  },
  {
   "cell_type": "code",
   "execution_count": 32,
   "metadata": {},
   "outputs": [
    {
     "data": {
      "text/plain": [
       "150"
      ]
     },
     "execution_count": 32,
     "metadata": {},
     "output_type": "execute_result"
    }
   ],
   "source": [
    "from functools import reduce\n",
    "reduce(lambda a,b:a+b,L)"
   ]
  },
  {
   "cell_type": "code",
   "execution_count": 33,
   "metadata": {},
   "outputs": [
    {
     "name": "stdout",
     "output_type": "stream",
     "text": [
      "Yes\n"
     ]
    }
   ],
   "source": [
    "if reduce(lambda a,b:a+b,L) >100:\n",
    "    print(\"Yes\")\n",
    "else:\n",
    "    print(\"No\")"
   ]
  },
  {
   "cell_type": "code",
   "execution_count": 45,
   "metadata": {},
   "outputs": [
    {
     "data": {
      "text/plain": [
       "133014"
      ]
     },
     "execution_count": 45,
     "metadata": {},
     "output_type": "execute_result"
    }
   ],
   "source": [
    "reduce(lambda a,b:int(a)+int(b),[var.split(\",\")[-1] for var in open(\"C:\\\\users\\\\karthikeyan\\\\emp.csv\").readlines()])"
   ]
  },
  {
   "cell_type": "code",
   "execution_count": 49,
   "metadata": {},
   "outputs": [
    {
     "name": "stdout",
     "output_type": "stream",
     "text": [
      "133014\n"
     ]
    }
   ],
   "source": [
    "s=0\n",
    "FH=open(\"C:\\\\users\\\\karthikeyan\\\\emp.csv\")\n",
    "for var in FH.readlines():\n",
    "    L=var.split(\",\")\n",
    "    s=s+int(L[-1])\n",
    "\n",
    "print(s)"
   ]
  },
  {
   "cell_type": "code",
   "execution_count": null,
   "metadata": {},
   "outputs": [],
   "source": [
    "# object oriented programming \n",
    "# ----------------------------\n",
    "# class  object method   inheritance \n",
    "\n",
    "# class - type - codeblock - set of attrs \n",
    "|\n",
    "class classname:\n",
    "    attribute1\n",
    "    attribute2\n",
    "    ..\n",
    "    attributeN\n",
    "    \n",
    "classname.attribute1\n",
    "classname.attributeN=Newvalue\n",
    "    "
   ]
  },
  {
   "cell_type": "code",
   "execution_count": 52,
   "metadata": {},
   "outputs": [
    {
     "name": "stdout",
     "output_type": "stream",
     "text": [
      "5\n",
      "/var/log/test.log\n",
      "D:\\repo.log\n"
     ]
    }
   ],
   "source": [
    "class box:\n",
    "    fname='/var/log/test.log'\n",
    "    count=5\n",
    "    \n",
    "print(box.count)\n",
    "print(box.fname)\n",
    "box.fname=\"D:\\\\repo.log\" \n",
    "print(box.fname)"
   ]
  },
  {
   "cell_type": "code",
   "execution_count": 53,
   "metadata": {},
   "outputs": [
    {
     "name": "stdout",
     "output_type": "stream",
     "text": [
      "123\n"
     ]
    }
   ],
   "source": [
    "box.var=123 # we can create newattribute \n",
    "print(box.var)"
   ]
  },
  {
   "cell_type": "code",
   "execution_count": 54,
   "metadata": {},
   "outputs": [
    {
     "name": "stdout",
     "output_type": "stream",
     "text": [
      "10\n",
      "1.35\n",
      "data\n",
      "DATA\n",
      "['F1', 'F2']\n",
      "['F1', 'F2', 'd3']\n"
     ]
    }
   ],
   "source": [
    "class box:\n",
    "    v=10\n",
    "    f=1.35\n",
    "    s='data'\n",
    "    L=['F1','F2']\n",
    "    T=('D1','D2')\n",
    "    d={\"K1\":\"V1\",\"K2\":\"V2\"}\n",
    "    \n",
    "print(box.v)\n",
    "print(box.f)\n",
    "print(box.s)\n",
    "print(box.s.upper())\n",
    "print(box.L)\n",
    "box.L.append(\"d3\")\n",
    "print(box.L)"
   ]
  },
  {
   "cell_type": "code",
   "execution_count": 58,
   "metadata": {},
   "outputs": [
    {
     "name": "stdout",
     "output_type": "stream",
     "text": [
      "K1 V1\n",
      "K2 V2\n"
     ]
    }
   ],
   "source": [
    "for var in box.d:\n",
    "    print(var,box.d[var])"
   ]
  },
  {
   "cell_type": "code",
   "execution_count": null,
   "metadata": {},
   "outputs": [],
   "source": [
    "class - type - blue print of an object \n",
    "object - value - real entity\n",
    "\n",
    " +-------------------------+\n",
    " |        [ ]  [  ]        |   blueprint sheet - class \n",
    " |        [       ]        |\n",
    " +-------------------------+\n",
    "  |       |     ..     |\n",
    "  |       |            |\n",
    "  B1     B2           Bn <== real entity Building - object\n",
    "  |       |            |\n",
    " 1st     2nd          nth     <== different address(memory)\n",
    " Block   Block        Block "
   ]
  },
  {
   "cell_type": "code",
   "execution_count": null,
   "metadata": {},
   "outputs": [],
   "source": [
    "obj1=classname()\n",
    "(building1)\n",
    "\n",
    "obj2=classname()\n",
    "(building2)\n"
   ]
  },
  {
   "cell_type": "code",
   "execution_count": 60,
   "metadata": {},
   "outputs": [
    {
     "name": "stdout",
     "output_type": "stream",
     "text": [
      "1234\n",
      "1234\n"
     ]
    }
   ],
   "source": [
    "class Fax:\n",
    "    faxno=1234\n",
    "\n",
    "obj1=Fax()\n",
    "obj2=Fax()\n",
    "print(obj1.faxno)\n",
    "print(obj2.faxno)"
   ]
  },
  {
   "cell_type": "code",
   "execution_count": 61,
   "metadata": {},
   "outputs": [
    {
     "name": "stdout",
     "output_type": "stream",
     "text": [
      "5678\n",
      "5678\n"
     ]
    }
   ],
   "source": [
    "Fax.faxno=5678\n",
    "print(obj1.faxno)\n",
    "print(obj2.faxno)"
   ]
  },
  {
   "cell_type": "code",
   "execution_count": 62,
   "metadata": {},
   "outputs": [
    {
     "name": "stdout",
     "output_type": "stream",
     "text": [
      "F134\n",
      "5678\n",
      "5678\n"
     ]
    }
   ],
   "source": [
    "obj1.faxno='F134' # object based initialization\n",
    "print(obj1.faxno)\n",
    "print(Fax.faxno)\n",
    "print(obj2.faxno)"
   ]
  },
  {
   "cell_type": "code",
   "execution_count": 63,
   "metadata": {},
   "outputs": [
    {
     "name": "stdout",
     "output_type": "stream",
     "text": [
      "F134\n",
      "9999\n"
     ]
    }
   ],
   "source": [
    "Fax.faxno=9999\n",
    "print(obj1.faxno)\n",
    "print(obj2.faxno)"
   ]
  },
  {
   "cell_type": "code",
   "execution_count": 64,
   "metadata": {},
   "outputs": [
    {
     "name": "stdout",
     "output_type": "stream",
     "text": [
      "F134\n",
      "F454\n"
     ]
    }
   ],
   "source": [
    "obj2.faxno='F454'\n",
    "Fax.faxno=5555\n",
    "print(obj1.faxno)\n",
    "print(obj2.faxno)"
   ]
  },
  {
   "cell_type": "code",
   "execution_count": 70,
   "metadata": {},
   "outputs": [
    {
     "data": {
      "text/plain": [
       "dict"
      ]
     },
     "execution_count": 70,
     "metadata": {},
     "output_type": "execute_result"
    }
   ],
   "source": [
    "# def functionNAME():                       class classNAME:\n",
    "#        ...                                          ...\n",
    "# functionNAME() <-- function call   Vs         obj=classNAME() \n",
    "#\n",
    "# functionNAME() <-- function call symbol\n",
    "#\n",
    "# variable=()<-- tuple (data type)\n",
    "# \n",
    "#  '' b'' [] () {} \n",
    "type('5$% gH[10,20,30]')\n",
    "type(['data',True,-1,2])\n",
    "type([])\n",
    "type(())\n",
    "type({})"
   ]
  },
  {
   "cell_type": "code",
   "execution_count": 71,
   "metadata": {},
   "outputs": [
    {
     "name": "stdout",
     "output_type": "stream",
     "text": [
      "Unix-Server\n",
      "Linux-Server\n",
      "Winx-Server\n"
     ]
    }
   ],
   "source": [
    "class serverinfo:\n",
    "    sname='default-server'\n",
    "\n",
    "s1=serverinfo()\n",
    "s2=serverinfo()\n",
    "s3=serverinfo()\n",
    "\n",
    "s1.sname=\"Unix-Server\"\n",
    "s2.sname=\"Linux-Server\"\n",
    "s3.sname=\"Winx-Server\"\n",
    "\n",
    "print(s1.sname)\n",
    "print(s2.sname)\n",
    "print(s3.sname)"
   ]
  },
  {
   "cell_type": "code",
   "execution_count": 72,
   "metadata": {},
   "outputs": [
    {
     "name": "stdout",
     "output_type": "stream",
     "text": [
      "Unix-Server Linux-Server Winx-Server\n"
     ]
    }
   ],
   "source": [
    "serverinfo.sname=\"10.20.30.40\"\n",
    "print(s1.sname,s2.sname,s3.sname)"
   ]
  },
  {
   "cell_type": "code",
   "execution_count": 73,
   "metadata": {},
   "outputs": [
    {
     "name": "stdout",
     "output_type": "stream",
     "text": [
      "10.20.30.40\n"
     ]
    }
   ],
   "source": [
    "s4=serverinfo()\n",
    "print(s4.sname)"
   ]
  },
  {
   "cell_type": "code",
   "execution_count": 74,
   "metadata": {},
   "outputs": [
    {
     "name": "stdout",
     "output_type": "stream",
     "text": [
      "SunOS\n"
     ]
    }
   ],
   "source": [
    "s4.sname='SunOS'\n",
    "print(s4.sname)"
   ]
  },
  {
   "cell_type": "code",
   "execution_count": 78,
   "metadata": {},
   "outputs": [],
   "source": [
    "class EMP:\n",
    "    NAME=''\n",
    "    DEPT=''"
   ]
  },
  {
   "cell_type": "code",
   "execution_count": 79,
   "metadata": {},
   "outputs": [
    {
     "name": "stdout",
     "output_type": "stream",
     "text": [
      "<class '__main__.EMP'> <class '__main__.EMP'> <class '__main__.EMP'>\n"
     ]
    }
   ],
   "source": [
    "e1=EMP()\n",
    "e2=EMP()\n",
    "e3=EMP()\n",
    "print(type(e1),type(e2),type(e3))"
   ]
  },
  {
   "cell_type": "code",
   "execution_count": 80,
   "metadata": {},
   "outputs": [],
   "source": [
    "e1.NAME='arun'\n",
    "e1.DEPT='sales'\n",
    "e2.NAME='vijay'\n",
    "e2.DEPT='Prod'\n",
    "e3.NAME='kumar'\n",
    "e3.DEPT='HR'"
   ]
  },
  {
   "cell_type": "code",
   "execution_count": 82,
   "metadata": {},
   "outputs": [
    {
     "name": "stdout",
     "output_type": "stream",
     "text": [
      "Name:arun\t Working dept:sales\n",
      "Name:vijay\t Working dept:Prod\n",
      "Name:kumar\t Working dept:HR\n"
     ]
    }
   ],
   "source": [
    "print(\"Name:{}\\t Working dept:{}\".format(e1.NAME,e1.DEPT))\n",
    "print(\"Name:{}\\t Working dept:{}\".format(e2.NAME,e2.DEPT))\n",
    "print(\"Name:{}\\t Working dept:{}\".format(e3.NAME,e3.DEPT))"
   ]
  },
  {
   "cell_type": "code",
   "execution_count": 84,
   "metadata": {},
   "outputs": [
    {
     "data": {
      "text/plain": [
       "True"
      ]
     },
     "execution_count": 84,
     "metadata": {},
     "output_type": "execute_result"
    }
   ],
   "source": [
    "len(dir(EMP)) # 28\n",
    "\"DEPT\" in dir(EMP)"
   ]
  },
  {
   "cell_type": "code",
   "execution_count": 85,
   "metadata": {},
   "outputs": [
    {
     "data": {
      "text/plain": [
       "False"
      ]
     },
     "execution_count": 85,
     "metadata": {},
     "output_type": "execute_result"
    }
   ],
   "source": [
    "\"PLACE\" in dir(EMP)"
   ]
  },
  {
   "cell_type": "code",
   "execution_count": 86,
   "metadata": {},
   "outputs": [
    {
     "data": {
      "text/plain": [
       "True"
      ]
     },
     "execution_count": 86,
     "metadata": {},
     "output_type": "execute_result"
    }
   ],
   "source": [
    "EMP.PLACE=\"\"\n",
    "\"PLACE\" in dir(EMP)"
   ]
  },
  {
   "cell_type": "code",
   "execution_count": 87,
   "metadata": {},
   "outputs": [
    {
     "data": {
      "text/plain": [
       "29"
      ]
     },
     "execution_count": 87,
     "metadata": {},
     "output_type": "execute_result"
    }
   ],
   "source": [
    "len(dir(EMP)) # 29"
   ]
  },
  {
   "cell_type": "code",
   "execution_count": 89,
   "metadata": {},
   "outputs": [
    {
     "ename": "AttributeError",
     "evalue": "'EMP' object has no attribute 'code'",
     "output_type": "error",
     "traceback": [
      "\u001b[1;31m---------------------------------------------------------------------------\u001b[0m",
      "\u001b[1;31mAttributeError\u001b[0m                            Traceback (most recent call last)",
      "\u001b[1;32m<ipython-input-89-ff88ba44af64>\u001b[0m in \u001b[0;36m<module>\u001b[1;34m\u001b[0m\n\u001b[1;32m----> 1\u001b[1;33m \u001b[0me1\u001b[0m\u001b[1;33m.\u001b[0m\u001b[0mcode\u001b[0m\u001b[1;33m\u001b[0m\u001b[1;33m\u001b[0m\u001b[0m\n\u001b[0m",
      "\u001b[1;31mAttributeError\u001b[0m: 'EMP' object has no attribute 'code'"
     ]
    }
   ],
   "source": [
    "e1.code"
   ]
  },
  {
   "cell_type": "code",
   "execution_count": 90,
   "metadata": {},
   "outputs": [],
   "source": [
    "EMP.code=0"
   ]
  },
  {
   "cell_type": "code",
   "execution_count": 93,
   "metadata": {},
   "outputs": [
    {
     "data": {
      "text/plain": [
       "0"
      ]
     },
     "execution_count": 93,
     "metadata": {},
     "output_type": "execute_result"
    }
   ],
   "source": [
    "e1.code\n",
    "e2.code\n",
    "e3.code"
   ]
  },
  {
   "cell_type": "code",
   "execution_count": 94,
   "metadata": {},
   "outputs": [
    {
     "data": {
      "text/plain": [
       "''"
      ]
     },
     "execution_count": 94,
     "metadata": {},
     "output_type": "execute_result"
    }
   ],
   "source": [
    "e1.PLACE"
   ]
  },
  {
   "cell_type": "code",
   "execution_count": 96,
   "metadata": {},
   "outputs": [
    {
     "name": "stdout",
     "output_type": "stream",
     "text": [
      "About arun details:-\n",
      "-------------------------------\n",
      "Name:arun\n",
      "-----------\n",
      "Working dept:sales\n",
      "------------------------------\n",
      "Working city:City1\n",
      "-------------------------------\n"
     ]
    }
   ],
   "source": [
    "e1.PLACE=\"City1\"\n",
    "e2.PLACE=\"City2\"\n",
    "e3.PLACE=\"City3\"\n",
    "print(\"\"\"About {} details:-\n",
    "-------------------------------\n",
    "Name:{}\n",
    "-----------\n",
    "Working dept:{}\n",
    "------------------------------\n",
    "Working city:{}\n",
    "-------------------------------\"\"\".format(e1.NAME,e1.NAME,e1.DEPT,e1.PLACE))"
   ]
  },
  {
   "cell_type": "code",
   "execution_count": 97,
   "metadata": {},
   "outputs": [],
   "source": [
    "class Box:\n",
    "    v1=100\n",
    "    \n",
    "obj1=Box()\n",
    "obj2=Box()"
   ]
  },
  {
   "cell_type": "code",
   "execution_count": 98,
   "metadata": {},
   "outputs": [
    {
     "data": {
      "text/plain": [
       "200"
      ]
     },
     "execution_count": 98,
     "metadata": {},
     "output_type": "execute_result"
    }
   ],
   "source": [
    "obj1.v1 # 100\n",
    "obj2.v1 # 100\n",
    "Box.v1=200\n",
    "obj1.v1 # 200\n",
    "obj2.v1 # 200"
   ]
  },
  {
   "cell_type": "code",
   "execution_count": 99,
   "metadata": {},
   "outputs": [
    {
     "data": {
      "text/plain": [
       "200"
      ]
     },
     "execution_count": 99,
     "metadata": {},
     "output_type": "execute_result"
    }
   ],
   "source": [
    "obj1.v1='DATA1'\n",
    "obj2.v1='DATA2'\n",
    "obj1.v1 # DATA1\n",
    "obj2.v1 # DATA2\n",
    "Box.v1 # 200"
   ]
  },
  {
   "cell_type": "code",
   "execution_count": 100,
   "metadata": {},
   "outputs": [
    {
     "data": {
      "text/plain": [
       "200"
      ]
     },
     "execution_count": 100,
     "metadata": {},
     "output_type": "execute_result"
    }
   ],
   "source": [
    "obj3=Box()\n",
    "obj3.v1 # 200"
   ]
  },
  {
   "cell_type": "code",
   "execution_count": 101,
   "metadata": {},
   "outputs": [],
   "source": [
    "obj1.Code=123\n",
    "obj2.Temp='/tmp'"
   ]
  },
  {
   "cell_type": "code",
   "execution_count": 106,
   "metadata": {},
   "outputs": [
    {
     "ename": "AttributeError",
     "evalue": "'Box' object has no attribute 'Code'",
     "output_type": "error",
     "traceback": [
      "\u001b[1;31m---------------------------------------------------------------------------\u001b[0m",
      "\u001b[1;31mAttributeError\u001b[0m                            Traceback (most recent call last)",
      "\u001b[1;32m<ipython-input-106-6b62017e2142>\u001b[0m in \u001b[0;36m<module>\u001b[1;34m\u001b[0m\n\u001b[0;32m      1\u001b[0m \u001b[1;31m#Box.Code # AttributeError\u001b[0m\u001b[1;33m\u001b[0m\u001b[1;33m\u001b[0m\u001b[1;33m\u001b[0m\u001b[0m\n\u001b[0;32m      2\u001b[0m \u001b[1;31m#obj2.Code # AttributeError\u001b[0m\u001b[1;33m\u001b[0m\u001b[1;33m\u001b[0m\u001b[1;33m\u001b[0m\u001b[0m\n\u001b[1;32m----> 3\u001b[1;33m \u001b[0mobj3\u001b[0m\u001b[1;33m.\u001b[0m\u001b[0mCode\u001b[0m \u001b[1;31m# AttributeError\u001b[0m\u001b[1;33m\u001b[0m\u001b[1;33m\u001b[0m\u001b[0m\n\u001b[0m",
      "\u001b[1;31mAttributeError\u001b[0m: 'Box' object has no attribute 'Code'"
     ]
    }
   ],
   "source": [
    "#Box.Code # AttributeError \n",
    "#obj2.Code # AttributeError \n",
    "obj3.Code # AttributeError "
   ]
  },
  {
   "cell_type": "code",
   "execution_count": 107,
   "metadata": {},
   "outputs": [
    {
     "name": "stdout",
     "output_type": "stream",
     "text": [
      "sales prod\n"
     ]
    }
   ],
   "source": [
    "class Box1:                                 #   [     ] class \n",
    "    v1=100                                  #  [DEPT] [DEPT]\n",
    "                                            #   obj1   obj2\n",
    "obj1=Box1()\n",
    "obj2=Box1()\n",
    "obj1.DEPT='sales'\n",
    "obj2.DEPT='prod'\n",
    "print(obj1.DEPT,obj2.DEPT)"
   ]
  },
  {
   "cell_type": "code",
   "execution_count": 109,
   "metadata": {},
   "outputs": [
    {
     "ename": "AttributeError",
     "evalue": "'Box1' object has no attribute 'DEPT'",
     "output_type": "error",
     "traceback": [
      "\u001b[1;31m---------------------------------------------------------------------------\u001b[0m",
      "\u001b[1;31mAttributeError\u001b[0m                            Traceback (most recent call last)",
      "\u001b[1;32m<ipython-input-109-e03798a3f9f8>\u001b[0m in \u001b[0;36m<module>\u001b[1;34m\u001b[0m\n\u001b[0;32m      1\u001b[0m \u001b[0mobj3\u001b[0m\u001b[1;33m=\u001b[0m\u001b[0mBox1\u001b[0m\u001b[1;33m(\u001b[0m\u001b[1;33m)\u001b[0m\u001b[1;33m\u001b[0m\u001b[1;33m\u001b[0m\u001b[0m\n\u001b[1;32m----> 2\u001b[1;33m \u001b[0mprint\u001b[0m\u001b[1;33m(\u001b[0m\u001b[0mobj3\u001b[0m\u001b[1;33m.\u001b[0m\u001b[0mDEPT\u001b[0m\u001b[1;33m)\u001b[0m\u001b[1;33m\u001b[0m\u001b[1;33m\u001b[0m\u001b[0m\n\u001b[0m",
      "\u001b[1;31mAttributeError\u001b[0m: 'Box1' object has no attribute 'DEPT'"
     ]
    }
   ],
   "source": [
    "obj3=Box1()\n",
    "print(obj3.DEPT)"
   ]
  },
  {
   "cell_type": "code",
   "execution_count": 112,
   "metadata": {},
   "outputs": [
    {
     "name": "stdout",
     "output_type": "stream",
     "text": [
      "Maths Physics\n"
     ]
    }
   ],
   "source": [
    "class Box2:                                   # [   DEPT ='' ] Class\n",
    "    DEPT='xyz'                                #\n",
    "obj1=Box2()                                   # [ DEPT]   [DEPT]   [ ]\n",
    "obj2=Box2()\n",
    "\n",
    "obj1.DEPT='Maths'\n",
    "obj2.DEPT='Physics'\n",
    "print(obj1.DEPT,obj2.DEPT)"
   ]
  },
  {
   "cell_type": "code",
   "execution_count": 113,
   "metadata": {},
   "outputs": [
    {
     "name": "stdout",
     "output_type": "stream",
     "text": [
      "xyz\n"
     ]
    }
   ],
   "source": [
    "obj3=Box2()\n",
    "print(obj3.DEPT)"
   ]
  },
  {
   "cell_type": "code",
   "execution_count": null,
   "metadata": {},
   "outputs": [],
   "source": [
    "'''\n",
    "file: property.txt\n",
    "---------------------\n",
    "interface='eth0'\n",
    "onboot=none\n",
    "IP='10.20.30.40'\n",
    "prefix=24\n",
    "DNS1='145.665.534.456'\n",
    "\n",
    "STEP 1: empty dict\n",
    "\n",
    "STEP 2: use fileHandling - read data from <FILE> -line by line\n",
    "        split each line into multiple fields(value)//list\n",
    "        K,V=string.split(\"=\")\n",
    "step 3: add splited data to dict \n",
    "\n",
    "step 4: display key/value \n",
    "\n",
    "step 5: update onboot ->dhcp;\n",
    "               IP->'12.35.66.45'\n",
    "        ADD    DNS2 ->135.544.343.535\n",
    "        \n",
    "step 6: display updated dict details\n",
    "\n",
    "step 7: create a newFILE/Write data to FILE (newproperty.txt) file\n",
    "\n",
    "'''"
   ]
  },
  {
   "cell_type": "code",
   "execution_count": 122,
   "metadata": {},
   "outputs": [
    {
     "name": "stdout",
     "output_type": "stream",
     "text": [
      "{'interface': \"'eth0'\", 'onboot': 'none', 'IP': \"'10.20.30.40'\", 'prefix': '24', 'DNS1': \"'145.665.534.456'\"}\n",
      "\n",
      "interface\teth1\n",
      "onboot\tdhcp\n",
      "IP\t12.34.66.44\n",
      "prefix\t24\n",
      "DNS1\t'145.665.534.456'\n",
      "DNS2\t343.223.444.555\n"
     ]
    }
   ],
   "source": [
    "d={} # empty dict\n",
    "with open(\"D:\\\\property\") as FH:\n",
    "    for var in FH.readlines(): # reading data from <FILE> line by line\n",
    "        var=var.strip() # remove \\nchar\n",
    "        K,V=var.split(\"=\") # split single ->multiple value\n",
    "        d[K]=V # adding new data to existing dict\n",
    "\n",
    "print(d)\n",
    "d['interface']='eth1'\n",
    "d['onboot']='dhcp'\n",
    "d['IP']='12.34.66.44'\n",
    "d['DNS2']='343.223.444.555'\n",
    "print(\"\")\n",
    "for var in d:\n",
    "    print(\"{}\\t{}\".format(var,d[var]))\n",
    "    \n",
    "with open(\"D:\\\\newproperty.txt\",\"w\") as WH:\n",
    "    for var in d:\n",
    "        WH.write(\"{}={}\\n\".format(var,d[var]))\n",
    "        "
   ]
  },
  {
   "cell_type": "code",
   "execution_count": 123,
   "metadata": {},
   "outputs": [
    {
     "data": {
      "text/plain": [
       "100"
      ]
     },
     "execution_count": 123,
     "metadata": {},
     "output_type": "execute_result"
    }
   ],
   "source": [
    "class Box:\n",
    "    var=100\n",
    "    \n",
    "obj=Box()\n",
    "obj.var"
   ]
  },
  {
   "cell_type": "code",
   "execution_count": 125,
   "metadata": {},
   "outputs": [
    {
     "ename": "TypeError",
     "evalue": "f1() takes 0 positional arguments but 1 was given",
     "output_type": "error",
     "traceback": [
      "\u001b[1;31m---------------------------------------------------------------------------\u001b[0m",
      "\u001b[1;31mTypeError\u001b[0m                                 Traceback (most recent call last)",
      "\u001b[1;32m<ipython-input-125-12882f3ae8b1>\u001b[0m in \u001b[0;36m<module>\u001b[1;34m\u001b[0m\n\u001b[0;32m     10\u001b[0m \u001b[0mobj\u001b[0m\u001b[1;33m=\u001b[0m\u001b[0mBox\u001b[0m\u001b[1;33m(\u001b[0m\u001b[1;33m)\u001b[0m\u001b[1;33m\u001b[0m\u001b[1;33m\u001b[0m\u001b[0m\n\u001b[0;32m     11\u001b[0m \u001b[0mobj\u001b[0m\u001b[1;33m.\u001b[0m\u001b[0mvar\u001b[0m\u001b[1;33m\u001b[0m\u001b[1;33m\u001b[0m\u001b[0m\n\u001b[1;32m---> 12\u001b[1;33m \u001b[0mobj\u001b[0m\u001b[1;33m.\u001b[0m\u001b[0mf1\u001b[0m\u001b[1;33m(\u001b[0m\u001b[1;33m)\u001b[0m\u001b[1;33m\u001b[0m\u001b[1;33m\u001b[0m\u001b[0m\n\u001b[0m",
      "\u001b[1;31mTypeError\u001b[0m: f1() takes 0 positional arguments but 1 was given"
     ]
    }
   ],
   "source": [
    "class Box:\n",
    "    var=100\n",
    "    def f1():\n",
    "        print(\"f1 block from Box class\")\n",
    "\n",
    "# Box is a class \n",
    "# ---\n",
    "#   |_attributes - var f1 \n",
    "#     \n",
    "obj=Box()\n",
    "#obj.var\n",
    "# obj.f1() -->f1(obj)\n",
    "# obj.f1(10,20) -------> f1(obj,10,20)"
   ]
  },
  {
   "cell_type": "code",
   "execution_count": 127,
   "metadata": {},
   "outputs": [
    {
     "name": "stdout",
     "output_type": "stream",
     "text": [
      "Hello\n"
     ]
    },
    {
     "ename": "TypeError",
     "evalue": "f1() takes 0 positional arguments but 1 was given",
     "output_type": "error",
     "traceback": [
      "\u001b[1;31m---------------------------------------------------------------------------\u001b[0m",
      "\u001b[1;31mTypeError\u001b[0m                                 Traceback (most recent call last)",
      "\u001b[1;32m<ipython-input-127-b0b2310fbbf1>\u001b[0m in \u001b[0;36m<module>\u001b[1;34m\u001b[0m\n\u001b[0;32m      2\u001b[0m     \u001b[0mprint\u001b[0m\u001b[1;33m(\u001b[0m\u001b[1;34m\"Hello\"\u001b[0m\u001b[1;33m)\u001b[0m\u001b[1;33m\u001b[0m\u001b[1;33m\u001b[0m\u001b[0m\n\u001b[0;32m      3\u001b[0m \u001b[0mf1\u001b[0m\u001b[1;33m(\u001b[0m\u001b[1;33m)\u001b[0m\u001b[1;33m\u001b[0m\u001b[1;33m\u001b[0m\u001b[0m\n\u001b[1;32m----> 4\u001b[1;33m \u001b[0mf1\u001b[0m\u001b[1;33m(\u001b[0m\u001b[1;36m10\u001b[0m\u001b[1;33m)\u001b[0m\u001b[1;33m\u001b[0m\u001b[1;33m\u001b[0m\u001b[0m\n\u001b[0m",
      "\u001b[1;31mTypeError\u001b[0m: f1() takes 0 positional arguments but 1 was given"
     ]
    }
   ],
   "source": [
    "def f1():\n",
    "    print(\"Hello\")\n",
    "f1()\n",
    "f1(10) # Error "
   ]
  },
  {
   "cell_type": "code",
   "execution_count": 130,
   "metadata": {},
   "outputs": [
    {
     "name": "stdout",
     "output_type": "stream",
     "text": [
      "10\n",
      "10\n",
      "20\n"
     ]
    }
   ],
   "source": [
    "class Box:\n",
    "    var=10\n",
    "    def f1(self):\n",
    "        print(self.var) # obj.var\n",
    "        self.var=20 # obj.var=20\n",
    "obj=Box()\n",
    "print(obj.var) # 10\n",
    "obj.f1() # f1(obj)\n",
    "print(obj.var) # 20"
   ]
  },
  {
   "cell_type": "code",
   "execution_count": 133,
   "metadata": {},
   "outputs": [
    {
     "name": "stdout",
     "output_type": "stream",
     "text": [
      "10 10\n"
     ]
    }
   ],
   "source": [
    "class Box:\n",
    "    var=10\n",
    "    def f1(self,a1):\n",
    "        self.var=a1\n",
    "obj1=Box()\n",
    "obj2=Box()\n",
    "print(obj1.var,obj2.var) # (A)\n",
    "obj1.f1(100) # f1(obj1,100) # obj1.var=100  ->print(obj1.var) ->100\n",
    "obj2.f1(200) # f1(obj2,200) # obj2.var=200  ->print(obj2.var) ->200"
   ]
  },
  {
   "cell_type": "code",
   "execution_count": 132,
   "metadata": {},
   "outputs": [
    {
     "name": "stdout",
     "output_type": "stream",
     "text": [
      "100\n",
      "200\n"
     ]
    }
   ],
   "source": [
    "print(obj1.var) # (B)\n",
    "print(obj2.var) # (C)"
   ]
  },
  {
   "cell_type": "code",
   "execution_count": 137,
   "metadata": {},
   "outputs": [],
   "source": [
    "# help(list.append) # append(self,object)\n",
    "#      -----------\n",
    "#        |__ class list\n",
    "#                 def append(self,object):\n",
    "#                       .... |\n",
    "# L=list()                   |\n",
    "# L.append(\"D1\")   # append(L,\"D1\")\n",
    "# help(str.upper)  # upper(self)\n",
    "#        |__class str:\n",
    "#               def upper(self):\n",
    "#                        ...\n",
    "#\n"
   ]
  },
  {
   "cell_type": "code",
   "execution_count": 138,
   "metadata": {},
   "outputs": [
    {
     "data": {
      "text/plain": [
       "'ABC'"
      ]
     },
     "execution_count": 138,
     "metadata": {},
     "output_type": "execute_result"
    }
   ],
   "source": [
    "L=[]\n",
    "L.append(\"data\")\n",
    "L.append([\"D2\",\"D3\"])\n",
    "L.append(34)\n",
    "\n",
    "# python 2.x\n",
    "# help(list.append) -> def append(object): \n",
    "#                     L.append(object)\n",
    "#\n",
    "s='abc'\n",
    "s.upper() \n",
    "# help(str.upper) --> S.upper()"
   ]
  },
  {
   "cell_type": "code",
   "execution_count": 140,
   "metadata": {},
   "outputs": [
    {
     "name": "stdout",
     "output_type": "stream",
     "text": [
      "<class 'list'> 0\n"
     ]
    },
    {
     "data": {
      "text/plain": [
       "[]"
      ]
     },
     "execution_count": 140,
     "metadata": {},
     "output_type": "execute_result"
    }
   ],
   "source": [
    "L=list()   # obj=classname()\n",
    "print(type(L),len(L))\n",
    "L"
   ]
  },
  {
   "cell_type": "code",
   "execution_count": 141,
   "metadata": {},
   "outputs": [
    {
     "data": {
      "text/plain": [
       "''"
      ]
     },
     "execution_count": 141,
     "metadata": {},
     "output_type": "execute_result"
    }
   ],
   "source": [
    "s=str()\n",
    "s"
   ]
  },
  {
   "cell_type": "code",
   "execution_count": 142,
   "metadata": {},
   "outputs": [
    {
     "data": {
      "text/plain": [
       "['D1', 'D2', 'D3']"
      ]
     },
     "execution_count": 142,
     "metadata": {},
     "output_type": "execute_result"
    }
   ],
   "source": [
    "L=list()             #  obj=classname()\n",
    "L.append(\"D1\")       #  obj.method1(\"arg\") \n",
    "                     #  obj.method2(\"Args\")\n",
    "L.insert(1,\"D2\")\n",
    "L.append(\"D3\")\n",
    "L"
   ]
  },
  {
   "cell_type": "code",
   "execution_count": null,
   "metadata": {},
   "outputs": [],
   "source": [
    "'''\n",
    "classname -> student\n",
    "                attributes = sname,USN,place \n",
    "                  |__method1() - initialization sname,USN,place\n",
    "                  |__method2() - display student details\n",
    "                  |__method3() - update place \n",
    "                  |__display updated details //method2()\n",
    "'''"
   ]
  },
  {
   "cell_type": "code",
   "execution_count": 143,
   "metadata": {},
   "outputs": [],
   "source": [
    "class student:\n",
    "    sname=''\n",
    "    USN=0\n",
    "    place=''\n",
    "    def f1(self,a1,a2,a3):\n",
    "        self.sname=a1\n",
    "        self.USN=a2\n",
    "        self.place=a3\n",
    "    def f2(self):\n",
    "        print(\"Name:{}\\tUSN:{}\\tCityName:{}\".format(self.sname,self.USN,self.place))\n",
    "    def f3(self,a1):\n",
    "        self.place=a1\n",
    "        \n",
    "        "
   ]
  },
  {
   "cell_type": "code",
   "execution_count": 144,
   "metadata": {},
   "outputs": [
    {
     "name": "stdout",
     "output_type": "stream",
     "text": [
      "Name:arun\tUSN:1sbf3434\tCityName:city1\n"
     ]
    }
   ],
   "source": [
    "obj1=student()\n",
    "obj1.f1(\"arun\",\"1sbf3434\",'city1')\n",
    "obj1.f2()"
   ]
  },
  {
   "cell_type": "code",
   "execution_count": 145,
   "metadata": {},
   "outputs": [
    {
     "name": "stdout",
     "output_type": "stream",
     "text": [
      "Name:\tUSN:0\tCityName:\n"
     ]
    }
   ],
   "source": [
    "obj2=student()\n",
    "obj2.f2()"
   ]
  },
  {
   "cell_type": "code",
   "execution_count": 146,
   "metadata": {},
   "outputs": [
    {
     "name": "stdout",
     "output_type": "stream",
     "text": [
      "Name:Vijay\tUSN:4GH434334\tCityName:city2\n"
     ]
    }
   ],
   "source": [
    "obj2.f1(\"Vijay\",\"4GH434334\",\"city2\")\n",
    "obj2.f2()"
   ]
  },
  {
   "cell_type": "code",
   "execution_count": 147,
   "metadata": {},
   "outputs": [
    {
     "name": "stdout",
     "output_type": "stream",
     "text": [
      "Name:Vijay\tUSN:4GH434334\tCityName:city2\n"
     ]
    }
   ],
   "source": [
    "obj3=student()\n",
    "obj3.f1(\"kumar\",\"3FDDFDF\",\"city3\")\n",
    "obj2.f2()"
   ]
  },
  {
   "cell_type": "code",
   "execution_count": 150,
   "metadata": {},
   "outputs": [
    {
     "name": "stdout",
     "output_type": "stream",
     "text": [
      "Name:arun\tUSN:1sbf3434\tCityName:city1\n",
      "Name:Vijay\tUSN:4GH434334\tCityName:city2\n",
      "Name:kumar\tUSN:3FDDFDF\tCityName:city3\n"
     ]
    }
   ],
   "source": [
    "obj1.f2()\n",
    "obj2.f2()\n",
    "obj3.f2()"
   ]
  },
  {
   "cell_type": "code",
   "execution_count": 151,
   "metadata": {},
   "outputs": [
    {
     "name": "stdout",
     "output_type": "stream",
     "text": [
      "Name:Vijay\tUSN:4GH434334\tCityName:pune\n"
     ]
    }
   ],
   "source": [
    "obj2.f3(\"pune\")\n",
    "obj2.f2()"
   ]
  },
  {
   "cell_type": "code",
   "execution_count": 152,
   "metadata": {},
   "outputs": [
    {
     "name": "stdout",
     "output_type": "stream",
     "text": [
      "Name:arun\tUSN:1sbf3434\tCityName:city1\n",
      "Name:Vijay\tUSN:4GH434334\tCityName:pune\n",
      "Name:kumar\tUSN:3FDDFDF\tCityName:city3\n"
     ]
    }
   ],
   "source": [
    "obj1.f2()\n",
    "obj2.f2()\n",
    "obj3.f2()"
   ]
  },
  {
   "cell_type": "code",
   "execution_count": 156,
   "metadata": {},
   "outputs": [
    {
     "name": "stdout",
     "output_type": "stream",
     "text": [
      "arun\n",
      "Vijay\n"
     ]
    },
    {
     "data": {
      "text/plain": [
       "'kumar'"
      ]
     },
     "execution_count": 156,
     "metadata": {},
     "output_type": "execute_result"
    }
   ],
   "source": [
    "print(obj1.sname)\n",
    "print(obj2.sname)\n",
    "obj3.sname"
   ]
  },
  {
   "cell_type": "code",
   "execution_count": 157,
   "metadata": {},
   "outputs": [],
   "source": [
    "class student:\n",
    "    __sname=''\n",
    "    __USN=0\n",
    "    __place=''\n",
    "    def f1(self,a1,a2,a3):\n",
    "        self.__sname=a1\n",
    "        self.__USN=a2\n",
    "        self.__place=a3\n",
    "    def f2(self):\n",
    "        print(\"Name:{}\\tUSN:{}\\tCityName:{}\".format(self.__sname,self.__USN,self.__place))\n",
    "    def f3(self,a1):\n",
    "        self.__place=a1"
   ]
  },
  {
   "cell_type": "code",
   "execution_count": 159,
   "metadata": {},
   "outputs": [
    {
     "name": "stdout",
     "output_type": "stream",
     "text": [
      "Name:ANU\tUSN:1434334\tCityName:bglore\n"
     ]
    },
    {
     "ename": "AttributeError",
     "evalue": "'student' object has no attribute '__sname'",
     "output_type": "error",
     "traceback": [
      "\u001b[1;31m---------------------------------------------------------------------------\u001b[0m",
      "\u001b[1;31mAttributeError\u001b[0m                            Traceback (most recent call last)",
      "\u001b[1;32m<ipython-input-159-d0bb768cfcbd>\u001b[0m in \u001b[0;36m<module>\u001b[1;34m\u001b[0m\n\u001b[0;32m      2\u001b[0m \u001b[0mobj1\u001b[0m\u001b[1;33m.\u001b[0m\u001b[0mf1\u001b[0m\u001b[1;33m(\u001b[0m\u001b[1;34m\"ANU\"\u001b[0m\u001b[1;33m,\u001b[0m\u001b[1;34m'1434334'\u001b[0m\u001b[1;33m,\u001b[0m\u001b[1;34m'bglore'\u001b[0m\u001b[1;33m)\u001b[0m\u001b[1;33m\u001b[0m\u001b[1;33m\u001b[0m\u001b[0m\n\u001b[0;32m      3\u001b[0m \u001b[0mobj1\u001b[0m\u001b[1;33m.\u001b[0m\u001b[0mf2\u001b[0m\u001b[1;33m(\u001b[0m\u001b[1;33m)\u001b[0m\u001b[1;33m\u001b[0m\u001b[1;33m\u001b[0m\u001b[0m\n\u001b[1;32m----> 4\u001b[1;33m \u001b[0mobj1\u001b[0m\u001b[1;33m.\u001b[0m\u001b[0m__sname\u001b[0m\u001b[1;33m\u001b[0m\u001b[1;33m\u001b[0m\u001b[0m\n\u001b[0m",
      "\u001b[1;31mAttributeError\u001b[0m: 'student' object has no attribute '__sname'"
     ]
    }
   ],
   "source": [
    "obj1=student()\n",
    "obj1.f1(\"ANU\",'1434334','bglore')\n",
    "obj1.f2()\n",
    "obj1.__sname"
   ]
  },
  {
   "cell_type": "code",
   "execution_count": null,
   "metadata": {},
   "outputs": [],
   "source": [
    "# class  fsdetails:\n",
    "#            fstype,findex,fpartition,fmount\n",
    "#              \n",
    "#           initialization\n",
    "#           display details\n",
    "#           change partition,mount directory\n",
    "#           display updated details "
   ]
  },
  {
   "cell_type": "code",
   "execution_count": 163,
   "metadata": {},
   "outputs": [],
   "source": [
    "class fsdetails:\n",
    "    __fstype=''\n",
    "    __findex=0\n",
    "    __fpart=''\n",
    "    __fmount='/'\n",
    "    def f1(self,*args):\n",
    "        if(len(args) == 0):\n",
    "            print(\"Empty argument\")\n",
    "            exit() # exit from script\n",
    "        self.__fstype=args[0]\n",
    "        self.__findex=args[1]\n",
    "        self.__fpart=args[2]\n",
    "        self.__fmount=args[-1]\n",
    "    def f2(self):\n",
    "        return self.__fstype,self.__findex,self.__fpart,self.__fmount\n",
    "    def f3(self,a1,a2):\n",
    "        self.__fpart=a1\n",
    "        self.__fmount=a2\n",
    "    \n",
    "obj1=fsdetails()\n",
    "obj1.f1(\"xfs\",1001,\"/dev/sda1\",\"/D1\")\n",
    "rv1=obj1.f2()\n",
    "obj1.f3(\"/dev/xvdb1\",'/home/D1')\n",
    "\n",
    "obj2=fsdetails()\n",
    "obj2.f1(\"ext4\",1023,\"/dev/sda2\",\"/D2\")\n",
    "rv2=obj2.f2()\n",
    "obj2.f3(\"/dev/mapper\",\"/mnt\")\n"
   ]
  },
  {
   "cell_type": "code",
   "execution_count": 164,
   "metadata": {},
   "outputs": [
    {
     "name": "stdout",
     "output_type": "stream",
     "text": [
      "('xfs', 1001, '/dev/sda1', '/D1')\n",
      "('ext4', 1023, '/dev/sda2', '/D2')\n"
     ]
    }
   ],
   "source": [
    "print(rv1)\n",
    "print(rv2)"
   ]
  },
  {
   "cell_type": "code",
   "execution_count": 165,
   "metadata": {},
   "outputs": [
    {
     "data": {
      "text/plain": [
       "('xfs', 1001, '/dev/xvdb1', '/home/D1')"
      ]
     },
     "execution_count": 165,
     "metadata": {},
     "output_type": "execute_result"
    }
   ],
   "source": [
    "obj1.f2()"
   ]
  },
  {
   "cell_type": "code",
   "execution_count": 166,
   "metadata": {},
   "outputs": [
    {
     "data": {
      "text/plain": [
       "('ext4', 1023, '/dev/mapper', '/mnt')"
      ]
     },
     "execution_count": 166,
     "metadata": {},
     "output_type": "execute_result"
    }
   ],
   "source": [
    "obj2.f2()"
   ]
  },
  {
   "cell_type": "code",
   "execution_count": null,
   "metadata": {},
   "outputs": [],
   "source": [
    "class DB:\n",
    "    def f1(self,....):\n",
    "        dbinitialization task\n",
    "        self.var=value\n",
    "    def f2(self):\n",
    "        Query\n",
    "    def f3(self):\n",
    "        operation1\n",
    "    def f4(self):\n",
    "        operation2\n",
    "\n",
    "obj1=DB()    Vs   obj2=DB()\n",
    "obj1.f1()         obj2.f2() \n",
    "obj1.f2()\n"
   ]
  },
  {
   "cell_type": "code",
   "execution_count": 169,
   "metadata": {},
   "outputs": [
    {
     "name": "stdout",
     "output_type": "stream",
     "text": [
      "non-constructor\n"
     ]
    }
   ],
   "source": [
    "class Box:\n",
    "    def f1(self):\n",
    "        print(\"non-constructor\")\n",
    "obj=Box()\n",
    "obj.f1()"
   ]
  },
  {
   "cell_type": "code",
   "execution_count": 171,
   "metadata": {},
   "outputs": [
    {
     "name": "stdout",
     "output_type": "stream",
     "text": [
      "constructor\n"
     ]
    }
   ],
   "source": [
    "class Box:\n",
    "    def __init__(self):\n",
    "        print(\"constructor\")\n",
    "    \n",
    "obj=Box()"
   ]
  },
  {
   "cell_type": "code",
   "execution_count": 174,
   "metadata": {},
   "outputs": [
    {
     "name": "stdout",
     "output_type": "stream",
     "text": [
      "constructor block\n",
      "10 20\n"
     ]
    }
   ],
   "source": [
    "class Box:\n",
    "    def __init__(self,a1,a2):\n",
    "        self.v1=a1\n",
    "        self.v2=a2\n",
    "        print(\"constructor block\")\n",
    "obj1=Box(10,20)\n",
    "print(obj1.v1,obj1.v2)"
   ]
  },
  {
   "cell_type": "code",
   "execution_count": null,
   "metadata": {},
   "outputs": [],
   "source": [
    "class DB:\n",
    "    def __init__(self,....):\n",
    "        dbinitialization task\n",
    "        self.var=value\n",
    "    def f2(self):\n",
    "        Query\n",
    "    def f3(self):\n",
    "        operation1\n",
    "    def f4(self):\n",
    "        operation2\n",
    "\n",
    "obj1=DB(dbname,user,IP,port,....)    Vs   obj2=DB() <==Error \n",
    "                                          obj2.f2() \n",
    "obj1.f2()\n"
   ]
  },
  {
   "cell_type": "code",
   "execution_count": 176,
   "metadata": {},
   "outputs": [
    {
     "name": "stdout",
     "output_type": "stream",
     "text": [
      "10 20 30 (40, 50, 60) {'db': 'sql', 'name': 'root'}\n"
     ]
    }
   ],
   "source": [
    "class Box:\n",
    "    def __init__(self,a1,a2,a3=0,*args,**kwargs):\n",
    "        print(a1,a2,a3,args,kwargs)\n",
    "        \n",
    "obj=Box(10,20,30,40,50,60,db='sql',name='root')\n",
    "        "
   ]
  },
  {
   "cell_type": "code",
   "execution_count": 182,
   "metadata": {},
   "outputs": [
    {
     "name": "stdout",
     "output_type": "stream",
     "text": [
      "Hello\n",
      "(10, 20)\n",
      "{'var': 1234}\n",
      "Hello\n",
      "()\n",
      "{}\n"
     ]
    }
   ],
   "source": [
    "def f1(*args,**kwargs):\n",
    "    print(\"Hello\")\n",
    "    print(args)\n",
    "    print(kwargs)\n",
    "    \n",
    "\n",
    "f1(10,20,var=1234)\n",
    "f1()"
   ]
  },
  {
   "cell_type": "code",
   "execution_count": 185,
   "metadata": {},
   "outputs": [
    {
     "name": "stdout",
     "output_type": "stream",
     "text": [
      "Constructor\n",
      "()\n",
      "{}\n",
      "Constructor\n",
      "(10, 20)\n",
      "{}\n",
      "Constructor\n",
      "()\n",
      "{'sh': '/bin/bash'}\n",
      "Constructor\n",
      "(100, 200)\n",
      "{'sh': '/usr/bin/ksh'}\n"
     ]
    }
   ],
   "source": [
    "class Box:\n",
    "    def __init__(self,*args,**kwargs):\n",
    "        print(\"Constructor\")\n",
    "        print(args)\n",
    "        print(kwargs)\n",
    "obj1=Box()\n",
    "obj2=Box(10,20)\n",
    "obj3=Box(sh='/bin/bash')\n",
    "obj4=Box(100,200,sh='/usr/bin/ksh')"
   ]
  },
  {
   "cell_type": "code",
   "execution_count": 189,
   "metadata": {},
   "outputs": [
    {
     "name": "stdout",
     "output_type": "stream",
     "text": [
      "Hello\n"
     ]
    }
   ],
   "source": [
    "class Emp:\n",
    "    def __init__(self):\n",
    "        print(\"Hello\")\n",
    "obj=Emp()"
   ]
  },
  {
   "cell_type": "code",
   "execution_count": 190,
   "metadata": {},
   "outputs": [
    {
     "data": {
      "text/plain": [
       "('xfs', 1001, '/dev/sda1', '/D1')"
      ]
     },
     "execution_count": 190,
     "metadata": {},
     "output_type": "execute_result"
    }
   ],
   "source": [
    "class fsdetails:\n",
    "    def __init__(self,*args):\n",
    "        if(len(args) == 0):\n",
    "            print(\"Empty argument\")\n",
    "            exit() # exit from script\n",
    "        self.__fstype=args[0]\n",
    "        self.__findex=args[1]\n",
    "        self.__fpart=args[2]\n",
    "        self.__fmount=args[-1]\n",
    "    def f2(self):\n",
    "        return self.__fstype,self.__findex,self.__fpart,self.__fmount\n",
    "    def f3(self,a1,a2):\n",
    "        self.__fpart=a1\n",
    "        self.__fmount=a2\n",
    "    \n",
    "obj1=fsdetails(\"xfs\",1001,\"/dev/sda1\",\"/D1\")\n",
    "#obj1.f1(\"xfs\",1001,\"/dev/sda1\",\"/D1\")\n",
    "rv1=obj1.f2()\n",
    "obj1.f3(\"/dev/xvdb1\",'/home/D1')\n",
    "rv1"
   ]
  },
  {
   "cell_type": "code",
   "execution_count": 191,
   "metadata": {},
   "outputs": [
    {
     "data": {
      "text/plain": [
       "('xfs', 1001, '/dev/xvdb1', '/home/D1')"
      ]
     },
     "execution_count": 191,
     "metadata": {},
     "output_type": "execute_result"
    }
   ],
   "source": [
    "obj1.f2()"
   ]
  },
  {
   "cell_type": "code",
   "execution_count": null,
   "metadata": {},
   "outputs": [],
   "source": [
    "                      Running           \n",
    "                      |\n",
    "python3 (parent)   - Waiting    <---------------\n",
    " |                                              |\n",
    "subprocess(command-child) - R+ (Running)        |\n",
    " |                                 |__Exit______|"
   ]
  },
  {
   "cell_type": "code",
   "execution_count": null,
   "metadata": {},
   "outputs": [],
   "source": [
    "import os\n",
    "os.system(\"command\") -->STDOUT\n",
    "|\n",
    "return status code \n",
    "\n",
    "s=os.popen(\"command\").read() / L=os.popen(\"command\").readlines()\n",
    "\n",
    "import subprocess\n",
    "\n",
    "subprocess.check_output(\"command\") ->''/b''\n",
    "                         --------\n",
    "                         \"command -option\",shell=True\n",
    "                         [\"command\",\"options\"]\n",
    "            \n",
    "subprocess.Popen\n",
    "            |\n",
    "            piping one process to another\n",
    "             open/troubleshoot - intermediate processs\n",
    "            |\n",
    "            SSH\n"
   ]
  },
  {
   "cell_type": "code",
   "execution_count": null,
   "metadata": {},
   "outputs": [],
   "source": [
    ">>> wh=open(\"D:\\\\r1.log\",\"w\")\n",
    ">>>\n",
    ">>> subprocess.call(\"powershell get-process\",shell=True,stdout=wh)\n",
    "0\n",
    ">>> subprocess.Popen([\"powershell\",\"get-process\",\"zoom\"])\n",
    "<subprocess.Popen object at 0x00AD8A90>\n",
    ">>>\n",
    "Handles  NPM(K)    PM(K)      WS(K)     CPU(s)     Id  SI ProcessName\n",
    "-------  ------    -----      -----     ------     --  -- -----------\n",
    "    540      51    83008      70960      17.44   4428   1 Zoom\n",
    "    684     163   381496     356224   1,270.53   6296   1 Zoom\n",
    "\n",
    "\n",
    "\n",
    ">>> # class object methods\n",
    ">>> # inhertiance\n",
    ">>> # @classmethod\n",
    ">>> # |\n",
    ">>> # decorator\n",
    ">>> # iterator ->generator\n",
    ">>> # regx\n",
    ">>> #   |__Search;Substitute;split(awk) + inputValidation\n",
    ">>>\n",
    "\n",
    "\n"
   ]
  }
 ],
 "metadata": {
  "kernelspec": {
   "display_name": "Python 3",
   "language": "python",
   "name": "python3"
  },
  "language_info": {
   "codemirror_mode": {
    "name": "ipython",
    "version": 3
   },
   "file_extension": ".py",
   "mimetype": "text/x-python",
   "name": "python",
   "nbconvert_exporter": "python",
   "pygments_lexer": "ipython3",
   "version": "3.8.5"
  }
 },
 "nbformat": 4,
 "nbformat_minor": 4
}
