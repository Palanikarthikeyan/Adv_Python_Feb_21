{
 "cells": [
  {
   "cell_type": "code",
   "execution_count": null,
   "metadata": {},
   "outputs": [],
   "source": [
    "Python -> object - real entity - each object having unique address\n",
    "    \n",
    "10 11 12 13 1.3 1.4 'a' '%' ' ' \n",
    "\n",
    "CPython - Global InterpreterLock (GIL)\n",
    "\n",
    "GIL - Mutex (lock)\n",
    "---\n",
    "|-->is not developer \n",
    "\n",
    "a=10       b=10\n",
    "a=a+1      b=a+1\n",
    "|          | \n",
    "t1         t2\n",
    "\n",
    "id(a) == id(b) ->True\n",
    "a=11      \n",
    "|\n",
    "b=11+1\n",
    "b=12\n",
    "\n",
    "\n",
    "a=10\n",
    "b=a\n",
    "\n",
    "a->a+1 (t1) => 10+1 => 11  \n",
    "      \n",
    "b->b+1  (t2) => 10+1 => 11\n",
    "\n",
    "a->a+1 (t1) ->10+1 => a=11\n",
    "b->b+1 (t2) ->11+1 => b=12\n",
    "                      ---- //racecondition"
   ]
  },
  {
   "cell_type": "code",
   "execution_count": 2,
   "metadata": {},
   "outputs": [
    {
     "data": {
      "text/plain": [
       "4364"
      ]
     },
     "execution_count": 2,
     "metadata": {},
     "output_type": "execute_result"
    }
   ],
   "source": [
    "import sys\n",
    "a=0\n",
    "b=a\n",
    "sys.getrefcount(b)"
   ]
  },
  {
   "cell_type": "code",
   "execution_count": null,
   "metadata": {},
   "outputs": [],
   "source": [
    "Kernel = File , Process\n",
    "File - Data under the storage (Holding the data) \n",
    "Process - Data under the CPU  ( Execution)\n",
    "-------\n",
    "1.fetch the data from Memory\n",
    "2.stores to cpu register\n",
    "3.execute data //process\n",
    "\n",
    "Process= Data + Address\n",
    "Thread = Data  - Flow/execution of data - LWP\n",
    "Process\n",
    "========\n",
    "Process Ctrl Block (PCB)\n",
    "\n",
    "Thread - Thread Ctrl Block TCB\n",
    "=================================\n",
    "Thread ID\n",
    "Stack pointer\n",
    "Thread State\n",
    "Thread register\n",
    "Parent process Pointer - PCB\n",
    "------------------------------    =====================\n",
    "    PCB                                       TCB\n",
    "----------------------------      =======================\n",
    "   PID    <------------------------------ Parent Process Pointer(PCB)\n",
    "   STATE                                     Thread ID\n",
    "   COUNTER                                     ...\n",
    "   ...\n",
    "   IPC\n",
    "------------------------------   ========================="
   ]
  },
  {
   "cell_type": "code",
   "execution_count": 5,
   "metadata": {},
   "outputs": [
    {
     "name": "stdout",
     "output_type": "stream",
     "text": [
      "Main section\n",
      "F1 block\n",
      "Exit from F1 block\n",
      "Exit from main sectioncode\n"
     ]
    }
   ],
   "source": [
    "import time\n",
    "def f1():\n",
    "    print(\"F1 block\")\n",
    "    time.sleep(2)\n",
    "    print(\"Exit from F1 block\")\n",
    "\n",
    "print(\"Main section\")\n",
    "f1()\n",
    "print(\"Exit from main sectioncode\")\n",
    "    "
   ]
  },
  {
   "cell_type": "code",
   "execution_count": 4,
   "metadata": {},
   "outputs": [
    {
     "data": {
      "text/plain": [
       "threading.Thread"
      ]
     },
     "execution_count": 4,
     "metadata": {},
     "output_type": "execute_result"
    }
   ],
   "source": [
    "import threading\n",
    "\n",
    "\n",
    "# obj=threading.Thread(target=Thread_NAME,args=(tupleargs))\n",
    "# obj.start()                 ^^^^^^^^^^^\n"
   ]
  },
  {
   "cell_type": "code",
   "execution_count": 7,
   "metadata": {},
   "outputs": [
    {
     "name": "stdout",
     "output_type": "stream",
     "text": [
      "Main thread -1\n",
      "F1 block\n",
      "Main thread -2\n",
      "Exit from F1 block\n"
     ]
    }
   ],
   "source": [
    "def f1():\n",
    "    print(\"F1 block\")\n",
    "    time.sleep(2)\n",
    "    print(\"Exit from F1 block\")\n",
    "    \n",
    "print(\"Main thread -1\")\n",
    "obj1=threading.Thread(target=f1)\n",
    "obj1.start()\n",
    "print(\"Main thread -2\")"
   ]
  },
  {
   "cell_type": "code",
   "execution_count": 11,
   "metadata": {},
   "outputs": [
    {
     "name": "stdout",
     "output_type": "stream",
     "text": [
      "Main-Thread-1\n",
      "Thread-1\n",
      "Thread-2\n",
      "Main thread count:1\n",
      "Main thread count:2\n",
      "Main thread count:3\n",
      "Main thread count:4\n",
      "Main thread count:5\n",
      "Exit from Main thread\n"
     ]
    }
   ],
   "source": [
    "def f1():\n",
    "    print(\"Thread-1\")\n",
    "    for var in range(10000000000):\n",
    "        var=var+1\n",
    "    print(\"Exit from Thread-1\")\n",
    "    \n",
    "def f2():\n",
    "    print(\"Thread-2\")\n",
    "    time.sleep(200000)\n",
    "    print(\"Exit from Thread-2\")\n",
    "    \n",
    "print(\"Main-Thread-1\")\n",
    "t1=threading.Thread(target=f1)\n",
    "t2=threading.Thread(target=f2)\n",
    "t1.start()\n",
    "t2.start()\n",
    "for var in range(5):\n",
    "    print(\"Main thread count:{}\".format(var+1))\n",
    "    \n",
    "print(\"Exit from Main thread\")"
   ]
  },
  {
   "cell_type": "code",
   "execution_count": null,
   "metadata": {},
   "outputs": [],
   "source": [
    "def f1():\n",
    "    print(\"Thread-1\")\n",
    "    for var in range(10000000000):\n",
    "        var=var+1\n",
    "    print(\"Exit from Thread-1\")\n",
    "    \n",
    "def f2():\n",
    "    print(\"Thread-2\")\n",
    "    time.sleep(20)\n",
    "    print(\"Exit from Thread-2\")\n",
    "    \n",
    "print(\"Main-Thread-1\")\n",
    "t1=threading.Thread(target=f1)\n",
    "t2=threading.Thread(target=f2)\n",
    "t1.start()\n",
    "t2.start()\n",
    "for var in range(5):\n",
    "    print(\"Main thread count:{}\".format(var+1))\n",
    "    \n",
    "t1.join() # wait until childthread(f1) is completely executed\n",
    "t2.join() # wait until childthread(f2) is completely executed\n",
    "print(\"Exit from Main thread\")"
   ]
  },
  {
   "cell_type": "code",
   "execution_count": null,
   "metadata": {},
   "outputs": [],
   "source": [
    "def f1(a1):\n",
    "    print(\"F1 thread\")\n",
    "    print(a1+100)\n",
    "    print(\"Exit from f1 thread\")\n",
    "    \n",
    "def f2(a1):\n",
    "    print(\"F2 thread\")\n",
    "    print(a1+200)\n",
    "    print(\"Exit from f2 thread\")\n",
    "    \n",
    "t1=threading.Thread(target=f1,args=(10,))\n",
    "t2=threading.Thread(target=f2,args=(20,))\n",
    "t1.start()\n",
    "t2.start()\n",
    "t1.join()\n",
    "t2.join()\n",
    "print(\"Exit from main thread\") "
   ]
  }
 ],
 "metadata": {
  "kernelspec": {
   "display_name": "Python 3",
   "language": "python",
   "name": "python3"
  },
  "language_info": {
   "codemirror_mode": {
    "name": "ipython",
    "version": 3
   },
   "file_extension": ".py",
   "mimetype": "text/x-python",
   "name": "python",
   "nbconvert_exporter": "python",
   "pygments_lexer": "ipython3",
   "version": "3.8.5"
  }
 },
 "nbformat": 4,
 "nbformat_minor": 4
}
