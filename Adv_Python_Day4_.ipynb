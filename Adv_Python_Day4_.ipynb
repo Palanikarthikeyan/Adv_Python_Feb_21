{
 "cells": [
  {
   "cell_type": "code",
   "execution_count": 8,
   "metadata": {},
   "outputs": [
    {
     "name": "stdout",
     "output_type": "stream",
     "text": [
      "Thread- f1 block\n",
      "200\n",
      "Thread NAME is:THREAD1\n",
      "Exit from thread\n"
     ]
    }
   ],
   "source": [
    "import threading\n",
    "import os\n",
    "import time\n",
    "\n",
    "def f1(a1):\n",
    "    print(\"Thread- f1 block\")\n",
    "    print(a1+100)\n",
    "    print(\"Thread NAME is:{}\".format(threading.current_thread().name))\n",
    "    print(\"Exit from thread\")\n",
    "    \n",
    "t1=threading.Thread(target=f1,args=(100,),name='THREAD1')\n",
    "t1.start()"
   ]
  },
  {
   "cell_type": "code",
   "execution_count": 9,
   "metadata": {},
   "outputs": [
    {
     "name": "stdout",
     "output_type": "stream",
     "text": [
      "Thread- f1 blockIam THREAD2\n",
      "200\n",
      "Thread NAME is:THREAD1\n",
      "Exit from thread\n",
      "\n",
      "Exit from thread\n"
     ]
    }
   ],
   "source": [
    "import threading\n",
    "import os\n",
    "import time\n",
    "\n",
    "def f1(a1):\n",
    "    print(\"Thread- f1 block\")\n",
    "    print(a1+100)\n",
    "    print(\"Thread NAME is:{}\".format(threading.current_thread().name))\n",
    "    print(\"Exit from thread\")\n",
    "    \n",
    "def f2():\n",
    "    print(\"Iam {}\".format(threading.current_thread().name))\n",
    "    print(\"Exit from thread\")\n",
    "t1=threading.Thread(target=f1,args=(100,),name='THREAD1')\n",
    "t1.start()\n",
    "t2=threading.Thread(target=f2,name='THREAD2')\n",
    "t2.start()"
   ]
  },
  {
   "cell_type": "code",
   "execution_count": null,
   "metadata": {},
   "outputs": [],
   "source": [
    "# p1.py (process) <== os.getpid() \n",
    "# -----\n",
    "# t1 t2 ..tn \n",
    "# |  |     |\n",
    "# threading.get_ident()"
   ]
  },
  {
   "cell_type": "code",
   "execution_count": 14,
   "metadata": {},
   "outputs": [
    {
     "name": "stdout",
     "output_type": "stream",
     "text": [
      "MAIN THREAD\n",
      "\t==>PID:5956\t ThreadID:5100\n",
      "thread name:THREAD1\n",
      "PID:5956\t ThreadID:6756\n",
      "Exit from THREAD1 thread\n",
      "thread name:THREAD2\n",
      "PID:5956\t ThreadID:2148\n",
      "Exit from THREAD2 thread\n",
      "\t==>PID:5956\t ThreadID:5100\n",
      "Exit from Main Thread\n"
     ]
    }
   ],
   "source": [
    "def f1():\n",
    "    print(\"thread name:{}\".format(threading.current_thread().name))\n",
    "    print(\"PID:{}\\t ThreadID:{}\".format(os.getpid(),threading.get_ident()))\n",
    "    print(\"Exit from {} thread\".format(threading.current_thread().name))\n",
    "\n",
    "def f2():\n",
    "    print(\"thread name:{}\".format(threading.current_thread().name))\n",
    "    print(\"PID:{}\\t ThreadID:{}\".format(os.getpid(),threading.get_ident()))\n",
    "    print(\"Exit from {} thread\".format(threading.current_thread().name))\n",
    "\n",
    "    \n",
    "print(\"MAIN THREAD\")\n",
    "print(\"\\t==>PID:{}\\t ThreadID:{}\".format(os.getpid(),threading.get_ident()))\n",
    "t1=threading.Thread(target=f1,name='THREAD1')\n",
    "t1.start()\n",
    "\n",
    "t2=threading.Thread(target=f2,name='THREAD2')\n",
    "t2.start()\n",
    "t1.join()\n",
    "t2.join()\n",
    "print(\"\\t==>PID:{}\\t ThreadID:{}\".format(os.getpid(),threading.get_ident()))\n",
    "print(\"Exit from Main Thread\")"
   ]
  },
  {
   "cell_type": "code",
   "execution_count": 21,
   "metadata": {},
   "outputs": [
    {
     "name": "stdout",
     "output_type": "stream",
     "text": [
      "TID:2816\n",
      "from Thread0 result value:1\n",
      "TID:6868\n",
      "from Thread1 result value:2\n",
      "TID:6284\n",
      "from Thread2 result value:3\n",
      "TID:168\n",
      "from Thread3 result value:4\n",
      "TID:3792\n",
      "from Thread4 result value:5\n"
     ]
    }
   ],
   "source": [
    "def f1(a):\n",
    "   \n",
    "    for var in range(a):\n",
    "        result=var+1\n",
    "    else:\n",
    "        print(\"from {} result value:{}\".format(threading.current_thread().name,result))\n",
    "        \n",
    "        \n",
    "for v in range(5):\n",
    "    t1=threading.Thread(target=f1,args=(v+1,),name=\"Thread\"+str(v))\n",
    "    t1.start()\n",
    "\n",
    "    "
   ]
  },
  {
   "cell_type": "code",
   "execution_count": 23,
   "metadata": {},
   "outputs": [
    {
     "name": "stdout",
     "output_type": "stream",
     "text": [
      "TID:2304\n",
      "from Thread0 result value:1\n",
      "TID:2272\n",
      "from Thread1 result value:2\n",
      "TID:3880TID:4324\n",
      "from Thread3 result value:4\n",
      "\n",
      "from Thread2 result value:3\n",
      "TID:3484\n",
      "from Thread4 result value:5\n"
     ]
    }
   ],
   "source": [
    "def f1(a):\n",
    "    print(\"TID:{}\".format(threading.get_ident()))\n",
    "    for var in range(a):\n",
    "        #print(\"var value:{}\".format(var))\n",
    "        result=var+1\n",
    "    else:\n",
    "        print(\"from {} result value:{}\".format(threading.current_thread().name,result))\n",
    "        \n",
    "        \n",
    "for v in range(5):\n",
    "    t1=threading.Thread(target=f1,args=(v+1,),name=\"Thread\"+str(v))\n",
    "    t1.start()\n"
   ]
  },
  {
   "cell_type": "code",
   "execution_count": null,
   "metadata": {},
   "outputs": [],
   "source": [
    "P1(parent) Wait - PID:101 - Address:0x1234  <--\n",
    "|                                              |\n",
    "P2(Child) R+ - PID:102 - Address:0x455         |\n",
    "          |                                    |\n",
    "          Exit ---------------------------------\n",
    "        \n",
    "# process model \n",
    "-------------------------------------------------------------------------\n",
    "  t1  - parent thread - TCB - Running\n",
    "  |                           \n",
    "  t2  - child thread - TCB  - Running \n",
    "\n",
    "# thread model - there is no waiting \n",
    "--------------------------------------------------------------------------\n",
    "parent_thread_wait -->threadobj.join() <==\n"
   ]
  },
  {
   "cell_type": "code",
   "execution_count": 27,
   "metadata": {},
   "outputs": [
    {
     "name": "stdout",
     "output_type": "stream",
     "text": [
      "Constructor block\n",
      "thread is started\n"
     ]
    }
   ],
   "source": [
    "class Box(threading.Thread): # inheritance \n",
    "    def __init__(self): \n",
    "        print(\"Constructor block\")\n",
    "        super(Box,self).__init__() # calling parent class constructor\n",
    "    def run(self):\n",
    "        print(\"thread is started\")\n",
    "    \n",
    "obj=Box()\n",
    "obj.start()"
   ]
  },
  {
   "cell_type": "code",
   "execution_count": 28,
   "metadata": {},
   "outputs": [
    {
     "name": "stdout",
     "output_type": "stream",
     "text": [
      "Thread is started - Name of the  thread:THREAD-1\n",
      "Thread ID:101\n",
      "Thread is started - Name of the  thread:THREAD-2\n",
      "Thread ID:102\n"
     ]
    }
   ],
   "source": [
    "class Box(threading.Thread):\n",
    "    def __init__(self,tid,tname):\n",
    "        super(Box,self).__init__()\n",
    "        self.tid=tid\n",
    "        self.tname=tname\n",
    "    def run(self):\n",
    "        print(\"Thread is started - Name of the  thread:{}\".format(self.tname))\n",
    "        print(\"Thread ID:{}\".format(self.tid))\n",
    "\n",
    "obj1=Box(101,\"THREAD-1\")\n",
    "obj2=Box(102,\"THREAD-2\")\n",
    "\n",
    "obj1.start()\n",
    "obj2.start()\n"
   ]
  },
  {
   "cell_type": "code",
   "execution_count": 29,
   "metadata": {},
   "outputs": [
    {
     "name": "stdout",
     "output_type": "stream",
     "text": [
      "Thread is started - Name of the  thread:THREAD-1\n",
      "Thread ID:101\n",
      "operation\n",
      "Thread is started - Name of the  thread:THREAD-2\n",
      "Thread ID:102\n",
      "operation\n"
     ]
    }
   ],
   "source": [
    "class Box(threading.Thread):\n",
    "    def __init__(self,tid,tname):\n",
    "        super(Box,self).__init__()\n",
    "        self.tid=tid\n",
    "        self.tname=tname\n",
    "    def run(self):\n",
    "        print(\"Thread is started - Name of the  thread:{}\".format(self.tname))\n",
    "        print(\"Thread ID:{}\".format(self.tid))\n",
    "        fx()\n",
    "    \n",
    "def fx():\n",
    "    print(\"operation\")\n",
    "\n",
    "obj1=Box(101,\"THREAD-1\")\n",
    "obj2=Box(102,\"THREAD-2\")\n",
    "\n",
    "obj1.start()\n",
    "obj2.start()"
   ]
  },
  {
   "cell_type": "code",
   "execution_count": 32,
   "metadata": {},
   "outputs": [
    {
     "name": "stdout",
     "output_type": "stream",
     "text": [
      "THREAD1 thread is started..\n",
      "1000\n",
      "199\n",
      "THREAD2 thread is started..\n",
      "1000\n",
      "199\n",
      "Done!!!\n"
     ]
    }
   ],
   "source": [
    "class Box(threading.Thread):\n",
    "    def __init__(self,tname):\n",
    "        super(Box,self).__init__()\n",
    "        self.tname=tname\n",
    "    def run(self):\n",
    "        print(\"{} thread is started..\".format(self.tname))\n",
    "        fx() # nested call\n",
    "        fy() # nested call\n",
    "        \n",
    "def fx():\n",
    "    for v in range(1000):\n",
    "        r=v+1\n",
    "    else:\n",
    "        print(r)\n",
    "def fy():\n",
    "    for v in range(100):\n",
    "        r=v+100\n",
    "    else:\n",
    "        print(r)\n",
    "            \n",
    "obj1=Box(\"THREAD1\")\n",
    "obj1.start()\n",
    "\n",
    "obj2=Box(\"THREAD2\")\n",
    "obj2.start()\n",
    "\n",
    "obj1.join()\n",
    "obj2.join()\n",
    "print(\"Done!!!\")"
   ]
  },
  {
   "cell_type": "code",
   "execution_count": 34,
   "metadata": {},
   "outputs": [
    {
     "name": "stdout",
     "output_type": "stream",
     "text": [
      "Thread1 thread is started..\n",
      "1000\n",
      "199\n",
      "Thread2 thread is started..\n",
      "1000\n",
      "199\n",
      "Thread1 thread is started..\n",
      "1000\n",
      "199\n",
      "Thread2 thread is started..Thread1 thread is started..\n",
      "\n",
      "1000\n",
      "199\n",
      "Thread2 thread is started..1000\n",
      "199\n",
      "\n",
      "1000\n",
      "199\n",
      "Thread1 thread is started..\n",
      "1000\n",
      "199\n",
      "Thread2 thread is started..\n",
      "1000\n",
      "199\n",
      "Thread1 thread is started..\n",
      "1000\n",
      "199\n",
      "Thread2 thread is started..\n",
      "1000\n",
      "199\n"
     ]
    }
   ],
   "source": [
    "class Box(threading.Thread):\n",
    "    def __init__(self,tname):\n",
    "        super(Box,self).__init__()\n",
    "        self.tname=tname\n",
    "    def run(self):\n",
    "        print(\"{} thread is started..\".format(self.tname))\n",
    "        fx() # nested call\n",
    "        fy() # nested call\n",
    "        \n",
    "def fx():\n",
    "    for v in range(1000):\n",
    "        r=v+1\n",
    "    else:\n",
    "        print(r)\n",
    "def fy():\n",
    "    for v in range(100):\n",
    "        r=v+100\n",
    "    else:\n",
    "        print(r)\n",
    "        \n",
    "for var in range(5):\n",
    "    obj1=Box(\"Thread1\")\n",
    "    obj1.start()\n",
    "    obj2=Box(\"Thread2\")\n",
    "    obj2.start()\n"
   ]
  },
  {
   "cell_type": "code",
   "execution_count": null,
   "metadata": {},
   "outputs": [],
   "source": [
    "t1    t2   t3 .. tn\n",
    "|      |    |     |\n",
    "|___( criticalsection    )_____|\n",
    "      \n",
    "    empcost=1000\n",
    "     |   |\n",
    "    U1   U2\n",
    "    |    |\n",
    "    +    +\n",
    "    |    |\n",
    "    2000 3000\n",
    "    \n",
    "    "
   ]
  },
  {
   "cell_type": "code",
   "execution_count": 43,
   "metadata": {},
   "outputs": [
    {
     "name": "stdout",
     "output_type": "stream",
     "text": [
      "empcost:20000\n",
      "empcost:18495\n",
      "empcost:20000\n",
      "empcost:20000\n",
      "empcost:20000\n"
     ]
    }
   ],
   "source": [
    "# racecondition code\n",
    "empcost=0\n",
    "def f1():\n",
    "    global empcost\n",
    "    empcost+=1\n",
    "    \n",
    "def f2():\n",
    "    for var in range(10000):\n",
    "        f1()\n",
    "        \n",
    "def f3():\n",
    "    global empcost\n",
    "    empcost=0\n",
    "    obj1=threading.Thread(target=f2)\n",
    "    obj2=threading.Thread(target=f2)\n",
    "    obj1.start()\n",
    "    obj2.start()\n",
    "    \n",
    "\n",
    "for var in range(5):\n",
    "    f3()\n",
    "    print(\"empcost:{}\".format(empcost))"
   ]
  },
  {
   "cell_type": "code",
   "execution_count": null,
   "metadata": {},
   "outputs": [],
   "source": [
    "Locking (mutex)\n",
    "          |__Lock;unLock\n",
    "\n",
    "t1 t2 t3 .. tn\n",
    "         [ ]\n",
    "c=1\n",
    "         [t1]\n",
    "c--        |--crititcal section\n",
    "c=0      [t1]\n",
    "          |---released \n",
    "    \n",
    "         [ ]\n",
    "c++       |\n",
    "c=1 ------\n",
    "         [t2]\n",
    "c--\n",
    "c=0 \n",
    "c++      \n",
    "c=1  \n",
    "c=0,1 \n",
    "  ----\n",
    "    |__mutex\n",
    "    \n",
    "create a mutext object  ===> lockobject=threading.Lock()\n",
    "                   |         -----------\n",
    "                   |---->lock()  # lock \n",
    "                   |---->release()  # unlock \n",
    "def thread_name(aLock):\n",
    "        aLock.lock()\n",
    "        fx()  # crititcal Section\n",
    "        aLock.release()\n",
    "\n",
    "lock=threading.Lock()\n",
    "threading.Thread(target=thread_name,args=(lock,))"
   ]
  },
  {
   "cell_type": "code",
   "execution_count": 49,
   "metadata": {},
   "outputs": [
    {
     "name": "stdout",
     "output_type": "stream",
     "text": [
      "empcost:20000\n",
      "empcost:20000\n",
      "empcost:20000\n",
      "empcost:20000\n",
      "empcost:20000\n"
     ]
    }
   ],
   "source": [
    "import threading\n",
    "empcost=1\n",
    "def f1():\n",
    "    global empcost\n",
    "    empcost+=1\n",
    "    \n",
    "def f2(alock):\n",
    "    for var in range(10000):\n",
    "        alock.acquire()\n",
    "        f1()\n",
    "        alock.release()\n",
    "        \n",
    "def f3():\n",
    "    global empcost\n",
    "    empcost=0\n",
    "    tlock=threading.Lock()\n",
    "    obj1=threading.Thread(target=f2,args=(tlock,))\n",
    "    obj2=threading.Thread(target=f2,args=(tlock,))\n",
    "    obj1.start()\n",
    "    obj2.start()\n",
    "    \n",
    "    obj1.join()\n",
    "    obj2.join()\n",
    "\n",
    "for var in range(5):\n",
    "    f3()\n",
    "    print(\"empcost:{}\".format(empcost))"
   ]
  },
  {
   "cell_type": "code",
   "execution_count": null,
   "metadata": {},
   "outputs": [],
   "source": [
    "\n",
    "def fx(alock):\n",
    "    alock.acquire()\n",
    "    # codeblock # CriticalSection code \n",
    "     f1()\n",
    "    alock.release()\n",
    "\n",
    "def f1():\n",
    "    operation\n",
    "def MAINTHREAD():\n",
    "    tlock=threading.Lock()\n",
    "    t1=threading.Thread(target=fx,args=(tlock,))\n",
    "    t1.start()\n",
    "    \n",
    "    t1.join()\n",
    "    \n",
    "for var in range(100):\n",
    "    MAINTHREAD() # 100 threads \n",
    "    \n",
    "print(\"Done!!!\")\n",
    "    "
   ]
  },
  {
   "cell_type": "code",
   "execution_count": null,
   "metadata": {},
   "outputs": [],
   "source": [
    "# filter list of .log files \n",
    "# |\n",
    "# pass as a arguments to another function\n",
    "#                                     |\n",
    "#                                  read a log file - search pattern\n",
    "#                                     |\n",
    "#                                  write/append a file contents \n",
    "\n"
   ]
  },
  {
   "cell_type": "code",
   "execution_count": 54,
   "metadata": {},
   "outputs": [
    {
     "name": "stdout",
     "output_type": "stream",
     "text": [
      "process.log\n",
      "r1.log\n",
      "vendor_info.log\n",
      "vmware-0.log\n",
      "vmware-1.log\n",
      "vmware-2.log\n",
      "vmware.log\n",
      "vprintproxy.log\n",
      "R1.log\n",
      "R2.log\n",
      "Result.log\n",
      "p1.log\n",
      "p2.log\n",
      "p3.log\n",
      "r1.log\n",
      "r2.log\n",
      "Result.log\n",
      "result1.log\n",
      "input.log\n",
      "output.log\n",
      "r1.log\n",
      "result.log\n",
      "R.log\n",
      "input.log\n",
      "output.log\n",
      "r1.log\n",
      "r2.log\n",
      "vmware-0.log\n",
      "vmware-1.log\n",
      "vmware-2.log\n",
      "vmware.log\n",
      "vprintproxy.log\n",
      "Done!!!\n"
     ]
    }
   ],
   "source": [
    "import os,re\n",
    "\n",
    "def fx(Logfiles):\n",
    "    print(Logfiles)\n",
    "    \n",
    "def f1(tL):\n",
    "    for var in [\"C:\\\\\",\"D:\\\\\",\"E:\\\\\"]:\n",
    "        for path,Dirs,files in os.walk(var):\n",
    "            for var in files:\n",
    "                tL.acquire()\n",
    "                if(re.search(\"log$\",var)):\n",
    "                    t2=threading.Thread(target=fx,args=(var,))\n",
    "                    t2.start()\n",
    "                    t2.join()\n",
    "                tL.acquire()\n",
    "                #fx(var) # nested function call with arguments \n",
    "                \n",
    "tL=threading.Lock()\n",
    "t1=threading.Thread(target=f1,args=(tL,))\n",
    "t1.start()\n",
    "t1.join()\n",
    "print(\"Done!!!\")"
   ]
  },
  {
   "cell_type": "code",
   "execution_count": 55,
   "metadata": {},
   "outputs": [
    {
     "data": {
      "text/plain": [
       "<bound method BaseContext.cpu_count of <multiprocessing.context.DefaultContext object at 0x000000000899CDF0>>"
      ]
     },
     "execution_count": 55,
     "metadata": {},
     "output_type": "execute_result"
    }
   ],
   "source": [
    "import multiprocessing\n",
    "multiprocessing.cpu_count\n"
   ]
  },
  {
   "cell_type": "code",
   "execution_count": null,
   "metadata": {},
   "outputs": [],
   "source": [
    "\n",
    "Process\n",
    "   - PID,PAddress\n",
    "\n",
    "import multiprocessing\n",
    "\n",
    "obj=multiprocessing.Process(target=functionname,args=()..)\n",
    "\t\t  |\n",
    "\t\t  classname\n",
    "obj.start()\n",
    "\n",
    "\n",
    "  <newProcess> core2\n",
    "    |\n",
    "<CurrentModule> core1\n",
    "    |\n",
    "__name__ == '__main__':\n",
    "\tcreate a newprocess\n",
    "\t...."
   ]
  },
  {
   "cell_type": "code",
   "execution_count": null,
   "metadata": {},
   "outputs": [],
   "source": [
    "# python                 ---------------                        DB\n",
    "# -------                   DB module                        -----\n",
    "# types+objects               |                               SQL\n",
    "# function()                  |\n",
    "                          DB <--->DBD <----->DBE\n",
    "                          ========================\n",
    "        |--------------------|---------------------------------|\n",
    "                             |\n",
    "                            MD\n",
    "s='select *from table;'\n",
    "   --------------------\n",
    "type(s)-<class 'str'>\n",
    "\n",
    "s='select *from table'\n",
    "   -------------------\n",
    "        |------------------------->-----------------------------DB(select *from table;)\n",
    "                                                                    |\n",
    "                                                                    |\n",
    "                                                                    |\n",
    "        --------------------------<--------------------------------( tuple) [ list ]\n",
    "                                                                    <iterator>\n",
    "            \n",
    "step1 : load the database module (import <module>)\n",
    "step2 : conn=<module>.connect(<db-connection>)\n",
    "          |       -------   ^^^^^^^^^^^\n",
    "          |          |__function\n",
    "          |\n",
    "step3  :sth=conn.cursor()\n",
    "step4  :sth.execute(\"QUERY\")\n",
    "                     ^^^^^^\n",
    "    "
   ]
  },
  {
   "cell_type": "code",
   "execution_count": 56,
   "metadata": {},
   "outputs": [
    {
     "data": {
      "text/plain": [
       "<__main__.f1.<locals>.Box at 0x8991cd0>"
      ]
     },
     "execution_count": 56,
     "metadata": {},
     "output_type": "execute_result"
    }
   ],
   "source": [
    "def f1():\n",
    "    class Box:\n",
    "        pass\n",
    "    obj=Box()\n",
    "    return obj\n",
    "\n",
    "dbh=f1()\n",
    "...\n"
   ]
  }
 ],
 "metadata": {
  "kernelspec": {
   "display_name": "Python 3",
   "language": "python",
   "name": "python3"
  },
  "language_info": {
   "codemirror_mode": {
    "name": "ipython",
    "version": 3
   },
   "file_extension": ".py",
   "mimetype": "text/x-python",
   "name": "python",
   "nbconvert_exporter": "python",
   "pygments_lexer": "ipython3",
   "version": "3.8.5"
  }
 },
 "nbformat": 4,
 "nbformat_minor": 4
}
