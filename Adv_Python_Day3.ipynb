{
 "cells": [
  {
   "cell_type": "code",
   "execution_count": 2,
   "metadata": {},
   "outputs": [
    {
     "data": {
      "text/plain": [
       "10"
      ]
     },
     "execution_count": 2,
     "metadata": {},
     "output_type": "execute_result"
    }
   ],
   "source": [
    "class Box:\n",
    "    def __init__(self): \n",
    "        self.v=10\n",
    "    def f1(self):\n",
    "        return self.v\n",
    "    \n",
    "obj=Box()\n",
    "obj.f1()"
   ]
  },
  {
   "cell_type": "code",
   "execution_count": null,
   "metadata": {},
   "outputs": [],
   "source": [
    "int float str bytes bool list tuple dict set <=== class - in oops \n",
    "|    |     |    |    |    |      |   |    |\n"
   ]
  },
  {
   "cell_type": "code",
   "execution_count": null,
   "metadata": {},
   "outputs": [],
   "source": [
    "int - type - class\n",
    "-1 0 1 2 3 - value - object \n",
    " | | | | |"
   ]
  },
  {
   "cell_type": "code",
   "execution_count": null,
   "metadata": {},
   "outputs": [],
   "source": [
    "a=10\n",
    "b=int(10)   #  class int:\n",
    "                    def __init__(self,a=0):\n",
    "                             self.a=a\n",
    "                           ....\n",
    "                "
   ]
  },
  {
   "cell_type": "code",
   "execution_count": 3,
   "metadata": {},
   "outputs": [
    {
     "name": "stdout",
     "output_type": "stream",
     "text": [
      "<class 'int'> <class 'int'>\n",
      "10 10\n",
      "20\n"
     ]
    }
   ],
   "source": [
    "a=10\n",
    "b=int(10) # oops style \n",
    "print(type(a),type(b))\n",
    "print(a,b)\n",
    "print(a+b)"
   ]
  },
  {
   "cell_type": "code",
   "execution_count": 5,
   "metadata": {},
   "outputs": [
    {
     "data": {
      "text/plain": [
       "''"
      ]
     },
     "execution_count": 5,
     "metadata": {},
     "output_type": "execute_result"
    }
   ],
   "source": [
    "s1='hello'\n",
    "s2=str('Welcome')\n",
    "s3=str() # empty string\n",
    "s3"
   ]
  },
  {
   "cell_type": "code",
   "execution_count": 7,
   "metadata": {},
   "outputs": [
    {
     "data": {
      "text/plain": [
       "{}"
      ]
     },
     "execution_count": 7,
     "metadata": {},
     "output_type": "execute_result"
    }
   ],
   "source": [
    "L=list()\n",
    "L\n",
    "d=dict()\n",
    "d"
   ]
  },
  {
   "cell_type": "code",
   "execution_count": 8,
   "metadata": {},
   "outputs": [
    {
     "data": {
      "text/plain": [
       "type"
      ]
     },
     "execution_count": 8,
     "metadata": {},
     "output_type": "execute_result"
    }
   ],
   "source": [
    "class Box:\n",
    "    pass\n",
    "\n",
    "type(Box)"
   ]
  },
  {
   "cell_type": "code",
   "execution_count": 9,
   "metadata": {},
   "outputs": [
    {
     "data": {
      "text/plain": [
       "type"
      ]
     },
     "execution_count": 9,
     "metadata": {},
     "output_type": "execute_result"
    }
   ],
   "source": [
    "type(int)"
   ]
  },
  {
   "cell_type": "code",
   "execution_count": null,
   "metadata": {},
   "outputs": [],
   "source": [
    "# type -->class\n",
    "# value -->object\n",
    "# variable=value -->-- like def __init__(self....)\n",
    "#"
   ]
  },
  {
   "cell_type": "code",
   "execution_count": 10,
   "metadata": {},
   "outputs": [
    {
     "name": "stdout",
     "output_type": "stream",
     "text": [
      "F1 block\n",
      "F2 block\n"
     ]
    }
   ],
   "source": [
    "class A:\n",
    "    def f1(self):\n",
    "        print(\"F1 block\")\n",
    "class B:\n",
    "    def f2(self):\n",
    "        print(\"F2 block\")\n",
    "        \n",
    "objA=A()\n",
    "objB=B()\n",
    "\n",
    "objA.f1()\n",
    "objB.f2()"
   ]
  },
  {
   "cell_type": "code",
   "execution_count": 11,
   "metadata": {},
   "outputs": [
    {
     "ename": "AttributeError",
     "evalue": "'B' object has no attribute 'f1'",
     "output_type": "error",
     "traceback": [
      "\u001b[1;31m---------------------------------------------------------------------------\u001b[0m",
      "\u001b[1;31mAttributeError\u001b[0m                            Traceback (most recent call last)",
      "\u001b[1;32m<ipython-input-11-13da85c80f14>\u001b[0m in \u001b[0;36m<module>\u001b[1;34m\u001b[0m\n\u001b[1;32m----> 1\u001b[1;33m \u001b[0mobjB\u001b[0m\u001b[1;33m.\u001b[0m\u001b[0mf1\u001b[0m\u001b[1;33m(\u001b[0m\u001b[1;33m)\u001b[0m\u001b[1;33m\u001b[0m\u001b[1;33m\u001b[0m\u001b[0m\n\u001b[0m",
      "\u001b[1;31mAttributeError\u001b[0m: 'B' object has no attribute 'f1'"
     ]
    }
   ],
   "source": [
    "objB.f1()"
   ]
  },
  {
   "cell_type": "code",
   "execution_count": 12,
   "metadata": {},
   "outputs": [
    {
     "name": "stdout",
     "output_type": "stream",
     "text": [
      "F1 block\n",
      "F2 block\n"
     ]
    }
   ],
   "source": [
    "class A:\n",
    "    def f1(self):\n",
    "        print(\"F1 block\")\n",
    "class B(A): # class ChildNAME(ParentClassname): # Vs def function(args):\n",
    "    def f2(self):\n",
    "        print(\"F2 block\")\n",
    "        \n",
    "obj=B()\n",
    "obj.f1()\n",
    "obj.f2()\n"
   ]
  },
  {
   "cell_type": "code",
   "execution_count": 14,
   "metadata": {},
   "outputs": [
    {
     "data": {
      "text/plain": [
       "10"
      ]
     },
     "execution_count": 14,
     "metadata": {},
     "output_type": "execute_result"
    }
   ],
   "source": [
    "class Box: # python 3.x \n",
    "    v=10\n",
    "obj=Box()\n",
    "obj.v"
   ]
  },
  {
   "cell_type": "code",
   "execution_count": 13,
   "metadata": {},
   "outputs": [
    {
     "data": {
      "text/plain": [
       "10"
      ]
     },
     "execution_count": 13,
     "metadata": {},
     "output_type": "execute_result"
    }
   ],
   "source": [
    "class Box(object): # python 2.x \n",
    "    v=10 \n",
    "    \n",
    "obj=Box()\n",
    "obj.v"
   ]
  },
  {
   "cell_type": "code",
   "execution_count": null,
   "metadata": {},
   "outputs": [],
   "source": [
    "file: ab.py                      ---->    file: test1.py\n",
    "------------                              ------------------\n",
    "class Enrollment:                           import ab\n",
    "    def __init__(self,a1,a2):               class Person(ab.Enrollment):\n",
    "        self.name=a1                              def f3(self):\n",
    "        self.dept=a2                                  self.status=True\n",
    "    def f1(self):                            ------------------------\n",
    "        return self.name,self.dept"
   ]
  },
  {
   "cell_type": "code",
   "execution_count": null,
   "metadata": {},
   "outputs": [],
   "source": [
    "file:p1.py\n",
    "===========\n",
    "import test1\n",
    "obj1=test1.Person('arun','sales')\n",
    "obj1.f1()\n",
    "if obj1.f3():\n",
    "    print(\"Enrollment is done\")\n"
   ]
  },
  {
   "cell_type": "code",
   "execution_count": 19,
   "metadata": {},
   "outputs": [
    {
     "name": "stdout",
     "output_type": "stream",
     "text": [
      "ChildBlock\n",
      "ParentBlock\n"
     ]
    }
   ],
   "source": [
    "class A:\n",
    "    def f1(self):\n",
    "        print(\"ParentBlock\")\n",
    "class B(A):\n",
    "    def f1(self):\n",
    "        print(\"ChildBlock\")\n",
    "        #super(B,self).f1()\n",
    "        A.f1(self) # calling parent method \n",
    "obj=B()\n",
    "obj.f1()"
   ]
  },
  {
   "cell_type": "code",
   "execution_count": null,
   "metadata": {},
   "outputs": [],
   "source": [
    "Method Resolution Order(MRO)\n",
    "\n",
    "when a class inherits from multiple parents\n",
    " python ->1st check parent  then parent of the parent ..so on\n",
    "        finally ->current class\n",
    "        "
   ]
  },
  {
   "cell_type": "code",
   "execution_count": 21,
   "metadata": {},
   "outputs": [
    {
     "data": {
      "text/plain": [
       "[__main__.C, __main__.B, __main__.A, object]"
      ]
     },
     "execution_count": 21,
     "metadata": {},
     "output_type": "execute_result"
    }
   ],
   "source": [
    "class A:\n",
    "    def f1(self):\n",
    "        print(\"from class A\")\n",
    "class B:\n",
    "    def f2(self):\n",
    "        print(\"From class B\")\n",
    "class C(B,A):\n",
    "    pass\n",
    "\n",
    "obj=C()\n",
    "C.mro()\n",
    "# [__main__.C, __main__.A, __main__.B, object] <== class C(A,B)"
   ]
  },
  {
   "cell_type": "code",
   "execution_count": 24,
   "metadata": {},
   "outputs": [
    {
     "name": "stdout",
     "output_type": "stream",
     "text": [
      "From class B\n"
     ]
    },
    {
     "data": {
      "text/plain": [
       "[__main__.C, __main__.B, __main__.A, object]"
      ]
     },
     "execution_count": 24,
     "metadata": {},
     "output_type": "execute_result"
    }
   ],
   "source": [
    "class A:\n",
    "    def f1(self):\n",
    "        print(\"from class A\")\n",
    "class B:\n",
    "    def f1(self):\n",
    "        print(\"From class B\")\n",
    "class C(B,A):\n",
    "    pass\n",
    "\n",
    "obj=C()\n",
    "obj.f1()\n",
    "C.mro()"
   ]
  },
  {
   "cell_type": "code",
   "execution_count": 27,
   "metadata": {},
   "outputs": [
    {
     "data": {
      "text/plain": [
       "[__main__.D, __main__.C, __main__.A, __main__.B, object]"
      ]
     },
     "execution_count": 27,
     "metadata": {},
     "output_type": "execute_result"
    }
   ],
   "source": [
    "class A:\n",
    "    def f1(self):\n",
    "        print(\"A Class\")\n",
    "class B:\n",
    "    def f1(self):\n",
    "        print(\"B class\")\n",
    "class C(A,B):\n",
    "    def f1(self):\n",
    "        print(\"C class\")\n",
    "    \n",
    "class D(C,B):\n",
    "    pass\n",
    "\n",
    "obj=D()\n",
    "obj.f1()\n",
    "D.mro()"
   ]
  },
  {
   "cell_type": "code",
   "execution_count": 29,
   "metadata": {},
   "outputs": [
    {
     "data": {
      "text/plain": [
       "[__main__.D, __main__.B, __main__.C, __main__.A, object]"
      ]
     },
     "execution_count": 29,
     "metadata": {},
     "output_type": "execute_result"
    }
   ],
   "source": [
    "class A:\n",
    "    def f1(self):\n",
    "        print(\"A Class\")\n",
    "class B(A):\n",
    "    def f1(self):\n",
    "        print(\"B class\")\n",
    "class C(A):\n",
    "    def f1(self):\n",
    "        print(\"C class\")\n",
    "    \n",
    "class D(B,C):\n",
    "    pass\n",
    "\n",
    "obj=D()\n",
    "#obj.f1()\n",
    "D.mro()"
   ]
  },
  {
   "cell_type": "code",
   "execution_count": 30,
   "metadata": {},
   "outputs": [
    {
     "data": {
      "text/plain": [
       "[__main__.Box, object]"
      ]
     },
     "execution_count": 30,
     "metadata": {},
     "output_type": "execute_result"
    }
   ],
   "source": [
    "class Box:  # class Box(object): <== 2.x \n",
    "    pass\n",
    "\n",
    "Box.mro()"
   ]
  },
  {
   "cell_type": "code",
   "execution_count": 31,
   "metadata": {},
   "outputs": [],
   "source": [
    "#class  object method (constructor)  inheritance (super) mro()\n",
    "\n",
    "class Box:\n",
    "    var=100\n",
    "    \n",
    "Box.var # we can access class attributes\n",
    "Box.var=200 # we can modify class attributes\n",
    "Box.place='city'# we can create a newvariable "
   ]
  },
  {
   "cell_type": "code",
   "execution_count": 33,
   "metadata": {},
   "outputs": [
    {
     "name": "stdout",
     "output_type": "stream",
     "text": [
      "('arun', 'sales')\n"
     ]
    }
   ],
   "source": [
    "class Emp:\n",
    "    NAME=''\n",
    "    DEPT=''\n",
    "    def f1(self,a1,a2):\n",
    "        self.NAME=a1\n",
    "        self.DEPT=a2\n",
    "    def f2(self):\n",
    "        return self.NAME,self.DEPT\n",
    "    def f3(self,a1):\n",
    "        self.DEPT=a1\n",
    "    \n",
    "obj1=Emp()\n",
    "obj1.f1(\"arun\",\"sales\")\n",
    "r1=obj1.f2()\n",
    "obj1.f3('ADMIN')\n",
    "print(r1)\n",
    "obj1.f2()\n",
    "Emp.PLACE=''"
   ]
  },
  {
   "cell_type": "code",
   "execution_count": 34,
   "metadata": {},
   "outputs": [
    {
     "data": {
      "text/plain": [
       "'City1'"
      ]
     },
     "execution_count": 34,
     "metadata": {},
     "output_type": "execute_result"
    }
   ],
   "source": [
    "obj1.PLACE='City1'\n",
    "obj1.PLACE"
   ]
  },
  {
   "cell_type": "code",
   "execution_count": null,
   "metadata": {},
   "outputs": [],
   "source": [
    "# decorator \n",
    "# ----------\n",
    "#  |_meta programming - adding newfeatures to existing code \n",
    "#\n",
    "# python ------>Application ------>V1.0 \n",
    "#                  |\n",
    "#                 Updated ---------->V1.1\n",
    "#                  |\n",
    "#                 Updated ----------->V1.2\n",
    "#"
   ]
  },
  {
   "cell_type": "code",
   "execution_count": 38,
   "metadata": {},
   "outputs": [
    {
     "name": "stdout",
     "output_type": "stream",
     "text": [
      "App-1\n",
      "App-2\n",
      "App-3\n"
     ]
    }
   ],
   "source": [
    "def f1(): # decorator function\n",
    "    def f2(): # wrapper function\n",
    "        def f3():\n",
    "            print(\"App-1\")\n",
    "        def f4():\n",
    "            print(\"App-2\")\n",
    "        def f5():\n",
    "            print(\"App-3\")\n",
    "        f3()\n",
    "        f4()\n",
    "        f5()\n",
    "    return f2\n",
    "rv=f1()\n",
    "rv()"
   ]
  },
  {
   "cell_type": "code",
   "execution_count": 40,
   "metadata": {},
   "outputs": [
    {
     "name": "stdout",
     "output_type": "stream",
     "text": [
      "App-1\n",
      "App-2\n",
      "App-3\n",
      "Updated-App4\n"
     ]
    }
   ],
   "source": [
    "def f1(a1): # decorator function\n",
    "    def f2(): # wrapper function\n",
    "        def f3():\n",
    "            print(\"App-1\")\n",
    "        def f4():\n",
    "            print(\"App-2\")\n",
    "        def f5():\n",
    "            print(\"App-3\")\n",
    "        f3()\n",
    "        f4()\n",
    "        f5()\n",
    "        a1()\n",
    "    return f2\n",
    "\n",
    "\n",
    "def fx():\n",
    "    print(\"Updated-App4\")\n",
    "    \n",
    "rv=f1(fx)\n",
    "rv()"
   ]
  },
  {
   "cell_type": "code",
   "execution_count": 41,
   "metadata": {},
   "outputs": [
    {
     "name": "stdout",
     "output_type": "stream",
     "text": [
      "App-1\n",
      "App-2\n",
      "App-3\n",
      "Updated-App4\n"
     ]
    }
   ],
   "source": [
    "@f1\n",
    "def fx():\n",
    "    print(\"Updated-App4\")\n",
    "fx()"
   ]
  },
  {
   "cell_type": "code",
   "execution_count": 42,
   "metadata": {},
   "outputs": [
    {
     "name": "stdout",
     "output_type": "stream",
     "text": [
      "App-1\n",
      "App-2\n",
      "App-3\n",
      "Updated-App5\n"
     ]
    }
   ],
   "source": [
    "@f1\n",
    "def fy():\n",
    "    print(\"Updated-App5\")\n",
    "fy()"
   ]
  },
  {
   "cell_type": "code",
   "execution_count": 43,
   "metadata": {},
   "outputs": [
    {
     "name": "stdout",
     "output_type": "stream",
     "text": [
      "App-1\n",
      "App-2\n",
      "App-3\n",
      "Updated-App4\n"
     ]
    }
   ],
   "source": [
    "fx()"
   ]
  },
  {
   "cell_type": "code",
   "execution_count": 45,
   "metadata": {},
   "outputs": [
    {
     "name": "stdout",
     "output_type": "stream",
     "text": [
      "App-1\n",
      "App-2\n",
      "App-3\n",
      "Updated-App5\n"
     ]
    }
   ],
   "source": [
    "fy()"
   ]
  },
  {
   "cell_type": "code",
   "execution_count": 46,
   "metadata": {},
   "outputs": [],
   "source": [
    "def f1(a):\n",
    "    def f2():\n",
    "        a()\n",
    "    return f2\n"
   ]
  },
  {
   "cell_type": "code",
   "execution_count": 47,
   "metadata": {},
   "outputs": [
    {
     "name": "stdout",
     "output_type": "stream",
     "text": [
      "Fx operation\n"
     ]
    }
   ],
   "source": [
    "@f1\n",
    "def fx():\n",
    "    print(\"Fx operation\")\n",
    "\n",
    "fx()"
   ]
  },
  {
   "cell_type": "code",
   "execution_count": 48,
   "metadata": {},
   "outputs": [
    {
     "name": "stdout",
     "output_type": "stream",
     "text": [
      "Fy operation\n"
     ]
    }
   ],
   "source": [
    "@f1\n",
    "def fy():\n",
    "    print(\"Fy operation\")\n",
    "fy()"
   ]
  },
  {
   "cell_type": "code",
   "execution_count": 49,
   "metadata": {},
   "outputs": [
    {
     "name": "stdout",
     "output_type": "stream",
     "text": [
      "Fx operation\n"
     ]
    }
   ],
   "source": [
    "fx()"
   ]
  },
  {
   "cell_type": "code",
   "execution_count": 50,
   "metadata": {},
   "outputs": [
    {
     "name": "stdout",
     "output_type": "stream",
     "text": [
      "Fy operation\n"
     ]
    }
   ],
   "source": [
    "fy()"
   ]
  },
  {
   "cell_type": "code",
   "execution_count": 51,
   "metadata": {},
   "outputs": [
    {
     "name": "stdout",
     "output_type": "stream",
     "text": [
      "<class '__main__.Box'>\n"
     ]
    }
   ],
   "source": [
    "class Box:\n",
    "    fname='repo.log'\n",
    "    @classmethod\n",
    "    def f1(cls):\n",
    "        print(cls)\n",
    "        cls.var=100 # Box.var=100 (updating on the blueprint)\n",
    "        cls.fname='p1.log' # Box.fname='p1.log'\n",
    "    \n",
    "    \n",
    "Box.f1() # f1(Box)   Vs  obj=Box()   obj.f1()   f1(obj) -->def f1(self):"
   ]
  },
  {
   "cell_type": "code",
   "execution_count": 53,
   "metadata": {},
   "outputs": [
    {
     "name": "stdout",
     "output_type": "stream",
     "text": [
      "100\n",
      "p1.log\n"
     ]
    }
   ],
   "source": [
    "print(Box.var)\n",
    "print(Box.fname)"
   ]
  },
  {
   "cell_type": "code",
   "execution_count": 56,
   "metadata": {},
   "outputs": [
    {
     "name": "stdout",
     "output_type": "stream",
     "text": [
      "<class '__main__.Box'>\n",
      "<__main__.Box object at 0x0000000005529760>\n",
      "<class '__main__.Box'>\n"
     ]
    }
   ],
   "source": [
    "class Box:\n",
    "    @classmethod\n",
    "    def f1(cls):\n",
    "        print(cls)\n",
    "    def f2(self):\n",
    "        print(self)\n",
    "        self.f1() # using object - calling classmethod \n",
    "\n",
    "obj=Box()\n",
    "obj.f1() # classmethod -> f1(classnameonly)\n",
    "obj.f2() # instancemethod -> f2(classinstance)"
   ]
  },
  {
   "cell_type": "code",
   "execution_count": 58,
   "metadata": {},
   "outputs": [
    {
     "ename": "AttributeError",
     "evalue": "'Emp' object has no attribute '_Emp__PLACE'",
     "output_type": "error",
     "traceback": [
      "\u001b[1;31m---------------------------------------------------------------------------\u001b[0m",
      "\u001b[1;31mAttributeError\u001b[0m                            Traceback (most recent call last)",
      "\u001b[1;32m<ipython-input-58-be248984beab>\u001b[0m in \u001b[0;36m<module>\u001b[1;34m\u001b[0m\n\u001b[0;32m     17\u001b[0m \u001b[0mobj1\u001b[0m\u001b[1;33m=\u001b[0m\u001b[0mEmp\u001b[0m\u001b[1;33m(\u001b[0m\u001b[1;33m)\u001b[0m\u001b[1;33m\u001b[0m\u001b[1;33m\u001b[0m\u001b[0m\n\u001b[0;32m     18\u001b[0m \u001b[0mobj1\u001b[0m\u001b[1;33m.\u001b[0m\u001b[0menroll\u001b[0m\u001b[1;33m(\u001b[0m\u001b[1;34m'arun'\u001b[0m\u001b[1;33m,\u001b[0m\u001b[1;34m'sales'\u001b[0m\u001b[1;33m)\u001b[0m\u001b[1;33m\u001b[0m\u001b[1;33m\u001b[0m\u001b[0m\n\u001b[1;32m---> 19\u001b[1;33m \u001b[0mobj1\u001b[0m\u001b[1;33m.\u001b[0m\u001b[0mf2\u001b[0m\u001b[1;33m(\u001b[0m\u001b[1;33m)\u001b[0m\u001b[1;33m\u001b[0m\u001b[1;33m\u001b[0m\u001b[0m\n\u001b[0m",
      "\u001b[1;32m<ipython-input-58-be248984beab>\u001b[0m in \u001b[0;36mf2\u001b[1;34m(self)\u001b[0m\n\u001b[0;32m     13\u001b[0m         \u001b[0mcls\u001b[0m\u001b[1;33m.\u001b[0m\u001b[0m__PLACE\u001b[0m\u001b[1;33m=\u001b[0m\u001b[0ma1\u001b[0m\u001b[1;33m\u001b[0m\u001b[1;33m\u001b[0m\u001b[0m\n\u001b[0;32m     14\u001b[0m     \u001b[1;32mdef\u001b[0m \u001b[0mf2\u001b[0m\u001b[1;33m(\u001b[0m\u001b[0mself\u001b[0m\u001b[1;33m)\u001b[0m\u001b[1;33m:\u001b[0m\u001b[1;33m\u001b[0m\u001b[1;33m\u001b[0m\u001b[0m\n\u001b[1;32m---> 15\u001b[1;33m         \u001b[1;32mreturn\u001b[0m \u001b[0mself\u001b[0m\u001b[1;33m.\u001b[0m\u001b[0m__NAME\u001b[0m\u001b[1;33m,\u001b[0m\u001b[0mself\u001b[0m\u001b[1;33m.\u001b[0m\u001b[0m__DEPT\u001b[0m\u001b[1;33m,\u001b[0m\u001b[0mself\u001b[0m\u001b[1;33m.\u001b[0m\u001b[0m__PLACE\u001b[0m\u001b[1;33m\u001b[0m\u001b[1;33m\u001b[0m\u001b[0m\n\u001b[0m\u001b[0;32m     16\u001b[0m \u001b[1;33m\u001b[0m\u001b[0m\n\u001b[0;32m     17\u001b[0m \u001b[0mobj1\u001b[0m\u001b[1;33m=\u001b[0m\u001b[0mEmp\u001b[0m\u001b[1;33m(\u001b[0m\u001b[1;33m)\u001b[0m\u001b[1;33m\u001b[0m\u001b[1;33m\u001b[0m\u001b[0m\n",
      "\u001b[1;31mAttributeError\u001b[0m: 'Emp' object has no attribute '_Emp__PLACE'"
     ]
    }
   ],
   "source": [
    "class Emp:\n",
    "    __NAME=''\n",
    "    __DEPT=''\n",
    "    def enroll(self,a1,a2):\n",
    "        self.__NAME=a1\n",
    "        self.__DEPT=a2\n",
    "    def display(self):\n",
    "        return self.__NAME,self.__DEPT\n",
    "    def update(self,a1):\n",
    "        self.__PLACE=a1 \n",
    "    @classmethod\n",
    "    def f1(cls,a1):\n",
    "        cls.__PLACE=a1\n",
    "    def f2(self):\n",
    "        return self.__NAME,self.__DEPT,self.__PLACE\n",
    "    \n",
    "obj1=Emp()\n",
    "obj1.enroll('arun','sales')\n",
    "obj1.f2()"
   ]
  },
  {
   "cell_type": "code",
   "execution_count": 59,
   "metadata": {},
   "outputs": [],
   "source": [
    "obj2=Emp()\n",
    "obj2.enroll('vijay','prod')\n",
    "Emp.f1('cityXYZ') # f1(Emp,'cityXYZ')"
   ]
  },
  {
   "cell_type": "code",
   "execution_count": 60,
   "metadata": {},
   "outputs": [
    {
     "data": {
      "text/plain": [
       "('arun', 'sales', 'cityXYZ')"
      ]
     },
     "execution_count": 60,
     "metadata": {},
     "output_type": "execute_result"
    }
   ],
   "source": [
    "obj1.f2()"
   ]
  },
  {
   "cell_type": "code",
   "execution_count": 61,
   "metadata": {},
   "outputs": [
    {
     "data": {
      "text/plain": [
       "('vijay', 'prod', 'cityXYZ')"
      ]
     },
     "execution_count": 61,
     "metadata": {},
     "output_type": "execute_result"
    }
   ],
   "source": [
    "obj2.f2()"
   ]
  },
  {
   "cell_type": "code",
   "execution_count": 62,
   "metadata": {},
   "outputs": [],
   "source": [
    "obj2.update(\"City-2\")\n",
    "obj1.update(\"City-1\")"
   ]
  },
  {
   "cell_type": "code",
   "execution_count": 63,
   "metadata": {},
   "outputs": [
    {
     "data": {
      "text/plain": [
       "('arun', 'sales', 'City-1')"
      ]
     },
     "execution_count": 63,
     "metadata": {},
     "output_type": "execute_result"
    }
   ],
   "source": [
    "obj1.f2()"
   ]
  },
  {
   "cell_type": "code",
   "execution_count": 64,
   "metadata": {},
   "outputs": [
    {
     "data": {
      "text/plain": [
       "('vijay', 'prod', 'City-2')"
      ]
     },
     "execution_count": 64,
     "metadata": {},
     "output_type": "execute_result"
    }
   ],
   "source": [
    "obj2.f2()"
   ]
  },
  {
   "cell_type": "code",
   "execution_count": 65,
   "metadata": {},
   "outputs": [
    {
     "data": {
      "text/plain": [
       "('kumar', 'QA', 'cityXYZ')"
      ]
     },
     "execution_count": 65,
     "metadata": {},
     "output_type": "execute_result"
    }
   ],
   "source": [
    "obj3=Emp()\n",
    "obj3.enroll('kumar','QA')\n",
    "obj3.f2()"
   ]
  },
  {
   "cell_type": "code",
   "execution_count": 66,
   "metadata": {},
   "outputs": [
    {
     "name": "stdout",
     "output_type": "stream",
     "text": [
      "object based method\n",
      "class method\n",
      "staticmethod\n",
      "static method can't access classattributes\n"
     ]
    }
   ],
   "source": [
    "class Box:\n",
    "    def f1(self):\n",
    "        print(\"object based method\")\n",
    "    @classmethod\n",
    "    def f2(cls):\n",
    "        print(\"class method\")\n",
    "    @staticmethod\n",
    "    def f3():\n",
    "        print(\"staticmethod\")\n",
    "        print(\"static method can't access classattributes\")\n",
    "\n",
    "        \n",
    "obj=Box()\n",
    "obj.f1() # f1(<objectname>)\n",
    "obj.f2() # f2(<classname>)\n",
    "obj.f3() # f3()"
   ]
  },
  {
   "cell_type": "code",
   "execution_count": 67,
   "metadata": {},
   "outputs": [
    {
     "name": "stdout",
     "output_type": "stream",
     "text": [
      "staticmethod\n",
      "static method can't access classattributes\n"
     ]
    }
   ],
   "source": [
    "Box.f3()"
   ]
  },
  {
   "cell_type": "code",
   "execution_count": 71,
   "metadata": {},
   "outputs": [],
   "source": [
    "import os\n",
    "class Fsinfo:\n",
    "    def __init__(self,fstype='ext4',fpart='',fmount='/'):\n",
    "        self.__fstype=fstype\n",
    "        self.__fpart=fpart\n",
    "        self.__fmount=fmount\n",
    "    def display(self):\n",
    "        # mount operation\n",
    "        self.f3()\n",
    "        return self.__fstype,self.__fmount\n",
    "    @staticmethod\n",
    "    def f3():\n",
    "        print(\"Mounted filesystem details:-\")\n",
    "        os.system(\"df -Th\")\n",
    "        "
   ]
  },
  {
   "cell_type": "code",
   "execution_count": 72,
   "metadata": {},
   "outputs": [
    {
     "name": "stdout",
     "output_type": "stream",
     "text": [
      "Mounted filesystem details:-\n"
     ]
    },
    {
     "data": {
      "text/plain": [
       "('xfs', '/D1')"
      ]
     },
     "execution_count": 72,
     "metadata": {},
     "output_type": "execute_result"
    }
   ],
   "source": [
    "obj1=Fsinfo(\"xfs\",\"/dev/xvdb1\",\"/D1\")\n",
    "obj1.display()"
   ]
  },
  {
   "cell_type": "code",
   "execution_count": 73,
   "metadata": {},
   "outputs": [
    {
     "name": "stdout",
     "output_type": "stream",
     "text": [
      "Mounted filesystem details:-\n"
     ]
    },
    {
     "data": {
      "text/plain": [
       "('ext4', '/home')"
      ]
     },
     "execution_count": 73,
     "metadata": {},
     "output_type": "execute_result"
    }
   ],
   "source": [
    "obj2=Fsinfo(\"ext4\",\"/dev/sdb2\",\"/home\")\n",
    "obj2.display()"
   ]
  },
  {
   "cell_type": "code",
   "execution_count": null,
   "metadata": {},
   "outputs": [],
   "source": [
    "# iterator - address - collection of data\n",
    "#             |\n",
    "#            outeraddress\n",
    "#             \n",
    "\n",
    "s='welcome'  #    'w' 'e' 'l' 'c' 'o' 'm'   'e'\n",
    "             #         |---------------------|\n",
    "             #        0x123                 0x123\n",
    "        \n",
    ">>> s='welcome'\n",
    ">>>\n",
    ">>> id(s)\n",
    "7067008\n",
    ">>>\n",
    ">>> id(s[0])\n",
    "6122080\n",
    ">>>\n",
    ">>> id('w')\n",
    "6122080\n",
    ">>>\n",
    ">>> id(s[1]) == id('e')\n",
    "True\n",
    ">>> id(s[1])\n",
    "5975296\n",
    ">>> id(s[-1])\n",
    "5975296"
   ]
  },
  {
   "cell_type": "code",
   "execution_count": 81,
   "metadata": {},
   "outputs": [
    {
     "name": "stdout",
     "output_type": "stream",
     "text": [
      "w\n",
      "e\n",
      "l\n",
      "c\n",
      "o\n",
      "m\n",
      "e\n"
     ]
    },
    {
     "ename": "StopIteration",
     "evalue": "",
     "output_type": "error",
     "traceback": [
      "\u001b[1;31m---------------------------------------------------------------------------\u001b[0m",
      "\u001b[1;31mStopIteration\u001b[0m                             Traceback (most recent call last)",
      "\u001b[1;32m<ipython-input-81-e3acf17e18e4>\u001b[0m in \u001b[0;36m<module>\u001b[1;34m\u001b[0m\n\u001b[0;32m     15\u001b[0m \u001b[0mprint\u001b[0m\u001b[1;33m(\u001b[0m\u001b[0mnext\u001b[0m\u001b[1;33m(\u001b[0m\u001b[0mobj\u001b[0m\u001b[1;33m)\u001b[0m\u001b[1;33m)\u001b[0m\u001b[1;33m\u001b[0m\u001b[1;33m\u001b[0m\u001b[0m\n\u001b[0;32m     16\u001b[0m \u001b[0mprint\u001b[0m\u001b[1;33m(\u001b[0m\u001b[0mnext\u001b[0m\u001b[1;33m(\u001b[0m\u001b[0mobj\u001b[0m\u001b[1;33m)\u001b[0m\u001b[1;33m)\u001b[0m\u001b[1;33m\u001b[0m\u001b[1;33m\u001b[0m\u001b[0m\n\u001b[1;32m---> 17\u001b[1;33m \u001b[0mprint\u001b[0m\u001b[1;33m(\u001b[0m\u001b[0mnext\u001b[0m\u001b[1;33m(\u001b[0m\u001b[0mobj\u001b[0m\u001b[1;33m)\u001b[0m\u001b[1;33m)\u001b[0m\u001b[1;33m\u001b[0m\u001b[1;33m\u001b[0m\u001b[0m\n\u001b[0m",
      "\u001b[1;31mStopIteration\u001b[0m: "
     ]
    }
   ],
   "source": [
    "# iter(collection) --><Address>\n",
    "#                          |__1.manual way open the address -> next(<Address>)\n",
    "#                                                                ..\n",
    "#                                                              STOPIteration\n",
    "#                          |__2.automatic way ===> for loop \n",
    "#\n",
    "\n",
    "s='welcome'\n",
    "obj=iter(s)\n",
    "print(next(obj))\n",
    "print(next(obj))\n",
    "print(next(obj))\n",
    "print(next(obj))\n",
    "print(next(obj))\n",
    "print(next(obj))\n",
    "print(next(obj))\n",
    "print(next(obj))\n"
   ]
  },
  {
   "cell_type": "code",
   "execution_count": 82,
   "metadata": {},
   "outputs": [
    {
     "name": "stdout",
     "output_type": "stream",
     "text": [
      "w\n",
      "e\n",
      "l\n",
      "c\n",
      "o\n",
      "m\n",
      "e\n"
     ]
    }
   ],
   "source": [
    "obj=iter(s)\n",
    "for var in obj:\n",
    "    print(var)"
   ]
  },
  {
   "cell_type": "code",
   "execution_count": 84,
   "metadata": {},
   "outputs": [
    {
     "name": "stdout",
     "output_type": "stream",
     "text": [
      "101,ram,sales,pune,10000\n",
      "\n",
      "203,arun,prod,bglore,2000\n",
      "\n"
     ]
    }
   ],
   "source": [
    "F=open(\"C:\\\\users\\\\karthikeyan\\\\emp.csv\")\n",
    "#F.read()\n",
    "#F.readlines()\n",
    "print(next(F))\n",
    "print(next(F))"
   ]
  },
  {
   "cell_type": "code",
   "execution_count": 86,
   "metadata": {},
   "outputs": [
    {
     "name": "stdout",
     "output_type": "stream",
     "text": [
      "101,ram,sales,pune,10000\n",
      "203,arun,prod,bglore,2000\n",
      "304,vijay,QA,chennai,30000\n",
      "545,xerox,sales,mumbai,34234\n",
      "456,anu,sales,noida,56780\n"
     ]
    }
   ],
   "source": [
    "F=open(\"C:\\\\users\\\\karthikeyan\\\\emp.csv\")\n",
    "for var in F:\n",
    "    print(var.strip())\n",
    "    \n",
    "F.close()"
   ]
  },
  {
   "cell_type": "code",
   "execution_count": null,
   "metadata": {},
   "outputs": [],
   "source": [
    "# Generator - Function\n",
    "# --------------------\n",
    "#    |__returns an iterator \n",
    "#                  ---------//called generator \n",
    "\n",
    "def f1():\n",
    "    return 10 # return a value(10) then exit from function block \n",
    "              # ------                  -------------------------\n",
    "def f2():\n",
    "    yield 10 # returns address of 10 \n",
    "    yield 12.3 # we can use more than 1 yield keyword inside the function\n",
    "    yield 34.4\n",
    "\n"
   ]
  },
  {
   "cell_type": "code",
   "execution_count": 88,
   "metadata": {},
   "outputs": [
    {
     "name": "stdout",
     "output_type": "stream",
     "text": [
      "<class 'function'> <class 'int'>\n"
     ]
    }
   ],
   "source": [
    "def f1():\n",
    "    return 10\n",
    "print(type(f1),type(f1()))"
   ]
  },
  {
   "cell_type": "code",
   "execution_count": 89,
   "metadata": {},
   "outputs": [
    {
     "name": "stdout",
     "output_type": "stream",
     "text": [
      "<class 'function'> <class 'generator'>\n"
     ]
    }
   ],
   "source": [
    "def f2():\n",
    "    yield 10\n",
    "print(type(f2),type(f2()))"
   ]
  },
  {
   "cell_type": "code",
   "execution_count": 90,
   "metadata": {},
   "outputs": [
    {
     "data": {
      "text/plain": [
       "10"
      ]
     },
     "execution_count": 90,
     "metadata": {},
     "output_type": "execute_result"
    }
   ],
   "source": [
    "def f1():\n",
    "    return 10      # exit from function block \n",
    "    print(\"Hello\") # python won't execute this line\n",
    "    \n",
    "f1()"
   ]
  },
  {
   "cell_type": "code",
   "execution_count": 96,
   "metadata": {},
   "outputs": [],
   "source": [
    " def f1():\n",
    "        yield 10\n",
    "        print(\"Hello\")\n",
    "        yield 20\n",
    "        yield 100+20\n",
    "        yield \"dir1\",[\"F1\",\"F2\"]\n",
    "        yield \"STDOUT\",\"STDERR\"\n",
    "        print(\"Welcome\")\n",
    "        yield \"thank you\"\n",
    "        \n",
    "obj=f1()"
   ]
  },
  {
   "cell_type": "code",
   "execution_count": 97,
   "metadata": {},
   "outputs": [
    {
     "name": "stdout",
     "output_type": "stream",
     "text": [
      "10\n",
      "Hello\n",
      "20\n",
      "120\n",
      "('dir1', ['F1', 'F2'])\n",
      "('STDOUT', 'STDERR')\n",
      "Welcome\n",
      "thank you\n"
     ]
    }
   ],
   "source": [
    "for var in obj:\n",
    "    print(var)"
   ]
  },
  {
   "cell_type": "code",
   "execution_count": 98,
   "metadata": {},
   "outputs": [
    {
     "name": "stdout",
     "output_type": "stream",
     "text": [
      "10\n",
      "Hello\n",
      "20\n",
      "120\n",
      "('dir1', ['F1', 'F2'])\n",
      "('STDOUT', 'STDERR')\n",
      "Welcome\n",
      "thank you\n"
     ]
    }
   ],
   "source": [
    "for var in f1():\n",
    "    print(var)"
   ]
  },
  {
   "cell_type": "code",
   "execution_count": 95,
   "metadata": {},
   "outputs": [
    {
     "name": "stdout",
     "output_type": "stream",
     "text": [
      "('STDOUT', 'STDERR')\n",
      "Welcome\n",
      "thank you\n"
     ]
    },
    {
     "ename": "StopIteration",
     "evalue": "",
     "output_type": "error",
     "traceback": [
      "\u001b[1;31m---------------------------------------------------------------------------\u001b[0m",
      "\u001b[1;31mStopIteration\u001b[0m                             Traceback (most recent call last)",
      "\u001b[1;32m<ipython-input-95-edf1f70bee86>\u001b[0m in \u001b[0;36m<module>\u001b[1;34m\u001b[0m\n\u001b[0;32m      1\u001b[0m \u001b[0mprint\u001b[0m\u001b[1;33m(\u001b[0m\u001b[0mnext\u001b[0m\u001b[1;33m(\u001b[0m\u001b[0mobj\u001b[0m\u001b[1;33m)\u001b[0m\u001b[1;33m)\u001b[0m\u001b[1;33m\u001b[0m\u001b[1;33m\u001b[0m\u001b[0m\n\u001b[0;32m      2\u001b[0m \u001b[0mprint\u001b[0m\u001b[1;33m(\u001b[0m\u001b[0mnext\u001b[0m\u001b[1;33m(\u001b[0m\u001b[0mobj\u001b[0m\u001b[1;33m)\u001b[0m\u001b[1;33m)\u001b[0m\u001b[1;33m\u001b[0m\u001b[1;33m\u001b[0m\u001b[0m\n\u001b[1;32m----> 3\u001b[1;33m \u001b[0mprint\u001b[0m\u001b[1;33m(\u001b[0m\u001b[0mnext\u001b[0m\u001b[1;33m(\u001b[0m\u001b[0mobj\u001b[0m\u001b[1;33m)\u001b[0m\u001b[1;33m)\u001b[0m\u001b[1;33m\u001b[0m\u001b[1;33m\u001b[0m\u001b[0m\n\u001b[0m\u001b[0;32m      4\u001b[0m \u001b[0mprint\u001b[0m\u001b[1;33m(\u001b[0m\u001b[0mnext\u001b[0m\u001b[1;33m(\u001b[0m\u001b[0mobj\u001b[0m\u001b[1;33m)\u001b[0m\u001b[1;33m)\u001b[0m\u001b[1;33m\u001b[0m\u001b[1;33m\u001b[0m\u001b[0m\n\u001b[0;32m      5\u001b[0m \u001b[0mprint\u001b[0m\u001b[1;33m(\u001b[0m\u001b[0mnext\u001b[0m\u001b[1;33m(\u001b[0m\u001b[0mobj\u001b[0m\u001b[1;33m)\u001b[0m\u001b[1;33m)\u001b[0m\u001b[1;33m\u001b[0m\u001b[1;33m\u001b[0m\u001b[0m\n",
      "\u001b[1;31mStopIteration\u001b[0m: "
     ]
    }
   ],
   "source": [
    "print(next(obj))\n",
    "print(next(obj))\n",
    "print(next(obj))\n",
    "print(next(obj))\n",
    "print(next(obj))"
   ]
  },
  {
   "cell_type": "code",
   "execution_count": 100,
   "metadata": {},
   "outputs": [
    {
     "data": {
      "text/plain": [
       "110"
      ]
     },
     "execution_count": 100,
     "metadata": {},
     "output_type": "execute_result"
    }
   ],
   "source": [
    "def f1(a):\n",
    "    n=10\n",
    "    return n+a ## code will exit \n",
    "    n=15\n",
    "    return n+a\n",
    "    n=20\n",
    "    return n+a\n",
    "\n",
    "f1(100)"
   ]
  },
  {
   "cell_type": "code",
   "execution_count": 101,
   "metadata": {},
   "outputs": [
    {
     "name": "stdout",
     "output_type": "stream",
     "text": [
      "110\n",
      "115\n",
      "120\n"
     ]
    }
   ],
   "source": [
    "import time\n",
    "def f1(a):\n",
    "    n=10\n",
    "    yield n+a\n",
    "    time.sleep(1)\n",
    "    n=15\n",
    "    yield n+a\n",
    "    time.sleep(2)\n",
    "    n=20\n",
    "    yield n+a\n",
    "    \n",
    "for var in f1(100):\n",
    "    print(var)"
   ]
  },
  {
   "cell_type": "code",
   "execution_count": 103,
   "metadata": {},
   "outputs": [
    {
     "data": {
      "text/plain": [
       "<generator object Box.f2 at 0x0000000005553350>"
      ]
     },
     "execution_count": 103,
     "metadata": {},
     "output_type": "execute_result"
    }
   ],
   "source": [
    "class Box:\n",
    "    def f1(self):\n",
    "        yield 10\n",
    "        yield 20\n",
    "        yield 30\n",
    "    @classmethod\n",
    "    def f2(cls):\n",
    "        yield 100\n",
    "        yield \"Str1\",['D1',\"D2\"],['F1','F2']\n",
    "    \n",
    "    \n",
    "obj=Box()\n",
    "obj.f1()\n",
    "Box.f2()"
   ]
  },
  {
   "cell_type": "code",
   "execution_count": 104,
   "metadata": {},
   "outputs": [
    {
     "name": "stdout",
     "output_type": "stream",
     "text": [
      "10\n",
      "20\n",
      "30\n"
     ]
    }
   ],
   "source": [
    "for var in obj.f1():\n",
    "    print(var)"
   ]
  },
  {
   "cell_type": "code",
   "execution_count": 105,
   "metadata": {},
   "outputs": [
    {
     "name": "stdout",
     "output_type": "stream",
     "text": [
      "100\n",
      "('Str1', ['D1', 'D2'], ['F1', 'F2'])\n"
     ]
    }
   ],
   "source": [
    "for var in Box.f2():\n",
    "    print(var)"
   ]
  },
  {
   "cell_type": "code",
   "execution_count": null,
   "metadata": {},
   "outputs": [],
   "source": [
    "start=1+2 => 1 3 5 7 9 11 13 15 # stop\n",
    "start=5+2 => 7 9 11 13 15 \n",
    "\n",
    "start=5+5 => 5 10 15 \n",
    "                  \n",
    "# use recursion in generator function \n",
    "#       .....................\n",
    "\n",
    "def fx():\n",
    "    yield fx()\n",
    "    \n",
    "for v in fx():\n",
    "    ...\n",
    "    ...\n"
   ]
  },
  {
   "cell_type": "code",
   "execution_count": 108,
   "metadata": {},
   "outputs": [
    {
     "name": "stdout",
     "output_type": "stream",
     "text": [
      "1\n",
      "6\n",
      "11\n"
     ]
    }
   ],
   "source": [
    "def f1(a):\n",
    "    yield a\n",
    "    yield from f1(a+5)\n",
    "    \n",
    "\n",
    "for v in f1(1):\n",
    "    if(v<15):\n",
    "        print(v)\n",
    "    else:\n",
    "        break\n",
    "    "
   ]
  },
  {
   "cell_type": "code",
   "execution_count": 109,
   "metadata": {},
   "outputs": [
    {
     "data": {
      "text/plain": [
       "[100, 101, 102, 103, 104]"
      ]
     },
     "execution_count": 109,
     "metadata": {},
     "output_type": "execute_result"
    }
   ],
   "source": [
    "[var+100 for var in range(5)]"
   ]
  },
  {
   "cell_type": "code",
   "execution_count": 110,
   "metadata": {},
   "outputs": [
    {
     "data": {
      "text/plain": [
       "<generator object <genexpr> at 0x0000000005553CF0>"
      ]
     },
     "execution_count": 110,
     "metadata": {},
     "output_type": "execute_result"
    }
   ],
   "source": [
    "(var+100 for var in range(5)) # generator expression"
   ]
  },
  {
   "cell_type": "code",
   "execution_count": 111,
   "metadata": {},
   "outputs": [
    {
     "name": "stdout",
     "output_type": "stream",
     "text": [
      "100\n",
      "101\n",
      "102\n",
      "103\n",
      "104\n"
     ]
    }
   ],
   "source": [
    "obj=(var+100 for var in range(5)) # generator expression\n",
    "for var in obj:\n",
    "    print(var)"
   ]
  },
  {
   "cell_type": "code",
   "execution_count": 117,
   "metadata": {},
   "outputs": [
    {
     "name": "stdout",
     "output_type": "stream",
     "text": [
      "(0, 10)\n"
     ]
    }
   ],
   "source": [
    "#help(enumerate)\n",
    "\n",
    "L=[10,20,30,'D1']\n",
    "  # 0 1  2   3 \n",
    "print(next(enumerate(L)))"
   ]
  },
  {
   "cell_type": "code",
   "execution_count": 118,
   "metadata": {},
   "outputs": [
    {
     "name": "stdout",
     "output_type": "stream",
     "text": [
      "(0, 10)\n",
      "(1, 20)\n",
      "(2, 30)\n",
      "(3, 'D1')\n"
     ]
    }
   ],
   "source": [
    "for var in enumerate(L):\n",
    "    print(var)"
   ]
  },
  {
   "cell_type": "code",
   "execution_count": 119,
   "metadata": {},
   "outputs": [
    {
     "name": "stdout",
     "output_type": "stream",
     "text": [
      "(1, 10)\n",
      "(2, 20)\n",
      "(3, 30)\n",
      "(4, 'D1')\n"
     ]
    }
   ],
   "source": [
    "for var in enumerate(L,1):\n",
    "    print(var)"
   ]
  },
  {
   "cell_type": "code",
   "execution_count": 122,
   "metadata": {},
   "outputs": [
    {
     "name": "stdout",
     "output_type": "stream",
     "text": [
      "(5, 10)\n",
      "(6, 20)\n",
      "(7, 30)\n",
      "(8, 'D1')\n"
     ]
    }
   ],
   "source": [
    "for var in enumerate(L,5):\n",
    "    print(var)"
   ]
  },
  {
   "cell_type": "code",
   "execution_count": 128,
   "metadata": {},
   "outputs": [
    {
     "name": "stdout",
     "output_type": "stream",
     "text": [
      "1.101,ram,sales,pune,10000\n",
      "2.203,arun,prod,bglore,2000\n",
      "3.304,vijay,QA,chennai,30000\n",
      "4.545,xerox,sales,mumbai,34234\n",
      "5.456,anu,sales,noida,56780\n"
     ]
    }
   ],
   "source": [
    "c=0\n",
    "for var in open(\"C:\\\\users\\\\karthikeyan\\\\emp.csv\"):\n",
    "    c=c+1\n",
    "    print(\"{}.{}\".format(c,var.strip()))"
   ]
  },
  {
   "cell_type": "code",
   "execution_count": 133,
   "metadata": {},
   "outputs": [
    {
     "name": "stdout",
     "output_type": "stream",
     "text": [
      "(1, '101,ram,sales,pune,10000\\n')\n",
      "(2, '203,arun,prod,bglore,2000\\n')\n",
      "(3, '304,vijay,QA,chennai,30000\\n')\n",
      "(4, '545,xerox,sales,mumbai,34234\\n')\n",
      "(5, '456,anu,sales,noida,56780')\n"
     ]
    }
   ],
   "source": [
    "for var in enumerate(open(\"C:\\\\users\\\\karthikeyan\\\\emp.csv\"),1):\n",
    "    print(var)"
   ]
  },
  {
   "cell_type": "code",
   "execution_count": 134,
   "metadata": {},
   "outputs": [
    {
     "name": "stdout",
     "output_type": "stream",
     "text": [
      "1 101,ram,sales,pune,10000\n",
      "2 203,arun,prod,bglore,2000\n",
      "3 304,vijay,QA,chennai,30000\n",
      "4 545,xerox,sales,mumbai,34234\n",
      "5 456,anu,sales,noida,56780\n"
     ]
    }
   ],
   "source": [
    "for var in enumerate(open(\"C:\\\\users\\\\karthikeyan\\\\emp.csv\"),1):\n",
    "    print(var[0],var[1].strip())"
   ]
  },
  {
   "cell_type": "code",
   "execution_count": 135,
   "metadata": {},
   "outputs": [
    {
     "name": "stdout",
     "output_type": "stream",
     "text": [
      "1.101,ram,sales,pune,10000\n",
      "2.203,arun,prod,bglore,2000\n",
      "3.304,vijay,QA,chennai,30000\n",
      "4.545,xerox,sales,mumbai,34234\n",
      "5.456,anu,sales,noida,56780\n"
     ]
    }
   ],
   "source": [
    "for var in enumerate(open(\"C:\\\\users\\\\karthikeyan\\\\emp.csv\"),1):\n",
    "    line,value=var\n",
    "    print(\"{}.{}\".format(line,value.strip()))"
   ]
  },
  {
   "cell_type": "code",
   "execution_count": 139,
   "metadata": {},
   "outputs": [
    {
     "name": "stdout",
     "output_type": "stream",
     "text": [
      "3.304,vijay,QA,chennai,30000\n",
      "4.545,xerox,sales,mumbai,34234\n"
     ]
    }
   ],
   "source": [
    "for var in enumerate(open(\"C:\\\\users\\\\karthikeyan\\\\emp.csv\"),1):\n",
    "    line,value=var\n",
    "    if(line == 3 or line ==4):\n",
    "        print(\"{}.{}\".format(line,value.strip()))\n"
   ]
  },
  {
   "cell_type": "code",
   "execution_count": null,
   "metadata": {},
   "outputs": [],
   "source": [
    "# regx -> re\n",
    "# threading -> threading\n",
    "# multiprocess -> multiprocessing\n",
    "# excel ->openpyxl\n",
    "# db -> ...\n",
    "# ... -->existing module"
   ]
  },
  {
   "cell_type": "code",
   "execution_count": null,
   "metadata": {},
   "outputs": [],
   "source": [
    "import module\n",
    "module.functioncall() -> int/float str/bytes [] () {} MD True/False None <Iterator> \n",
    "                        ###########################################################\n",
    "    \n",
    "obj=module.Classname(arguments)\n",
    "obj.method1()  -> int/float str/bytes [] () {} MD True/False None <Iterator> \n",
    "obj.method2()  -> int/float str/bytes [] () {} MD True/False None <Iterator> \n",
    "\n",
    "module documents \n",
    " |-->coding style \n",
    "       |-procedure /oops\n",
    "       |-existing memebers \n",
    " ||\n",
    "program"
   ]
  },
  {
   "cell_type": "code",
   "execution_count": 141,
   "metadata": {},
   "outputs": [
    {
     "data": {
      "text/plain": [
       "100"
      ]
     },
     "execution_count": 141,
     "metadata": {},
     "output_type": "execute_result"
    }
   ],
   "source": [
    "# Regular Expression\n",
    "# ------------------\n",
    "#   |__Search the pattern from <input file> (or) <input>\n",
    "#   |__Substitute the old - replace newpattern \n",
    "#   |__split - multiple field(coulmns)\n",
    "#     +\n",
    "#   inputValidation \n",
    "\n",
    "# file: test1.py\n",
    "#-----------------\n",
    "def f1(a1):\n",
    "    class Box:\n",
    "        def __init__(self,a1):\n",
    "            self.a1=a1\n",
    "        def method1(self):\n",
    "            return self.a1\n",
    "    obj=Box(a1)\n",
    "    return obj"
   ]
  },
  {
   "cell_type": "code",
   "execution_count": null,
   "metadata": {},
   "outputs": [],
   "source": [
    "import test1\n",
    "myobj=test1.f1(100)\n",
    "myobj.method1()\n"
   ]
  },
  {
   "cell_type": "code",
   "execution_count": 144,
   "metadata": {},
   "outputs": [],
   "source": [
    "import re\n",
    "#re.search(\"<SearchPatternString>\",\"<inputString>\") -><ack>/None\n",
    "#\n",
    "#re.findall(\"<SearchPatternString>\",\"<inputString>\") ->[Result]/[]\n",
    "#"
   ]
  },
  {
   "cell_type": "code",
   "execution_count": 146,
   "metadata": {},
   "outputs": [
    {
     "data": {
      "text/plain": [
       "'bash'"
      ]
     },
     "execution_count": 146,
     "metadata": {},
     "output_type": "execute_result"
    }
   ],
   "source": [
    "obj=re.search(\"bash\",\"root:x:bin:bash\")\n",
    "obj.group()"
   ]
  },
  {
   "cell_type": "code",
   "execution_count": null,
   "metadata": {},
   "outputs": [],
   "source": [
    "#<_sre.SRE_Match object at 0x7faafab48440>\n"
   ]
  },
  {
   "cell_type": "code",
   "execution_count": 147,
   "metadata": {},
   "outputs": [
    {
     "data": {
      "text/plain": [
       "['bash']"
      ]
     },
     "execution_count": 147,
     "metadata": {},
     "output_type": "execute_result"
    }
   ],
   "source": [
    "re.findall(\"bash\",\"root:x:bin:bash\")"
   ]
  },
  {
   "cell_type": "code",
   "execution_count": 148,
   "metadata": {},
   "outputs": [
    {
     "data": {
      "text/plain": [
       "[]"
      ]
     },
     "execution_count": 148,
     "metadata": {},
     "output_type": "execute_result"
    }
   ],
   "source": [
    "re.findall(\"bash\",\"root:x:bin:tcsh\")"
   ]
  },
  {
   "cell_type": "code",
   "execution_count": 151,
   "metadata": {},
   "outputs": [
    {
     "data": {
      "text/plain": [
       "True"
      ]
     },
     "execution_count": 151,
     "metadata": {},
     "output_type": "execute_result"
    }
   ],
   "source": [
    "re.search(\"bash\",\"root:x:bin:tcsh\") == None"
   ]
  },
  {
   "cell_type": "code",
   "execution_count": 152,
   "metadata": {},
   "outputs": [
    {
     "data": {
      "text/plain": [
       "<re.Match object; span=(7, 11), match='bash'>"
      ]
     },
     "execution_count": 152,
     "metadata": {},
     "output_type": "execute_result"
    }
   ],
   "source": [
    "var='root:x:bash:bin:bash:usr:bash:test'\n",
    "re.search('bash',var)"
   ]
  },
  {
   "cell_type": "code",
   "execution_count": 153,
   "metadata": {},
   "outputs": [
    {
     "data": {
      "text/plain": [
       "'bash'"
      ]
     },
     "execution_count": 153,
     "metadata": {},
     "output_type": "execute_result"
    }
   ],
   "source": [
    "obj=re.search('bash',var)\n",
    "obj.group()"
   ]
  },
  {
   "cell_type": "code",
   "execution_count": 154,
   "metadata": {},
   "outputs": [
    {
     "data": {
      "text/plain": [
       "['bash', 'bash', 'bash']"
      ]
     },
     "execution_count": 154,
     "metadata": {},
     "output_type": "execute_result"
    }
   ],
   "source": [
    "re.findall('bash',var)"
   ]
  },
  {
   "cell_type": "code",
   "execution_count": 155,
   "metadata": {},
   "outputs": [
    {
     "data": {
      "text/plain": [
       "True"
      ]
     },
     "execution_count": 155,
     "metadata": {},
     "output_type": "execute_result"
    }
   ],
   "source": [
    "bool(re.search('bash','sadfdbash'))"
   ]
  },
  {
   "cell_type": "code",
   "execution_count": 156,
   "metadata": {},
   "outputs": [
    {
     "data": {
      "text/plain": [
       "True"
      ]
     },
     "execution_count": 156,
     "metadata": {},
     "output_type": "execute_result"
    }
   ],
   "source": [
    "bool(re.findall('bash','sadfdbash'))"
   ]
  },
  {
   "cell_type": "code",
   "execution_count": 157,
   "metadata": {},
   "outputs": [
    {
     "name": "stdout",
     "output_type": "stream",
     "text": [
      "False True\n"
     ]
    }
   ],
   "source": [
    "L1=[]\n",
    "L2=[\"D\"]\n",
    "print(bool(L1),bool(L2))"
   ]
  },
  {
   "cell_type": "code",
   "execution_count": null,
   "metadata": {},
   "outputs": [],
   "source": [
    "# prorgramming style \n",
    "# ----------------------\n",
    "# conditional+loop+fileHandling \n",
    "\n",
    "# in unix/linux ->grep  ; in winx ->findstr \n",
    "#                -----             ---------\n",
    "# open a file - read the content line byline =>FileHandling\n",
    "# search the pattern # re.search(\"Pattern\",\"inputString\")\n",
    "# print matched pattern line only # if(re.search(\"Pattern\",\"inputString\")):"
   ]
  },
  {
   "cell_type": "code",
   "execution_count": null,
   "metadata": {},
   "outputs": [],
   "source": [
    "for var in open(\"inputfile\"):\n",
    "    if(re.search(\"Pattern\",var,re.I)):\n",
    "        print(var) \n",
    "        \n",
    "# grep /findstr command logic"
   ]
  },
  {
   "cell_type": "code",
   "execution_count": null,
   "metadata": {},
   "outputs": [],
   "source": [
    "Regx chars \n",
    "---------------\n",
    "1.BasicRegx(BRE)                       2.ExtendedRegx(ERE)\n",
    "singlepattern                              more than onepattern\n",
    "^ $ . .* ^pattern$                       | () {} +\n",
    "[]\n",
    "^[]\n",
    "[]$ [^]\n",
    "\\w \\d \\s(space)\n",
    "^$\n",
    "\n",
    "ls{Enter} Vs ls *.log{Enter}"
   ]
  },
  {
   "cell_type": "code",
   "execution_count": 158,
   "metadata": {},
   "outputs": [
    {
     "data": {
      "text/plain": [
       "<re.Match object; span=(6, 11), match='sales'>"
      ]
     },
     "execution_count": 158,
     "metadata": {},
     "output_type": "execute_result"
    }
   ],
   "source": [
    "# ^Pattern \n",
    "re.search(\"sales\",\"kumar,sales,pune\")"
   ]
  },
  {
   "cell_type": "code",
   "execution_count": 160,
   "metadata": {},
   "outputs": [
    {
     "data": {
      "text/plain": [
       "[]"
      ]
     },
     "execution_count": 160,
     "metadata": {},
     "output_type": "execute_result"
    }
   ],
   "source": [
    "re.search(\"^sales\",\"Kumar,sales,pune\")\n",
    "re.findall(\"^sales\",\"Kumar,sales,pune\")"
   ]
  },
  {
   "cell_type": "code",
   "execution_count": 161,
   "metadata": {},
   "outputs": [
    {
     "data": {
      "text/plain": [
       "<re.Match object; span=(0, 5), match='sales'>"
      ]
     },
     "execution_count": 161,
     "metadata": {},
     "output_type": "execute_result"
    }
   ],
   "source": [
    "re.search(\"^sales\",\"sales,pune\")"
   ]
  },
  {
   "cell_type": "code",
   "execution_count": 162,
   "metadata": {},
   "outputs": [
    {
     "data": {
      "text/plain": [
       "<re.Match object; span=(0, 1), match='d'>"
      ]
     },
     "execution_count": 162,
     "metadata": {},
     "output_type": "execute_result"
    }
   ],
   "source": [
    "re.search(\"^d\",\"daemon process\")"
   ]
  },
  {
   "cell_type": "code",
   "execution_count": 164,
   "metadata": {},
   "outputs": [
    {
     "data": {
      "text/plain": [
       "<re.Match object; span=(0, 1), match='5'>"
      ]
     },
     "execution_count": 164,
     "metadata": {},
     "output_type": "execute_result"
    }
   ],
   "source": [
    "re.search(\"^5\",\"5OL\")"
   ]
  },
  {
   "cell_type": "code",
   "execution_count": 165,
   "metadata": {},
   "outputs": [
    {
     "data": {
      "text/plain": [
       "<re.Match object; span=(6, 7), match=' '>"
      ]
     },
     "execution_count": 165,
     "metadata": {},
     "output_type": "execute_result"
    }
   ],
   "source": [
    "re.search(\"\\s\",\"python program\")"
   ]
  },
  {
   "cell_type": "code",
   "execution_count": 166,
   "metadata": {},
   "outputs": [],
   "source": [
    "re.search(\"^\\s\",\"python program\")"
   ]
  },
  {
   "cell_type": "code",
   "execution_count": 171,
   "metadata": {},
   "outputs": [
    {
     "data": {
      "text/plain": [
       "<re.Match object; span=(12, 18), match='sales '>"
      ]
     },
     "execution_count": 171,
     "metadata": {},
     "output_type": "execute_result"
    }
   ],
   "source": [
    "# Pattern$ - line ends with pattern\n",
    "#\n",
    "# sales$  -> asddsdsfsas sales \n",
    "#\n",
    "# ^sales -> sales sdsafasfsd\n",
    "#               \n",
    "re.search(\"sales$\",\"emp list of sales \") # notmatched \n",
    "\n",
    "re.search(\"sales\\s$\",\"emp list of sales \")\n"
   ]
  },
  {
   "cell_type": "code",
   "execution_count": 173,
   "metadata": {},
   "outputs": [
    {
     "name": "stdout",
     "output_type": "stream",
     "text": [
      "2018-05-08_15-45-04.mp4\n",
      "2018-05-09_20-51-08(0).mp4\n",
      "2018-05-09_20-51-08.mp4\n",
      "4__original.mp4\n",
      "copy.mp4\n"
     ]
    }
   ],
   "source": [
    "for var in os.listdir(\"D:\\\\\"):\n",
    "    if(re.search(\"mp4$\",var)):\n",
    "        print(var)"
   ]
  },
  {
   "cell_type": "code",
   "execution_count": null,
   "metadata": {},
   "outputs": [],
   "source": [
    "^pattern - line starts\n",
    "pattern$ - line ends \n",
    "\n",
    "^pattern$ - pattern onlystyle  # re.search(\"^pattern$\",\"input\")"
   ]
  },
  {
   "cell_type": "code",
   "execution_count": 176,
   "metadata": {},
   "outputs": [
    {
     "data": {
      "text/plain": [
       "<re.Match object; span=(0, 5), match='sales'>"
      ]
     },
     "execution_count": 176,
     "metadata": {},
     "output_type": "execute_result"
    }
   ],
   "source": [
    "re.search(\"^sales$\",\"sales\")"
   ]
  },
  {
   "cell_type": "code",
   "execution_count": 177,
   "metadata": {},
   "outputs": [
    {
     "data": {
      "text/plain": [
       "[]"
      ]
     },
     "execution_count": 177,
     "metadata": {},
     "output_type": "execute_result"
    }
   ],
   "source": [
    "# .(dot) -> match any single char (except \\n)\n",
    "# ^.. Line starts with any two chars\n",
    "# ..$  Line ends with any two chars \n",
    "\n",
    "re.findall(\"^python.program$\",\"pythonprogram\")"
   ]
  },
  {
   "cell_type": "code",
   "execution_count": 181,
   "metadata": {},
   "outputs": [
    {
     "data": {
      "text/plain": [
       "['python program']"
      ]
     },
     "execution_count": 181,
     "metadata": {},
     "output_type": "execute_result"
    }
   ],
   "source": [
    "re.findall(\"^python.program$\",\"python program\")"
   ]
  },
  {
   "cell_type": "code",
   "execution_count": 188,
   "metadata": {},
   "outputs": [
    {
     "data": {
      "text/plain": [
       "['python  program']"
      ]
     },
     "execution_count": 188,
     "metadata": {},
     "output_type": "execute_result"
    }
   ],
   "source": [
    "re.findall(\"^python..program$\",\"python  program\")\n",
    "# line starts with python followed by any two chars ends with program"
   ]
  },
  {
   "cell_type": "code",
   "execution_count": 186,
   "metadata": {},
   "outputs": [
    {
     "data": {
      "text/plain": [
       "['python asfdasfsd safsasa s program']"
      ]
     },
     "execution_count": 186,
     "metadata": {},
     "output_type": "execute_result"
    }
   ],
   "source": [
    "re.findall(\"^python.*program$\",\"python asfdasfsd safsasa s program\")"
   ]
  },
  {
   "cell_type": "code",
   "execution_count": null,
   "metadata": {},
   "outputs": [],
   "source": [
    "# Character based search\n",
    "# -----------------------\n",
    "#  A-Za-z0-9space specialchars \n",
    "#\n",
    "# [] <== 1 chars    [][] <== 2chars \n",
    "#\n",
    "# [Aav]run\n",
    "# ---------\n",
    "#   Arun arun vrun //matched \n",
    "#\n",
    "# [Aav][Rr]un\n",
    "# ---------------\n",
    "#  ARun Arun aRun arun \n",
    "#  --   --   --   --\n",
    "#\n",
    "# list outprocess -> process name ->ends with 's' 'd'\n",
    "#\n",
    "\n",
    "[a-z]\n",
    "[A-Z]\n",
    "[a-zA-Z]\n",
    "[0-9] -----> \\d\n",
    "[a-zA-Z0-9] (or) \\w\n",
    "-------------------------//builting char class "
   ]
  },
  {
   "cell_type": "code",
   "execution_count": 194,
   "metadata": {},
   "outputs": [
    {
     "name": "stdout",
     "output_type": "stream",
     "text": [
      "Enter any two digits:456\n",
      "Invalid format\n"
     ]
    }
   ],
   "source": [
    "n=input(\"Enter any two digits:\")\n",
    "if re.search(\"^[0-9][0-9]$\",n):  ###\n",
    "    print(\"Valid format\")\n",
    "else:\n",
    "    print(\"Invalid format\")"
   ]
  },
  {
   "cell_type": "code",
   "execution_count": null,
   "metadata": {},
   "outputs": [],
   "source": [
    "write a program\n",
    "read a emp code - 1st uppercase - A to E followed by any 3 digits\n",
    "       --------\n",
    "         |_length is 4chars\n",
    "read a N value from <STDIN>\n",
    "      ---------\n",
    "        |__3digits \n",
    "             |\n",
    "             isdigit() ->True/False\n",
    "                          |\n",
    "                        typecast to int ->x+100 =>display result"
   ]
  },
  {
   "cell_type": "code",
   "execution_count": 198,
   "metadata": {},
   "outputs": [
    {
     "name": "stdout",
     "output_type": "stream",
     "text": [
      "Enter a emp code:C345\n",
      "Valid\n"
     ]
    }
   ],
   "source": [
    "empcode=input(\"Enter a emp code:\")\n",
    "if re.search(\"^[A-E][0-9][0-9][0-9]$\",empcode):\n",
    "    print(\"Valid\")\n",
    "else:\n",
    "    print(\"Invalid\")"
   ]
  },
  {
   "cell_type": "code",
   "execution_count": 202,
   "metadata": {},
   "outputs": [
    {
     "name": "stdout",
     "output_type": "stream",
     "text": [
      "Enter any 3 digits:234\n",
      "334\n"
     ]
    }
   ],
   "source": [
    "n=input(\"Enter any 3 digits:\")\n",
    "if re.search(\"^[0-9][0-9][0-9]$\",n):\n",
    "    if(n.isdigit()):\n",
    "        print(int(n)+100)\n",
    "else:\n",
    "    print(\"Invalid Format\")"
   ]
  },
  {
   "cell_type": "code",
   "execution_count": null,
   "metadata": {},
   "outputs": [],
   "source": [
    "[aT5] -> match 'a' match 'T' match '5'\n",
    "\n",
    "^[aT5] -> line starts with 'a'\n",
    "          line starts with 'T'\n",
    "          line starts with '5'\n",
    "    \n",
    "[^aT5] -> NOT matching matching 'a' 'T' '5'\n",
    "          ===\n",
    "[^A-Z] ->Not matching any uppercase chars Vs ^[A-Z] line startswith Any uppercase \n",
    "=======                                      ======\n",
    "\n",
    "[^A-Za-z] - match space,digits,specialchars \n",
    "\n",
    "[^A-Za-z0-9] - match space and specialchars \n",
    "\n",
    "[^A-Za-z0-9\\s] - match specialchars <== [^\\w\\s]\n"
   ]
  },
  {
   "cell_type": "code",
   "execution_count": 203,
   "metadata": {},
   "outputs": [
    {
     "data": {
      "text/plain": [
       "[':', '-', '%', '@']"
      ]
     },
     "execution_count": 203,
     "metadata": {},
     "output_type": "execute_result"
    }
   ],
   "source": [
    "var=\"SAMPLE Data On 12th OCT 2020 code:F123 test-rate 12% email@host\"\n",
    "\n",
    "re.findall(\"[^\\w\\s]\",var)"
   ]
  },
  {
   "cell_type": "code",
   "execution_count": null,
   "metadata": {},
   "outputs": [],
   "source": [
    "^$ - empty line\n",
    "\n",
    "^pattern\n",
    "pattern$\n",
    "^pattern$\n",
    ".\n",
    ".*\n",
    "[]\n",
    "^[]\n",
    "[]$\n",
    "[^]\n",
    "\\d [0-9]\n",
    "\\w [A-Za-z0-9]\n",
    "\\s space\n",
    "^$ empty line\n",
    "---------------------//BRE\n",
    "\n",
    "|  \n",
    "pattern1|pattern2  //any one pattern is matched ->True -like logical or operator \n",
    "\n",
    "\n",
    "re.search(\"^[0-9].*\\s$\",S1)\n",
    "\n",
    "re.search(\"^[A-Z].*daemon.*[a-z]$\",S2)\n",
    "\n",
    "re.search(\"^[0-9].*\\s$|^[A-Z].*daemon.*[a-z]$\",input_String)\n",
    "          |----------------------------------|\n",
    "          |                                  |"
   ]
  },
  {
   "cell_type": "code",
   "execution_count": 205,
   "metadata": {},
   "outputs": [
    {
     "data": {
      "text/plain": [
       "['python', 'java']"
      ]
     },
     "execution_count": 205,
     "metadata": {},
     "output_type": "execute_result"
    }
   ],
   "source": [
    "var=\"programming python and java codes\"\n",
    "\n",
    "re.findall(\"python|java|oracle\",var)"
   ]
  },
  {
   "cell_type": "code",
   "execution_count": 206,
   "metadata": {},
   "outputs": [
    {
     "data": {
      "text/plain": [
       "['java']"
      ]
     },
     "execution_count": 206,
     "metadata": {},
     "output_type": "execute_result"
    }
   ],
   "source": [
    "re.findall(\"ansible|java|oracle\",var)"
   ]
  },
  {
   "cell_type": "code",
   "execution_count": 207,
   "metadata": {},
   "outputs": [
    {
     "data": {
      "text/plain": [
       "[]"
      ]
     },
     "execution_count": 207,
     "metadata": {},
     "output_type": "execute_result"
    }
   ],
   "source": [
    "re.findall(\"ansible|ruby|oracle\",var)"
   ]
  },
  {
   "cell_type": "code",
   "execution_count": null,
   "metadata": {},
   "outputs": [],
   "source": [
    "(pattern1)(Pattern2) - both pattern should match ->same order \n",
    "                     - like logical and   True and True ->True \n"
   ]
  },
  {
   "cell_type": "code",
   "execution_count": 208,
   "metadata": {},
   "outputs": [
    {
     "data": {
      "text/plain": [
       "[]"
      ]
     },
     "execution_count": 208,
     "metadata": {},
     "output_type": "execute_result"
    }
   ],
   "source": [
    "re.findall(\"(python)(java)\",\"programming python and java\")"
   ]
  },
  {
   "cell_type": "code",
   "execution_count": 209,
   "metadata": {},
   "outputs": [
    {
     "data": {
      "text/plain": [
       "[]"
      ]
     },
     "execution_count": 209,
     "metadata": {},
     "output_type": "execute_result"
    }
   ],
   "source": [
    "re.findall(\"(python)(java)\",\"programming python java\")"
   ]
  },
  {
   "cell_type": "code",
   "execution_count": 210,
   "metadata": {},
   "outputs": [
    {
     "data": {
      "text/plain": [
       "[('python', 'java')]"
      ]
     },
     "execution_count": 210,
     "metadata": {},
     "output_type": "execute_result"
    }
   ],
   "source": [
    "re.findall(\"(python).(java)\",\"programming python java\")\n",
    "            # python<Space>java"
   ]
  },
  {
   "cell_type": "code",
   "execution_count": 211,
   "metadata": {},
   "outputs": [
    {
     "data": {
      "text/plain": [
       "[]"
      ]
     },
     "execution_count": 211,
     "metadata": {},
     "output_type": "execute_result"
    }
   ],
   "source": [
    "re.findall(\"(python).(java)\",\"programming java python\")"
   ]
  },
  {
   "cell_type": "code",
   "execution_count": 212,
   "metadata": {},
   "outputs": [
    {
     "data": {
      "text/plain": [
       "[('python', 'java')]"
      ]
     },
     "execution_count": 212,
     "metadata": {},
     "output_type": "execute_result"
    }
   ],
   "source": [
    "re.findall(\"(python).*(java)\",\"programming python list of code and java\")"
   ]
  },
  {
   "cell_type": "code",
   "execution_count": 213,
   "metadata": {},
   "outputs": [
    {
     "data": {
      "text/plain": [
       "[('python', ' list of code and ', 'java')]"
      ]
     },
     "execution_count": 213,
     "metadata": {},
     "output_type": "execute_result"
    }
   ],
   "source": [
    "re.findall(\"(python)(.*)(java)\",\"programming python list of code and java\")"
   ]
  },
  {
   "cell_type": "code",
   "execution_count": 216,
   "metadata": {},
   "outputs": [
    {
     "data": {
      "text/plain": [
       "[('java', 'program')]"
      ]
     },
     "execution_count": 216,
     "metadata": {},
     "output_type": "execute_result"
    }
   ],
   "source": [
    "re.findall(\"(python|java|ruby).*(program|script)\",\"programming sample java program code\")\n",
    "\n",
    "# python <AnyText>program\n",
    "# python <AnyText>script\n",
    "# java <AnyText>program\n",
    "# java <AnyText>script\n",
    "# ruby <AnyText>program\n",
    "# ruby <AnyText>script\n"
   ]
  },
  {
   "cell_type": "code",
   "execution_count": null,
   "metadata": {},
   "outputs": [],
   "source": [
    "<Pattern>+  # 1 or more \n",
    " b+   b bbbbbbbbbbbbbbbb //matched\n",
    "    \n",
    "ab+   ab abbbbbbbbbbbbbbbb //matched \n",
    "\n",
    "ab+c  abc abbbbbbbbbbbbbbbbbbc //matched "
   ]
  },
  {
   "cell_type": "code",
   "execution_count": 220,
   "metadata": {},
   "outputs": [
    {
     "data": {
      "text/plain": [
       "['5', '12', '2020', '11', '20', '34', '233', '32', '43']"
      ]
     },
     "execution_count": 220,
     "metadata": {},
     "output_type": "execute_result"
    }
   ],
   "source": [
    "S='SAMPLE 5REPORT On 12th SEP 2020 TIME @ 11:20:34 PM IST code-233/32:43'\n",
    "re.findall(\"[0-9]+\",S)"
   ]
  },
  {
   "cell_type": "code",
   "execution_count": 223,
   "metadata": {},
   "outputs": [
    {
     "data": {
      "text/plain": [
       "['5REPORT', '12th']"
      ]
     },
     "execution_count": 223,
     "metadata": {},
     "output_type": "execute_result"
    }
   ],
   "source": [
    "re.findall(\"[0-9]+[A-Za-z]+\",S)"
   ]
  },
  {
   "cell_type": "code",
   "execution_count": null,
   "metadata": {},
   "outputs": [],
   "source": [
    "re.search(\"^\\s+\",inputstring)"
   ]
  },
  {
   "cell_type": "code",
   "execution_count": null,
   "metadata": {},
   "outputs": [],
   "source": [
    "\"[0-9]+\"  -> 12331233213211313131231231231212 //matched \n",
    "\n",
    "\"[0-9]+\"  ->12331312312312,123212131 //notmatched "
   ]
  },
  {
   "cell_type": "code",
   "execution_count": null,
   "metadata": {},
   "outputs": [],
   "source": [
    "{} \n",
    "<Pattern>{n} -  n times \n",
    "<Pattern>{n,} - minimum 'n' times - maximum nolimit \n",
    "<Pattern>{n,m} - minimum 'n' times - maximum 'm'times\n"
   ]
  },
  {
   "cell_type": "code",
   "execution_count": null,
   "metadata": {},
   "outputs": [],
   "source": [
    "^[A-Z][0-9][0-9][0-9][a-z][a-z]$ same as -> ^[A-Z][0-9]{3}[a-z]{2}$\n",
    "---------------------------------           =======================\n",
    "\n",
    "^[A-Z][a-z]+$  ---> ^[A-Z][a-z]{1,}$ \n",
    "               \n",
    "[0-9]{1,} -> 1 23324234232323423234 \n",
    "[0-9]{3,} -> 434 345353453453453453434//matched \n",
    "----------\n",
    "\n"
   ]
  },
  {
   "cell_type": "code",
   "execution_count": null,
   "metadata": {},
   "outputs": [],
   "source": [
    "^[A-Za-z][0-9]{2,4}[a-z]$\n",
    "         ----------\n",
    "A45s\n",
    "a65g\n",
    "B34h\n",
    "G456y\n",
    "G4345h\n",
    "----------//matched \n",
    "\n",
    "A5f \n",
    "A12345g\n",
    "---------//not-Matched \n",
    "\n",
    "user@hostname.com\n",
    "\n",
    "for var in open(\"filename\"):\n",
    "    if re.search(\"^[A-Za-z0-9_]+@[a-zA-Z0-9]+\\.com$\",var):\n",
    "        print(var.strip())"
   ]
  },
  {
   "cell_type": "code",
   "execution_count": null,
   "metadata": {},
   "outputs": [],
   "source": [
    "re.sub()\n",
    "----------\n",
    " |->oldpattern ->replaced newstring\n",
    "    \n",
    "re.sub(\"OldPattern\",\"ReplacedString\",\"InputString\",count,re.I) ->string(str)\n",
    "          Regx"
   ]
  },
  {
   "cell_type": "code",
   "execution_count": 224,
   "metadata": {},
   "outputs": [
    {
     "data": {
      "text/plain": [
       "'101,ram,QA,pune,1000'"
      ]
     },
     "execution_count": 224,
     "metadata": {},
     "output_type": "execute_result"
    }
   ],
   "source": [
    "re.sub(\"sales\",\"QA\",\"101,ram,sales,pune,1000\")"
   ]
  },
  {
   "cell_type": "code",
   "execution_count": 225,
   "metadata": {},
   "outputs": [
    {
     "data": {
      "text/plain": [
       "'101,ram,prod,pune,1000'"
      ]
     },
     "execution_count": 225,
     "metadata": {},
     "output_type": "execute_result"
    }
   ],
   "source": [
    "re.sub(\"sales\",\"QA\",\"101,ram,prod,pune,1000\")"
   ]
  },
  {
   "cell_type": "code",
   "execution_count": 226,
   "metadata": {},
   "outputs": [
    {
     "name": "stdout",
     "output_type": "stream",
     "text": [
      "101,ram,ADMIN,pune,10000\n",
      "203,arun,prod,bglore,2000\n",
      "304,vijay,QA,chennai,30000\n",
      "545,xerox,ADMIN,mumbai,34234\n",
      "456,anu,ADMIN,noida,56780\n"
     ]
    }
   ],
   "source": [
    "for v in open(\"C:\\\\users\\\\karthikeyan\\\\emp.csv\"):\n",
    "    s=re.sub(\"sales\",\"ADMIN\",v)\n",
    "    print(s.strip())"
   ]
  },
  {
   "cell_type": "code",
   "execution_count": 227,
   "metadata": {},
   "outputs": [
    {
     "name": "stdout",
     "output_type": "stream",
     "text": [
      "101,ram,ADMIN,pune,10000\n",
      "545,xerox,ADMIN,mumbai,34234\n",
      "456,anu,ADMIN,noida,56780\n"
     ]
    }
   ],
   "source": [
    "for v in open(\"C:\\\\users\\\\karthikeyan\\\\emp.csv\"):\n",
    "    if(re.search(\"sales\",v)):\n",
    "        s=re.sub(\"sales\",\"ADMIN\",v)\n",
    "        print(s.strip())"
   ]
  },
  {
   "cell_type": "code",
   "execution_count": 228,
   "metadata": {},
   "outputs": [
    {
     "data": {
      "text/plain": [
       "'ram,sales,pune'"
      ]
     },
     "execution_count": 228,
     "metadata": {},
     "output_type": "execute_result"
    }
   ],
   "source": [
    "re.sub(\"^sales\",\"ADMIN\",\"ram,sales,pune\")\n",
    "      # REGX"
   ]
  },
  {
   "cell_type": "code",
   "execution_count": 229,
   "metadata": {},
   "outputs": [
    {
     "data": {
      "text/plain": [
       "'101,kumar,****,1234'"
      ]
     },
     "execution_count": 229,
     "metadata": {},
     "output_type": "execute_result"
    }
   ],
   "source": [
    "s1=\"101,kumar,prod,1234\"\n",
    "s2='455,anu,sales,3455'\n",
    "re.sub(\"sales|prod\",\"****\",s1)"
   ]
  },
  {
   "cell_type": "code",
   "execution_count": 230,
   "metadata": {},
   "outputs": [
    {
     "data": {
      "text/plain": [
       "'455,anu,****,3455'"
      ]
     },
     "execution_count": 230,
     "metadata": {},
     "output_type": "execute_result"
    }
   ],
   "source": [
    "re.sub(\"sales|prod\",\"****\",s2)"
   ]
  },
  {
   "cell_type": "code",
   "execution_count": 231,
   "metadata": {},
   "outputs": [
    {
     "data": {
      "text/plain": [
       "'kumar,ADMIN,pune,ADMIN,1123,ADMIN,code,ADMIN'"
      ]
     },
     "execution_count": 231,
     "metadata": {},
     "output_type": "execute_result"
    }
   ],
   "source": [
    "re.sub(\"sales\",\"ADMIN\",\"kumar,sales,pune,sales,1123,sales,code,sales\")"
   ]
  },
  {
   "cell_type": "code",
   "execution_count": 233,
   "metadata": {},
   "outputs": [
    {
     "data": {
      "text/plain": [
       "'kumar,ADMIN,pune,sales,1123,sales,code,sales'"
      ]
     },
     "execution_count": 233,
     "metadata": {},
     "output_type": "execute_result"
    }
   ],
   "source": [
    "#help(re.sub)\n",
    "re.sub(\"sales\",\"ADMIN\",\"kumar,sales,pune,sales,1123,sales,code,sales\",1)"
   ]
  },
  {
   "cell_type": "code",
   "execution_count": 234,
   "metadata": {},
   "outputs": [
    {
     "data": {
      "text/plain": [
       "'kumar,ADMIN,pune,ADMIN,1123,sales,code,sales'"
      ]
     },
     "execution_count": 234,
     "metadata": {},
     "output_type": "execute_result"
    }
   ],
   "source": [
    "\n",
    "re.sub(\"sales\",\"ADMIN\",\"kumar,sales,pune,sales,1123,sales,code,sales\",2)"
   ]
  },
  {
   "cell_type": "code",
   "execution_count": 236,
   "metadata": {},
   "outputs": [
    {
     "data": {
      "text/plain": [
       "'kumar,****,****,pune'"
      ]
     },
     "execution_count": 236,
     "metadata": {},
     "output_type": "execute_result"
    }
   ],
   "source": [
    "re.sub(\"sales\",\"****\",\"kumar,sales,SALES,pune\",0,re.I)"
   ]
  },
  {
   "cell_type": "code",
   "execution_count": 240,
   "metadata": {},
   "outputs": [
    {
     "name": "stdout",
     "output_type": "stream",
     "text": [
      "interface='NEWETH0'\n",
      "\n"
     ]
    }
   ],
   "source": [
    "for var in open(\"D:\\\\property\"):\n",
    "    if(re.search(\"interface\",var)):\n",
    "        print(re.sub('eth0','NEWETH0',var))"
   ]
  },
  {
   "cell_type": "code",
   "execution_count": 243,
   "metadata": {},
   "outputs": [
    {
     "name": "stdout",
     "output_type": "stream",
     "text": [
      "101,kumar,pune,10000\n"
     ]
    }
   ],
   "source": [
    "var=\"101,kumar,sales,pune,10000\"\n",
    "\n",
    "# delete sales word \n",
    "#        -----\n",
    "s=re.sub(\"sales.\",\"\",var)\n",
    "print(s)"
   ]
  },
  {
   "cell_type": "code",
   "execution_count": 245,
   "metadata": {},
   "outputs": [
    {
     "data": {
      "text/plain": [
       "'101,kumar'"
      ]
     },
     "execution_count": 245,
     "metadata": {},
     "output_type": "execute_result"
    }
   ],
   "source": [
    "re.sub(\".sales.*\",'',var)"
   ]
  },
  {
   "cell_type": "code",
   "execution_count": 249,
   "metadata": {},
   "outputs": [
    {
     "data": {
      "text/plain": [
       "'13.54'"
      ]
     },
     "execution_count": 249,
     "metadata": {},
     "output_type": "execute_result"
    }
   ],
   "source": [
    "L=['13.54GB','434.GB','100.35MB','134.50GB','125G']\n",
    "\n",
    "# how to calculate sum of size?\n",
    "\n",
    "# '13.54GB' --> '13.54' ->float('13.54') ->13.54 \n",
    "#       --\n",
    "\n",
    "s='13.54GB'\n",
    "# re.sub('..$','',s)\n",
    "\n",
    "re.sub('[A-Za-z]+','',s)"
   ]
  },
  {
   "cell_type": "code",
   "execution_count": 254,
   "metadata": {},
   "outputs": [
    {
     "name": "stdout",
     "output_type": "stream",
     "text": [
      "Sum of Size:807.39 GB\n"
     ]
    }
   ],
   "source": [
    "L=['13.54GB','434.GB','100.35GB','134.50GB','125G']\n",
    "s=0\n",
    "for var in L:\n",
    "    r=re.sub('[A-Za-z]+','',var)\n",
    "    s=float(r)+s\n",
    "else:\n",
    "    print(\"Sum of Size:{} GB\".format(s))"
   ]
  },
  {
   "cell_type": "code",
   "execution_count": 268,
   "metadata": {},
   "outputs": [
    {
     "name": "stdout",
     "output_type": "stream",
     "text": [
      "807.39 GB\n"
     ]
    }
   ],
   "source": [
    "from functools import reduce\n",
    "def fx(a):\n",
    "    return re.sub(\"['A-Za-z']\",'',a)\n",
    "    \n",
    "    \n",
    "print(str(reduce(lambda a,b:float(a)+float(b),list(map(fx,L))))+\" GB\")"
   ]
  },
  {
   "cell_type": "code",
   "execution_count": 269,
   "metadata": {},
   "outputs": [
    {
     "data": {
      "text/plain": [
       "['root', 'x', 'bin', 'bash']"
      ]
     },
     "execution_count": 269,
     "metadata": {},
     "output_type": "execute_result"
    }
   ],
   "source": [
    "# in unix/linux awk ---> re.split() Vs string.split()\n",
    "\n",
    "s=\"root:x:bin:bash\"\n",
    "s.split(\":\")"
   ]
  },
  {
   "cell_type": "code",
   "execution_count": 270,
   "metadata": {},
   "outputs": [
    {
     "data": {
      "text/plain": [
       "['root', 'x', 'bin', 'bash']"
      ]
     },
     "execution_count": 270,
     "metadata": {},
     "output_type": "execute_result"
    }
   ],
   "source": [
    "# re.split(\"Pattern\",\"inputString\") ->[ result ]\n",
    "# \n",
    "\n",
    "re.split(\":\",s)"
   ]
  },
  {
   "cell_type": "code",
   "execution_count": 271,
   "metadata": {},
   "outputs": [
    {
     "data": {
      "text/plain": [
       "['101,kumar', '/bin/bash-Linux', '1234@hostname,test']"
      ]
     },
     "execution_count": 271,
     "metadata": {},
     "output_type": "execute_result"
    }
   ],
   "source": [
    "s='101,kumar:/bin/bash-Linux:1234@hostname,test'\n",
    "s.split(\":\")"
   ]
  },
  {
   "cell_type": "code",
   "execution_count": 272,
   "metadata": {},
   "outputs": [
    {
     "data": {
      "text/plain": [
       "[',', ':', '/', '/', '-', ':', '@', ',']"
      ]
     },
     "execution_count": 272,
     "metadata": {},
     "output_type": "execute_result"
    }
   ],
   "source": [
    "re.findall(\"[^\\w\\s]\",s)"
   ]
  },
  {
   "cell_type": "code",
   "execution_count": 274,
   "metadata": {},
   "outputs": [
    {
     "data": {
      "text/plain": [
       "['101', 'kumar', 'bin', 'bash', 'Linux', '1234', 'hostname', 'test']"
      ]
     },
     "execution_count": 274,
     "metadata": {},
     "output_type": "execute_result"
    }
   ],
   "source": [
    "re.split(\"[^\\w\\s]+\",s)"
   ]
  },
  {
   "cell_type": "code",
   "execution_count": 281,
   "metadata": {
    "scrolled": true
   },
   "outputs": [
    {
     "name": "stdout",
     "output_type": "stream",
     "text": [
      "Total no.of fields: 3\t 101\tbash\n",
      "Total no.of fields: 3\t 102\tksh\n",
      "Total no.of fields: 3\t 103\tcsh\n",
      "Total no.of fields: 3\t 104\ttcsh\n",
      "Total no.of fields: 3\t 105\tbash\n"
     ]
    }
   ],
   "source": [
    "for v in open(\"D:\\\\IP.txt\"):\n",
    "    L=re.split(\"[^\\w\\s]+\",v)\n",
    "    print(\"Total no.of fields: {}\\t {}\\t{}\".format(len(L),L[0],L[-1].strip()))"
   ]
  },
  {
   "cell_type": "code",
   "execution_count": null,
   "metadata": {},
   "outputs": [],
   "source": [
    "re.search() ; re.findall() # searching pattern \n",
    "re.sub() ; # substitute \n",
    "re.split() ; split single data to multiple value - formatting\n",
    "                                  ############### list \n",
    "re.compile(\"PAtternOnly\")"
   ]
  },
  {
   "cell_type": "code",
   "execution_count": 282,
   "metadata": {},
   "outputs": [
    {
     "data": {
      "text/plain": [
       "<re.Match object; span=(6, 11), match='sales'>"
      ]
     },
     "execution_count": 282,
     "metadata": {},
     "output_type": "execute_result"
    }
   ],
   "source": [
    "re.search(\"sales\",\"kumar,sales,pune\")"
   ]
  },
  {
   "cell_type": "code",
   "execution_count": 285,
   "metadata": {},
   "outputs": [
    {
     "data": {
      "text/plain": [
       "<re.Match object; span=(6, 11), match='sales'>"
      ]
     },
     "execution_count": 285,
     "metadata": {},
     "output_type": "execute_result"
    }
   ],
   "source": [
    "pobj=re.compile(\"sales\")\n",
    "pobj.search(\"kumar,sales,pune\") \n",
    "#obj.f1() -> f1(obj)\n",
    "#obj.f1(\"inputdata\") -> f1(obj,\"inputdata\")"
   ]
  },
  {
   "cell_type": "code",
   "execution_count": 288,
   "metadata": {},
   "outputs": [
    {
     "data": {
      "text/plain": [
       "['sales', 'sales']"
      ]
     },
     "execution_count": 288,
     "metadata": {},
     "output_type": "execute_result"
    }
   ],
   "source": [
    "pobj.findall(\"kumar,sales,salespune\")"
   ]
  },
  {
   "cell_type": "code",
   "execution_count": 287,
   "metadata": {},
   "outputs": [
    {
     "data": {
      "text/plain": [
       "['asdsfs ', ' asfsd', ' sdfsd', ' sadfasd']"
      ]
     },
     "execution_count": 287,
     "metadata": {},
     "output_type": "execute_result"
    }
   ],
   "source": [
    "pobj.split(\"asdsfs sales asfsdsales sdfsdsales sadfasd\")"
   ]
  }
 ],
 "metadata": {
  "kernelspec": {
   "display_name": "Python 3",
   "language": "python",
   "name": "python3"
  },
  "language_info": {
   "codemirror_mode": {
    "name": "ipython",
    "version": 3
   },
   "file_extension": ".py",
   "mimetype": "text/x-python",
   "name": "python",
   "nbconvert_exporter": "python",
   "pygments_lexer": "ipython3",
   "version": "3.8.5"
  }
 },
 "nbformat": 4,
 "nbformat_minor": 4
}
